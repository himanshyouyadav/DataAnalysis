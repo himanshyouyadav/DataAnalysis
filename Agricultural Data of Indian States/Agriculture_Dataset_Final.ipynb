{
  "nbformat": 4,
  "nbformat_minor": 0,
  "metadata": {
    "colab": {
      "provenance": []
    },
    "kernelspec": {
      "name": "python3",
      "display_name": "Python 3"
    },
    "language_info": {
      "name": "python"
    }
  },
  "cells": [
    {
      "cell_type": "code",
      "execution_count": null,
      "metadata": {
        "id": "351b8695"
      },
      "outputs": [],
      "source": [
        "import pandas as pd\n",
        "import numpy as np\n",
        "import matplotlib.pyplot as plt\n",
        "import seaborn as sns"
      ]
    },
    {
      "cell_type": "code",
      "source": [
        "from google.colab import drive\n",
        "drive.mount('/content/drive')"
      ],
      "metadata": {
        "id": "KURDF3yNPROg",
        "colab": {
          "base_uri": "https://localhost:8080/"
        },
        "outputId": "2aed99a3-73e6-4c0d-9e8a-e266229c47e3"
      },
      "execution_count": null,
      "outputs": [
        {
          "output_type": "stream",
          "name": "stdout",
          "text": [
            "Mounted at /content/drive\n"
          ]
        }
      ]
    },
    {
      "cell_type": "markdown",
      "source": [
        "\n",
        "# DATA LOADING AND IMPUTATION"
      ],
      "metadata": {
        "id": "DpPtTvkHAwzM"
      }
    },
    {
      "cell_type": "code",
      "execution_count": null,
      "metadata": {
        "id": "4bd1a230"
      },
      "outputs": [],
      "source": [
        "crop_ds = pd.read_csv(\"/content/drive/MyDrive/Datasets/crop.csv\")"
      ]
    },
    {
      "cell_type": "code",
      "execution_count": null,
      "metadata": {
        "id": "a9db2514"
      },
      "outputs": [],
      "source": [
        "crop_ds.dtypes\n",
        "attr_lst = [\"State_Name\",\"Crop\",\"Season\",\"District_Name\"]\n",
        "for attr in attr_lst:\n",
        "  crop_ds[attr] = crop_ds[attr].str.strip()"
      ]
    },
    {
      "cell_type": "code",
      "source": [
        "crop_ds.isna().mean()"
      ],
      "metadata": {
        "colab": {
          "base_uri": "https://localhost:8080/"
        },
        "id": "t7-Mgm0S_ANv",
        "outputId": "9c9a9391-92db-4c82-b68c-9610c63c1e85"
      },
      "execution_count": null,
      "outputs": [
        {
          "output_type": "execute_result",
          "data": {
            "text/plain": [
              "State_Name       0.000000\n",
              "District_Name    0.000000\n",
              "Crop_Year        0.000000\n",
              "Season           0.000000\n",
              "Crop             0.000000\n",
              "Area             0.000000\n",
              "Production       0.015157\n",
              "dtype: float64"
            ]
          },
          "metadata": {},
          "execution_count": 5
        }
      ]
    },
    {
      "cell_type": "code",
      "source": [
        "crop_ds[crop_ds.isna().any(axis=1)]"
      ],
      "metadata": {
        "colab": {
          "base_uri": "https://localhost:8080/",
          "height": 423
        },
        "id": "H2z1l4vz_bvO",
        "outputId": "dcf74bc2-30f3-4c2f-c00b-faef5b14140d"
      },
      "execution_count": null,
      "outputs": [
        {
          "output_type": "execute_result",
          "data": {
            "text/html": [
              "\n",
              "  <div id=\"df-647e59a5-81f1-45d8-a317-cef970b16e25\">\n",
              "    <div class=\"colab-df-container\">\n",
              "      <div>\n",
              "<style scoped>\n",
              "    .dataframe tbody tr th:only-of-type {\n",
              "        vertical-align: middle;\n",
              "    }\n",
              "\n",
              "    .dataframe tbody tr th {\n",
              "        vertical-align: top;\n",
              "    }\n",
              "\n",
              "    .dataframe thead th {\n",
              "        text-align: right;\n",
              "    }\n",
              "</style>\n",
              "<table border=\"1\" class=\"dataframe\">\n",
              "  <thead>\n",
              "    <tr style=\"text-align: right;\">\n",
              "      <th></th>\n",
              "      <th>State_Name</th>\n",
              "      <th>District_Name</th>\n",
              "      <th>Crop_Year</th>\n",
              "      <th>Season</th>\n",
              "      <th>Crop</th>\n",
              "      <th>Area</th>\n",
              "      <th>Production</th>\n",
              "    </tr>\n",
              "  </thead>\n",
              "  <tbody>\n",
              "    <tr>\n",
              "      <th>46</th>\n",
              "      <td>Andaman and Nicobar Islands</td>\n",
              "      <td>NICOBARS</td>\n",
              "      <td>2005</td>\n",
              "      <td>Whole Year</td>\n",
              "      <td>Arecanut</td>\n",
              "      <td>795.67</td>\n",
              "      <td>NaN</td>\n",
              "    </tr>\n",
              "    <tr>\n",
              "      <th>51</th>\n",
              "      <td>Andaman and Nicobar Islands</td>\n",
              "      <td>NICOBARS</td>\n",
              "      <td>2005</td>\n",
              "      <td>Whole Year</td>\n",
              "      <td>Dry chillies</td>\n",
              "      <td>17.00</td>\n",
              "      <td>NaN</td>\n",
              "    </tr>\n",
              "    <tr>\n",
              "      <th>623</th>\n",
              "      <td>Andhra Pradesh</td>\n",
              "      <td>ANANTAPUR</td>\n",
              "      <td>2007</td>\n",
              "      <td>Kharif</td>\n",
              "      <td>Moong(Green Gram)</td>\n",
              "      <td>1000.00</td>\n",
              "      <td>NaN</td>\n",
              "    </tr>\n",
              "    <tr>\n",
              "      <th>630</th>\n",
              "      <td>Andhra Pradesh</td>\n",
              "      <td>ANANTAPUR</td>\n",
              "      <td>2007</td>\n",
              "      <td>Rabi</td>\n",
              "      <td>Horse-gram</td>\n",
              "      <td>1000.00</td>\n",
              "      <td>NaN</td>\n",
              "    </tr>\n",
              "    <tr>\n",
              "      <th>698</th>\n",
              "      <td>Andhra Pradesh</td>\n",
              "      <td>ANANTAPUR</td>\n",
              "      <td>2009</td>\n",
              "      <td>Rabi</td>\n",
              "      <td>Rapeseed &amp;Mustard</td>\n",
              "      <td>8.00</td>\n",
              "      <td>NaN</td>\n",
              "    </tr>\n",
              "    <tr>\n",
              "      <th>...</th>\n",
              "      <td>...</td>\n",
              "      <td>...</td>\n",
              "      <td>...</td>\n",
              "      <td>...</td>\n",
              "      <td>...</td>\n",
              "      <td>...</td>\n",
              "      <td>...</td>\n",
              "    </tr>\n",
              "    <tr>\n",
              "      <th>244128</th>\n",
              "      <td>West Bengal</td>\n",
              "      <td>MEDINIPUR WEST</td>\n",
              "      <td>2010</td>\n",
              "      <td>Rabi</td>\n",
              "      <td>Peas &amp; beans (Pulses)</td>\n",
              "      <td>2.00</td>\n",
              "      <td>NaN</td>\n",
              "    </tr>\n",
              "    <tr>\n",
              "      <th>244581</th>\n",
              "      <td>West Bengal</td>\n",
              "      <td>MURSHIDABAD</td>\n",
              "      <td>2006</td>\n",
              "      <td>Kharif</td>\n",
              "      <td>Moong(Green Gram)</td>\n",
              "      <td>200.00</td>\n",
              "      <td>NaN</td>\n",
              "    </tr>\n",
              "    <tr>\n",
              "      <th>245606</th>\n",
              "      <td>West Bengal</td>\n",
              "      <td>PURULIA</td>\n",
              "      <td>2001</td>\n",
              "      <td>Rabi</td>\n",
              "      <td>Rapeseed &amp;Mustard</td>\n",
              "      <td>427.00</td>\n",
              "      <td>NaN</td>\n",
              "    </tr>\n",
              "    <tr>\n",
              "      <th>245644</th>\n",
              "      <td>West Bengal</td>\n",
              "      <td>PURULIA</td>\n",
              "      <td>2002</td>\n",
              "      <td>Rabi</td>\n",
              "      <td>Rapeseed &amp;Mustard</td>\n",
              "      <td>522.00</td>\n",
              "      <td>NaN</td>\n",
              "    </tr>\n",
              "    <tr>\n",
              "      <th>245865</th>\n",
              "      <td>West Bengal</td>\n",
              "      <td>PURULIA</td>\n",
              "      <td>2008</td>\n",
              "      <td>Rabi</td>\n",
              "      <td>Khesari</td>\n",
              "      <td>2.00</td>\n",
              "      <td>NaN</td>\n",
              "    </tr>\n",
              "  </tbody>\n",
              "</table>\n",
              "<p>3730 rows × 7 columns</p>\n",
              "</div>\n",
              "      <button class=\"colab-df-convert\" onclick=\"convertToInteractive('df-647e59a5-81f1-45d8-a317-cef970b16e25')\"\n",
              "              title=\"Convert this dataframe to an interactive table.\"\n",
              "              style=\"display:none;\">\n",
              "        \n",
              "  <svg xmlns=\"http://www.w3.org/2000/svg\" height=\"24px\"viewBox=\"0 0 24 24\"\n",
              "       width=\"24px\">\n",
              "    <path d=\"M0 0h24v24H0V0z\" fill=\"none\"/>\n",
              "    <path d=\"M18.56 5.44l.94 2.06.94-2.06 2.06-.94-2.06-.94-.94-2.06-.94 2.06-2.06.94zm-11 1L8.5 8.5l.94-2.06 2.06-.94-2.06-.94L8.5 2.5l-.94 2.06-2.06.94zm10 10l.94 2.06.94-2.06 2.06-.94-2.06-.94-.94-2.06-.94 2.06-2.06.94z\"/><path d=\"M17.41 7.96l-1.37-1.37c-.4-.4-.92-.59-1.43-.59-.52 0-1.04.2-1.43.59L10.3 9.45l-7.72 7.72c-.78.78-.78 2.05 0 2.83L4 21.41c.39.39.9.59 1.41.59.51 0 1.02-.2 1.41-.59l7.78-7.78 2.81-2.81c.8-.78.8-2.07 0-2.86zM5.41 20L4 18.59l7.72-7.72 1.47 1.35L5.41 20z\"/>\n",
              "  </svg>\n",
              "      </button>\n",
              "      \n",
              "  <style>\n",
              "    .colab-df-container {\n",
              "      display:flex;\n",
              "      flex-wrap:wrap;\n",
              "      gap: 12px;\n",
              "    }\n",
              "\n",
              "    .colab-df-convert {\n",
              "      background-color: #E8F0FE;\n",
              "      border: none;\n",
              "      border-radius: 50%;\n",
              "      cursor: pointer;\n",
              "      display: none;\n",
              "      fill: #1967D2;\n",
              "      height: 32px;\n",
              "      padding: 0 0 0 0;\n",
              "      width: 32px;\n",
              "    }\n",
              "\n",
              "    .colab-df-convert:hover {\n",
              "      background-color: #E2EBFA;\n",
              "      box-shadow: 0px 1px 2px rgba(60, 64, 67, 0.3), 0px 1px 3px 1px rgba(60, 64, 67, 0.15);\n",
              "      fill: #174EA6;\n",
              "    }\n",
              "\n",
              "    [theme=dark] .colab-df-convert {\n",
              "      background-color: #3B4455;\n",
              "      fill: #D2E3FC;\n",
              "    }\n",
              "\n",
              "    [theme=dark] .colab-df-convert:hover {\n",
              "      background-color: #434B5C;\n",
              "      box-shadow: 0px 1px 3px 1px rgba(0, 0, 0, 0.15);\n",
              "      filter: drop-shadow(0px 1px 2px rgba(0, 0, 0, 0.3));\n",
              "      fill: #FFFFFF;\n",
              "    }\n",
              "  </style>\n",
              "\n",
              "      <script>\n",
              "        const buttonEl =\n",
              "          document.querySelector('#df-647e59a5-81f1-45d8-a317-cef970b16e25 button.colab-df-convert');\n",
              "        buttonEl.style.display =\n",
              "          google.colab.kernel.accessAllowed ? 'block' : 'none';\n",
              "\n",
              "        async function convertToInteractive(key) {\n",
              "          const element = document.querySelector('#df-647e59a5-81f1-45d8-a317-cef970b16e25');\n",
              "          const dataTable =\n",
              "            await google.colab.kernel.invokeFunction('convertToInteractive',\n",
              "                                                     [key], {});\n",
              "          if (!dataTable) return;\n",
              "\n",
              "          const docLinkHtml = 'Like what you see? Visit the ' +\n",
              "            '<a target=\"_blank\" href=https://colab.research.google.com/notebooks/data_table.ipynb>data table notebook</a>'\n",
              "            + ' to learn more about interactive tables.';\n",
              "          element.innerHTML = '';\n",
              "          dataTable['output_type'] = 'display_data';\n",
              "          await google.colab.output.renderOutput(dataTable, element);\n",
              "          const docLink = document.createElement('div');\n",
              "          docLink.innerHTML = docLinkHtml;\n",
              "          element.appendChild(docLink);\n",
              "        }\n",
              "      </script>\n",
              "    </div>\n",
              "  </div>\n",
              "  "
            ],
            "text/plain": [
              "                         State_Name   District_Name  ...     Area Production\n",
              "46      Andaman and Nicobar Islands        NICOBARS  ...   795.67        NaN\n",
              "51      Andaman and Nicobar Islands        NICOBARS  ...    17.00        NaN\n",
              "623                  Andhra Pradesh       ANANTAPUR  ...  1000.00        NaN\n",
              "630                  Andhra Pradesh       ANANTAPUR  ...  1000.00        NaN\n",
              "698                  Andhra Pradesh       ANANTAPUR  ...     8.00        NaN\n",
              "...                             ...             ...  ...      ...        ...\n",
              "244128                  West Bengal  MEDINIPUR WEST  ...     2.00        NaN\n",
              "244581                  West Bengal     MURSHIDABAD  ...   200.00        NaN\n",
              "245606                  West Bengal         PURULIA  ...   427.00        NaN\n",
              "245644                  West Bengal         PURULIA  ...   522.00        NaN\n",
              "245865                  West Bengal         PURULIA  ...     2.00        NaN\n",
              "\n",
              "[3730 rows x 7 columns]"
            ]
          },
          "metadata": {},
          "execution_count": 6
        }
      ]
    },
    {
      "cell_type": "code",
      "source": [
        "#Selecting Group By and Imputing The Values\n",
        "\n",
        "crop_ds['Production'] = crop_ds.groupby([\"State_Name\",'Crop'])['Production'].transform(\n",
        "    lambda grp: grp.fillna(np.mean(grp))\n",
        ")"
      ],
      "metadata": {
        "id": "wLiVz6Ux_JIj"
      },
      "execution_count": null,
      "outputs": []
    },
    {
      "cell_type": "code",
      "source": [
        "crop_ds[crop_ds.isna().any(axis=1)]"
      ],
      "metadata": {
        "colab": {
          "base_uri": "https://localhost:8080/",
          "height": 423
        },
        "id": "fy9jlIam_rqV",
        "outputId": "5a55338b-6122-4290-c9e7-afa36e30665b"
      },
      "execution_count": null,
      "outputs": [
        {
          "output_type": "execute_result",
          "data": {
            "text/html": [
              "\n",
              "  <div id=\"df-cd26f116-6ff0-450a-9649-d03707b07bbb\">\n",
              "    <div class=\"colab-df-container\">\n",
              "      <div>\n",
              "<style scoped>\n",
              "    .dataframe tbody tr th:only-of-type {\n",
              "        vertical-align: middle;\n",
              "    }\n",
              "\n",
              "    .dataframe tbody tr th {\n",
              "        vertical-align: top;\n",
              "    }\n",
              "\n",
              "    .dataframe thead th {\n",
              "        text-align: right;\n",
              "    }\n",
              "</style>\n",
              "<table border=\"1\" class=\"dataframe\">\n",
              "  <thead>\n",
              "    <tr style=\"text-align: right;\">\n",
              "      <th></th>\n",
              "      <th>State_Name</th>\n",
              "      <th>District_Name</th>\n",
              "      <th>Crop_Year</th>\n",
              "      <th>Season</th>\n",
              "      <th>Crop</th>\n",
              "      <th>Area</th>\n",
              "      <th>Production</th>\n",
              "    </tr>\n",
              "  </thead>\n",
              "  <tbody>\n",
              "    <tr>\n",
              "      <th>2489</th>\n",
              "      <td>Andhra Pradesh</td>\n",
              "      <td>EAST GODAVARI</td>\n",
              "      <td>2013</td>\n",
              "      <td>Whole Year</td>\n",
              "      <td>Sannhamp</td>\n",
              "      <td>175.0</td>\n",
              "      <td>NaN</td>\n",
              "    </tr>\n",
              "    <tr>\n",
              "      <th>3180</th>\n",
              "      <td>Andhra Pradesh</td>\n",
              "      <td>GUNTUR</td>\n",
              "      <td>2013</td>\n",
              "      <td>Whole Year</td>\n",
              "      <td>Sannhamp</td>\n",
              "      <td>2594.0</td>\n",
              "      <td>NaN</td>\n",
              "    </tr>\n",
              "    <tr>\n",
              "      <th>5457</th>\n",
              "      <td>Andhra Pradesh</td>\n",
              "      <td>KURNOOL</td>\n",
              "      <td>2013</td>\n",
              "      <td>Whole Year</td>\n",
              "      <td>Sannhamp</td>\n",
              "      <td>18.0</td>\n",
              "      <td>NaN</td>\n",
              "    </tr>\n",
              "    <tr>\n",
              "      <th>6266</th>\n",
              "      <td>Andhra Pradesh</td>\n",
              "      <td>PRAKASAM</td>\n",
              "      <td>2013</td>\n",
              "      <td>Whole Year</td>\n",
              "      <td>Sannhamp</td>\n",
              "      <td>1841.0</td>\n",
              "      <td>NaN</td>\n",
              "    </tr>\n",
              "    <tr>\n",
              "      <th>9196</th>\n",
              "      <td>Andhra Pradesh</td>\n",
              "      <td>VIZIANAGARAM</td>\n",
              "      <td>2013</td>\n",
              "      <td>Whole Year</td>\n",
              "      <td>Sannhamp</td>\n",
              "      <td>106.0</td>\n",
              "      <td>NaN</td>\n",
              "    </tr>\n",
              "    <tr>\n",
              "      <th>...</th>\n",
              "      <td>...</td>\n",
              "      <td>...</td>\n",
              "      <td>...</td>\n",
              "      <td>...</td>\n",
              "      <td>...</td>\n",
              "      <td>...</td>\n",
              "      <td>...</td>\n",
              "    </tr>\n",
              "    <tr>\n",
              "      <th>188998</th>\n",
              "      <td>Tamil Nadu</td>\n",
              "      <td>TIRUVANNAMALAI</td>\n",
              "      <td>2005</td>\n",
              "      <td>Kharif</td>\n",
              "      <td>Soyabean</td>\n",
              "      <td>1.0</td>\n",
              "      <td>NaN</td>\n",
              "    </tr>\n",
              "    <tr>\n",
              "      <th>189501</th>\n",
              "      <td>Tamil Nadu</td>\n",
              "      <td>TUTICORIN</td>\n",
              "      <td>2005</td>\n",
              "      <td>Kharif</td>\n",
              "      <td>Soyabean</td>\n",
              "      <td>68.0</td>\n",
              "      <td>NaN</td>\n",
              "    </tr>\n",
              "    <tr>\n",
              "      <th>189976</th>\n",
              "      <td>Tamil Nadu</td>\n",
              "      <td>VELLORE</td>\n",
              "      <td>2005</td>\n",
              "      <td>Kharif</td>\n",
              "      <td>Niger seed</td>\n",
              "      <td>90.0</td>\n",
              "      <td>NaN</td>\n",
              "    </tr>\n",
              "    <tr>\n",
              "      <th>189983</th>\n",
              "      <td>Tamil Nadu</td>\n",
              "      <td>VELLORE</td>\n",
              "      <td>2005</td>\n",
              "      <td>Kharif</td>\n",
              "      <td>Soyabean</td>\n",
              "      <td>11.0</td>\n",
              "      <td>NaN</td>\n",
              "    </tr>\n",
              "    <tr>\n",
              "      <th>190146</th>\n",
              "      <td>Tamil Nadu</td>\n",
              "      <td>VELLORE</td>\n",
              "      <td>2011</td>\n",
              "      <td>Kharif</td>\n",
              "      <td>Jute</td>\n",
              "      <td>1.0</td>\n",
              "      <td>NaN</td>\n",
              "    </tr>\n",
              "  </tbody>\n",
              "</table>\n",
              "<p>238 rows × 7 columns</p>\n",
              "</div>\n",
              "      <button class=\"colab-df-convert\" onclick=\"convertToInteractive('df-cd26f116-6ff0-450a-9649-d03707b07bbb')\"\n",
              "              title=\"Convert this dataframe to an interactive table.\"\n",
              "              style=\"display:none;\">\n",
              "        \n",
              "  <svg xmlns=\"http://www.w3.org/2000/svg\" height=\"24px\"viewBox=\"0 0 24 24\"\n",
              "       width=\"24px\">\n",
              "    <path d=\"M0 0h24v24H0V0z\" fill=\"none\"/>\n",
              "    <path d=\"M18.56 5.44l.94 2.06.94-2.06 2.06-.94-2.06-.94-.94-2.06-.94 2.06-2.06.94zm-11 1L8.5 8.5l.94-2.06 2.06-.94-2.06-.94L8.5 2.5l-.94 2.06-2.06.94zm10 10l.94 2.06.94-2.06 2.06-.94-2.06-.94-.94-2.06-.94 2.06-2.06.94z\"/><path d=\"M17.41 7.96l-1.37-1.37c-.4-.4-.92-.59-1.43-.59-.52 0-1.04.2-1.43.59L10.3 9.45l-7.72 7.72c-.78.78-.78 2.05 0 2.83L4 21.41c.39.39.9.59 1.41.59.51 0 1.02-.2 1.41-.59l7.78-7.78 2.81-2.81c.8-.78.8-2.07 0-2.86zM5.41 20L4 18.59l7.72-7.72 1.47 1.35L5.41 20z\"/>\n",
              "  </svg>\n",
              "      </button>\n",
              "      \n",
              "  <style>\n",
              "    .colab-df-container {\n",
              "      display:flex;\n",
              "      flex-wrap:wrap;\n",
              "      gap: 12px;\n",
              "    }\n",
              "\n",
              "    .colab-df-convert {\n",
              "      background-color: #E8F0FE;\n",
              "      border: none;\n",
              "      border-radius: 50%;\n",
              "      cursor: pointer;\n",
              "      display: none;\n",
              "      fill: #1967D2;\n",
              "      height: 32px;\n",
              "      padding: 0 0 0 0;\n",
              "      width: 32px;\n",
              "    }\n",
              "\n",
              "    .colab-df-convert:hover {\n",
              "      background-color: #E2EBFA;\n",
              "      box-shadow: 0px 1px 2px rgba(60, 64, 67, 0.3), 0px 1px 3px 1px rgba(60, 64, 67, 0.15);\n",
              "      fill: #174EA6;\n",
              "    }\n",
              "\n",
              "    [theme=dark] .colab-df-convert {\n",
              "      background-color: #3B4455;\n",
              "      fill: #D2E3FC;\n",
              "    }\n",
              "\n",
              "    [theme=dark] .colab-df-convert:hover {\n",
              "      background-color: #434B5C;\n",
              "      box-shadow: 0px 1px 3px 1px rgba(0, 0, 0, 0.15);\n",
              "      filter: drop-shadow(0px 1px 2px rgba(0, 0, 0, 0.3));\n",
              "      fill: #FFFFFF;\n",
              "    }\n",
              "  </style>\n",
              "\n",
              "      <script>\n",
              "        const buttonEl =\n",
              "          document.querySelector('#df-cd26f116-6ff0-450a-9649-d03707b07bbb button.colab-df-convert');\n",
              "        buttonEl.style.display =\n",
              "          google.colab.kernel.accessAllowed ? 'block' : 'none';\n",
              "\n",
              "        async function convertToInteractive(key) {\n",
              "          const element = document.querySelector('#df-cd26f116-6ff0-450a-9649-d03707b07bbb');\n",
              "          const dataTable =\n",
              "            await google.colab.kernel.invokeFunction('convertToInteractive',\n",
              "                                                     [key], {});\n",
              "          if (!dataTable) return;\n",
              "\n",
              "          const docLinkHtml = 'Like what you see? Visit the ' +\n",
              "            '<a target=\"_blank\" href=https://colab.research.google.com/notebooks/data_table.ipynb>data table notebook</a>'\n",
              "            + ' to learn more about interactive tables.';\n",
              "          element.innerHTML = '';\n",
              "          dataTable['output_type'] = 'display_data';\n",
              "          await google.colab.output.renderOutput(dataTable, element);\n",
              "          const docLink = document.createElement('div');\n",
              "          docLink.innerHTML = docLinkHtml;\n",
              "          element.appendChild(docLink);\n",
              "        }\n",
              "      </script>\n",
              "    </div>\n",
              "  </div>\n",
              "  "
            ],
            "text/plain": [
              "            State_Name   District_Name  ...    Area Production\n",
              "2489    Andhra Pradesh   EAST GODAVARI  ...   175.0        NaN\n",
              "3180    Andhra Pradesh          GUNTUR  ...  2594.0        NaN\n",
              "5457    Andhra Pradesh         KURNOOL  ...    18.0        NaN\n",
              "6266    Andhra Pradesh        PRAKASAM  ...  1841.0        NaN\n",
              "9196    Andhra Pradesh    VIZIANAGARAM  ...   106.0        NaN\n",
              "...                ...             ...  ...     ...        ...\n",
              "188998      Tamil Nadu  TIRUVANNAMALAI  ...     1.0        NaN\n",
              "189501      Tamil Nadu       TUTICORIN  ...    68.0        NaN\n",
              "189976      Tamil Nadu         VELLORE  ...    90.0        NaN\n",
              "189983      Tamil Nadu         VELLORE  ...    11.0        NaN\n",
              "190146      Tamil Nadu         VELLORE  ...     1.0        NaN\n",
              "\n",
              "[238 rows x 7 columns]"
            ]
          },
          "metadata": {},
          "execution_count": 8
        }
      ]
    },
    {
      "cell_type": "code",
      "source": [
        "# Still 238 Rows Are NaN because of unavalability of any production data for that mean value so now grouping by crop only\n",
        "\n",
        "crop_ds['Production'] = crop_ds.groupby(['Crop'])['Production'].transform(\n",
        "    lambda grp: grp.fillna(np.mean(grp))\n",
        ")\n",
        "\n",
        "crop_ds.isna().sum()"
      ],
      "metadata": {
        "colab": {
          "base_uri": "https://localhost:8080/"
        },
        "id": "ANoGmBVA_5Qa",
        "outputId": "388e6acd-6aa6-4c43-babd-e153897a8c68"
      },
      "execution_count": null,
      "outputs": [
        {
          "output_type": "execute_result",
          "data": {
            "text/plain": [
              "State_Name       0\n",
              "District_Name    0\n",
              "Crop_Year        0\n",
              "Season           0\n",
              "Crop             0\n",
              "Area             0\n",
              "Production       0\n",
              "dtype: int64"
            ]
          },
          "metadata": {},
          "execution_count": 9
        }
      ]
    },
    {
      "cell_type": "markdown",
      "source": [
        "# HELPHER FUNCTIONS\n",
        "\n"
      ],
      "metadata": {
        "id": "cs_BQUzWwH4l"
      }
    },
    {
      "cell_type": "code",
      "source": [
        "# Function to pick a dataset corrosponding to given query\n",
        "\n",
        "def selectDataset(df,**kwargs):\n",
        "    cond_str = \"\"\n",
        "    for(key, value) in kwargs.items():\n",
        "        cond_str  = cond_str + f'(df[\"{key}\"]==\"{value}\")'\n",
        "        cond_str +=\"&\"\n",
        "    cond_str = cond_str[:-1]\n",
        "    sub_df = df.loc[eval(cond_str)]\n",
        "    return sub_df\n",
        "\n",
        "\n",
        "# Function to generate Response and Predictor as Numpy array\n",
        "def getXYArray(df,response,*predictors):\n",
        "    predictors = list(predictors)\n",
        "    X = df[predictors].to_numpy()\n",
        "    Y = df[[response]].to_numpy()\n",
        "    return X, Y"
      ],
      "metadata": {
        "id": "jTwcEeeH80M-"
      },
      "execution_count": null,
      "outputs": []
    },
    {
      "cell_type": "markdown",
      "source": [
        "# DATA VISUALISATION"
      ],
      "metadata": {
        "id": "U0WIKUwK5FzM"
      }
    },
    {
      "cell_type": "code",
      "source": [
        "# Since one crop can't be compared with other crop in terms of Production.\n",
        "# So We have to manualy filter out a particular crop in a particular state for better predictions.\n",
        "\n",
        "ds = selectDataset(crop_ds,State_Name=\"West Bengal\",Crop=\"Rice\")\n",
        "\n",
        "plt.scatter(ds.Area,ds.Production)\n",
        "plt.show()\n",
        "\n",
        "sns.pairplot(ds)"
      ],
      "metadata": {
        "colab": {
          "base_uri": "https://localhost:8080/",
          "height": 826
        },
        "id": "Lx6XNjAg5MCM",
        "outputId": "cffea85e-c789-4bae-f33c-87f29f46055d"
      },
      "execution_count": null,
      "outputs": [
        {
          "output_type": "display_data",
          "data": {
            "image/png": "[encoded data removed]",
            "text/plain": [
              "<Figure size 432x288 with 1 Axes>"
            ]
          },
          "metadata": {
            "needs_background": "light"
          }
        },
        {
          "output_type": "execute_result",
          "data": {
            "text/plain": [
              "<seaborn.axisgrid.PairGrid at 0x7f35a902d890>"
            ]
          },
          "metadata": {},
          "execution_count": 11
        },
        {
          "output_type": "display_data",
          "data": {
            "image/png": "[encoded data removed]",
            "text/plain": [
              "<Figure size 540x540 with 12 Axes>"
            ]
          },
          "metadata": {
            "needs_background": "light"
          }
        }
      ]
    },
    {
      "cell_type": "code",
      "source": [
        "# From Above Plot It's Clearly Visible That Accept \"Area\" Attribute No Other Attribute Is Showing Good Correlation With \"Production\""
      ],
      "metadata": {
        "id": "2viZqmrR9EPz"
      },
      "execution_count": null,
      "outputs": []
    },
    {
      "cell_type": "code",
      "source": [
        "ds"
      ],
      "metadata": {
        "colab": {
          "base_uri": "https://localhost:8080/",
          "height": 423
        },
        "id": "CyAb_esm5grg",
        "outputId": "3c3837b6-f86d-4838-aa2a-f9920893ebb4"
      },
      "execution_count": null,
      "outputs": [
        {
          "output_type": "execute_result",
          "data": {
            "text/html": [
              "\n",
              "  <div id=\"df-cac35070-bc55-48d7-96d3-04d3de0a8b58\">\n",
              "    <div class=\"colab-df-container\">\n",
              "      <div>\n",
              "<style scoped>\n",
              "    .dataframe tbody tr th:only-of-type {\n",
              "        vertical-align: middle;\n",
              "    }\n",
              "\n",
              "    .dataframe tbody tr th {\n",
              "        vertical-align: top;\n",
              "    }\n",
              "\n",
              "    .dataframe thead th {\n",
              "        text-align: right;\n",
              "    }\n",
              "</style>\n",
              "<table border=\"1\" class=\"dataframe\">\n",
              "  <thead>\n",
              "    <tr style=\"text-align: right;\">\n",
              "      <th></th>\n",
              "      <th>State_Name</th>\n",
              "      <th>District_Name</th>\n",
              "      <th>Crop_Year</th>\n",
              "      <th>Season</th>\n",
              "      <th>Crop</th>\n",
              "      <th>Area</th>\n",
              "      <th>Production</th>\n",
              "    </tr>\n",
              "  </thead>\n",
              "  <tbody>\n",
              "    <tr>\n",
              "      <th>236478</th>\n",
              "      <td>West Bengal</td>\n",
              "      <td>24 PARAGANAS NORTH</td>\n",
              "      <td>1997</td>\n",
              "      <td>Autumn</td>\n",
              "      <td>Rice</td>\n",
              "      <td>15017.0</td>\n",
              "      <td>33840.0</td>\n",
              "    </tr>\n",
              "    <tr>\n",
              "      <th>236490</th>\n",
              "      <td>West Bengal</td>\n",
              "      <td>24 PARAGANAS NORTH</td>\n",
              "      <td>1997</td>\n",
              "      <td>Summer</td>\n",
              "      <td>Rice</td>\n",
              "      <td>98044.0</td>\n",
              "      <td>269690.0</td>\n",
              "    </tr>\n",
              "    <tr>\n",
              "      <th>236504</th>\n",
              "      <td>West Bengal</td>\n",
              "      <td>24 PARAGANAS NORTH</td>\n",
              "      <td>1997</td>\n",
              "      <td>Winter</td>\n",
              "      <td>Rice</td>\n",
              "      <td>193202.0</td>\n",
              "      <td>381990.0</td>\n",
              "    </tr>\n",
              "    <tr>\n",
              "      <th>236505</th>\n",
              "      <td>West Bengal</td>\n",
              "      <td>24 PARAGANAS NORTH</td>\n",
              "      <td>1998</td>\n",
              "      <td>Autumn</td>\n",
              "      <td>Rice</td>\n",
              "      <td>21417.0</td>\n",
              "      <td>45870.0</td>\n",
              "    </tr>\n",
              "    <tr>\n",
              "      <th>236521</th>\n",
              "      <td>West Bengal</td>\n",
              "      <td>24 PARAGANAS NORTH</td>\n",
              "      <td>1998</td>\n",
              "      <td>Summer</td>\n",
              "      <td>Rice</td>\n",
              "      <td>114251.0</td>\n",
              "      <td>425881.0</td>\n",
              "    </tr>\n",
              "    <tr>\n",
              "      <th>...</th>\n",
              "      <td>...</td>\n",
              "      <td>...</td>\n",
              "      <td>...</td>\n",
              "      <td>...</td>\n",
              "      <td>...</td>\n",
              "      <td>...</td>\n",
              "      <td>...</td>\n",
              "    </tr>\n",
              "    <tr>\n",
              "      <th>246049</th>\n",
              "      <td>West Bengal</td>\n",
              "      <td>PURULIA</td>\n",
              "      <td>2013</td>\n",
              "      <td>Summer</td>\n",
              "      <td>Rice</td>\n",
              "      <td>516.0</td>\n",
              "      <td>1274.0</td>\n",
              "    </tr>\n",
              "    <tr>\n",
              "      <th>246052</th>\n",
              "      <td>West Bengal</td>\n",
              "      <td>PURULIA</td>\n",
              "      <td>2013</td>\n",
              "      <td>Winter</td>\n",
              "      <td>Rice</td>\n",
              "      <td>302274.0</td>\n",
              "      <td>730136.0</td>\n",
              "    </tr>\n",
              "    <tr>\n",
              "      <th>246058</th>\n",
              "      <td>West Bengal</td>\n",
              "      <td>PURULIA</td>\n",
              "      <td>2014</td>\n",
              "      <td>Autumn</td>\n",
              "      <td>Rice</td>\n",
              "      <td>264.0</td>\n",
              "      <td>721.0</td>\n",
              "    </tr>\n",
              "    <tr>\n",
              "      <th>246086</th>\n",
              "      <td>West Bengal</td>\n",
              "      <td>PURULIA</td>\n",
              "      <td>2014</td>\n",
              "      <td>Summer</td>\n",
              "      <td>Rice</td>\n",
              "      <td>306.0</td>\n",
              "      <td>801.0</td>\n",
              "    </tr>\n",
              "    <tr>\n",
              "      <th>246089</th>\n",
              "      <td>West Bengal</td>\n",
              "      <td>PURULIA</td>\n",
              "      <td>2014</td>\n",
              "      <td>Winter</td>\n",
              "      <td>Rice</td>\n",
              "      <td>279151.0</td>\n",
              "      <td>597899.0</td>\n",
              "    </tr>\n",
              "  </tbody>\n",
              "</table>\n",
              "<p>969 rows × 7 columns</p>\n",
              "</div>\n",
              "      <button class=\"colab-df-convert\" onclick=\"convertToInteractive('df-cac35070-bc55-48d7-96d3-04d3de0a8b58')\"\n",
              "              title=\"Convert this dataframe to an interactive table.\"\n",
              "              style=\"display:none;\">\n",
              "        \n",
              "  <svg xmlns=\"http://www.w3.org/2000/svg\" height=\"24px\"viewBox=\"0 0 24 24\"\n",
              "       width=\"24px\">\n",
              "    <path d=\"M0 0h24v24H0V0z\" fill=\"none\"/>\n",
              "    <path d=\"M18.56 5.44l.94 2.06.94-2.06 2.06-.94-2.06-.94-.94-2.06-.94 2.06-2.06.94zm-11 1L8.5 8.5l.94-2.06 2.06-.94-2.06-.94L8.5 2.5l-.94 2.06-2.06.94zm10 10l.94 2.06.94-2.06 2.06-.94-2.06-.94-.94-2.06-.94 2.06-2.06.94z\"/><path d=\"M17.41 7.96l-1.37-1.37c-.4-.4-.92-.59-1.43-.59-.52 0-1.04.2-1.43.59L10.3 9.45l-7.72 7.72c-.78.78-.78 2.05 0 2.83L4 21.41c.39.39.9.59 1.41.59.51 0 1.02-.2 1.41-.59l7.78-7.78 2.81-2.81c.8-.78.8-2.07 0-2.86zM5.41 20L4 18.59l7.72-7.72 1.47 1.35L5.41 20z\"/>\n",
              "  </svg>\n",
              "      </button>\n",
              "      \n",
              "  <style>\n",
              "    .colab-df-container {\n",
              "      display:flex;\n",
              "      flex-wrap:wrap;\n",
              "      gap: 12px;\n",
              "    }\n",
              "\n",
              "    .colab-df-convert {\n",
              "      background-color: #E8F0FE;\n",
              "      border: none;\n",
              "      border-radius: 50%;\n",
              "      cursor: pointer;\n",
              "      display: none;\n",
              "      fill: #1967D2;\n",
              "      height: 32px;\n",
              "      padding: 0 0 0 0;\n",
              "      width: 32px;\n",
              "    }\n",
              "\n",
              "    .colab-df-convert:hover {\n",
              "      background-color: #E2EBFA;\n",
              "      box-shadow: 0px 1px 2px rgba(60, 64, 67, 0.3), 0px 1px 3px 1px rgba(60, 64, 67, 0.15);\n",
              "      fill: #174EA6;\n",
              "    }\n",
              "\n",
              "    [theme=dark] .colab-df-convert {\n",
              "      background-color: #3B4455;\n",
              "      fill: #D2E3FC;\n",
              "    }\n",
              "\n",
              "    [theme=dark] .colab-df-convert:hover {\n",
              "      background-color: #434B5C;\n",
              "      box-shadow: 0px 1px 3px 1px rgba(0, 0, 0, 0.15);\n",
              "      filter: drop-shadow(0px 1px 2px rgba(0, 0, 0, 0.3));\n",
              "      fill: #FFFFFF;\n",
              "    }\n",
              "  </style>\n",
              "\n",
              "      <script>\n",
              "        const buttonEl =\n",
              "          document.querySelector('#df-cac35070-bc55-48d7-96d3-04d3de0a8b58 button.colab-df-convert');\n",
              "        buttonEl.style.display =\n",
              "          google.colab.kernel.accessAllowed ? 'block' : 'none';\n",
              "\n",
              "        async function convertToInteractive(key) {\n",
              "          const element = document.querySelector('#df-cac35070-bc55-48d7-96d3-04d3de0a8b58');\n",
              "          const dataTable =\n",
              "            await google.colab.kernel.invokeFunction('convertToInteractive',\n",
              "                                                     [key], {});\n",
              "          if (!dataTable) return;\n",
              "\n",
              "          const docLinkHtml = 'Like what you see? Visit the ' +\n",
              "            '<a target=\"_blank\" href=https://colab.research.google.com/notebooks/data_table.ipynb>data table notebook</a>'\n",
              "            + ' to learn more about interactive tables.';\n",
              "          element.innerHTML = '';\n",
              "          dataTable['output_type'] = 'display_data';\n",
              "          await google.colab.output.renderOutput(dataTable, element);\n",
              "          const docLink = document.createElement('div');\n",
              "          docLink.innerHTML = docLinkHtml;\n",
              "          element.appendChild(docLink);\n",
              "        }\n",
              "      </script>\n",
              "    </div>\n",
              "  </div>\n",
              "  "
            ],
            "text/plain": [
              "         State_Name       District_Name  Crop_Year  ...  Crop      Area  Production\n",
              "236478  West Bengal  24 PARAGANAS NORTH       1997  ...  Rice   15017.0     33840.0\n",
              "236490  West Bengal  24 PARAGANAS NORTH       1997  ...  Rice   98044.0    269690.0\n",
              "236504  West Bengal  24 PARAGANAS NORTH       1997  ...  Rice  193202.0    381990.0\n",
              "236505  West Bengal  24 PARAGANAS NORTH       1998  ...  Rice   21417.0     45870.0\n",
              "236521  West Bengal  24 PARAGANAS NORTH       1998  ...  Rice  114251.0    425881.0\n",
              "...             ...                 ...        ...  ...   ...       ...         ...\n",
              "246049  West Bengal             PURULIA       2013  ...  Rice     516.0      1274.0\n",
              "246052  West Bengal             PURULIA       2013  ...  Rice  302274.0    730136.0\n",
              "246058  West Bengal             PURULIA       2014  ...  Rice     264.0       721.0\n",
              "246086  West Bengal             PURULIA       2014  ...  Rice     306.0       801.0\n",
              "246089  West Bengal             PURULIA       2014  ...  Rice  279151.0    597899.0\n",
              "\n",
              "[969 rows x 7 columns]"
            ]
          },
          "metadata": {},
          "execution_count": 13
        }
      ]
    },
    {
      "cell_type": "markdown",
      "source": [
        "# OPTIMIZATION ALGORITHMS"
      ],
      "metadata": {
        "id": "3xsm-JYW0vpb"
      }
    },
    {
      "cell_type": "markdown",
      "source": [
        "**GRADIENT DESCENT**"
      ],
      "metadata": {
        "id": "mF5_VnFW0480"
      }
    },
    {
      "cell_type": "code",
      "source": [
        "def liniar_reg_grad_des(X,Y,iteration,learning_rate,precision_value):\n",
        "\n",
        "    import math\n",
        "    from sklearn.metrics import r2_score\n",
        "\n",
        "    from sklearn.preprocessing import StandardScaler\n",
        "    sc=StandardScaler()\n",
        "    X_transform = sc.fit_transform(X)\n",
        "\n",
        "    X = X_transform\n",
        "\n",
        "    num_features = len(X[0])\n",
        "    num_observation = len(X)\n",
        "    M = np.zeros((num_features,1))\n",
        "    B = np.random.rand(num_observation,1)\n",
        "    Yp = np.matmul(X,M) + B\n",
        "\n",
        "    prev_cost = 1000000000\n",
        "\n",
        "    if num_features == 1:\n",
        "        plt.scatter(X,Y,color=\"blue\") # only 1D\n",
        "\n",
        "    for i in range(iteration):\n",
        "        Yp = np.matmul(X,M) + B\n",
        "        Y_Yp = Y-Yp\n",
        "        y_yp_2 = (Y-Yp)**2\n",
        "        cost = (1/num_observation)*sum(y_yp_2)\n",
        "        Yp_T = Y_Yp.transpose()\n",
        "        Yp_T_mult_X = np.matmul(Yp_T,X).reshape(-1,1)\n",
        "        dldm = (-2/num_observation) * Yp_T_mult_X\n",
        "        dldb = (-2/num_observation) * Y_Yp\n",
        "\n",
        "        M = M - learning_rate*dldm\n",
        "        B = B - learning_rate*dldb\n",
        "        r2 = r2_score(Y,Yp)\n",
        "        if(i+1 == iteration):\n",
        "            print(\"Iteration - \", i+1)\n",
        "            print(\"MAE :\",sum(abs(Y_Yp)))\n",
        "            print(\"MSE : \",sum(y_yp_2))\n",
        "            print(\"RMSE :\",math.sqrt(sum(y_yp_2)))\n",
        "            print(\"r2:\",r2)\n",
        "            print(\"Coeficient:\",list(M))\n",
        "            print(\"cost:\",cost,\"\\n-----\")\n",
        "            # print(\"Coefficients -\",M)\n",
        "            avg_B = np.average(B)\n",
        "            print(\"Intercepts -\",avg_B)\n",
        "            if num_features == 1:\n",
        "                # for i in range(len(B)):\n",
        "                  plt.plot(X,Yp,color=\"red\") #Only 1D\n",
        "                  plt.show()"
      ],
      "metadata": {
        "id": "VGjd5BZ803r_"
      },
      "execution_count": null,
      "outputs": []
    },
    {
      "cell_type": "markdown",
      "source": [
        "# LINEAR REGRESSION"
      ],
      "metadata": {
        "id": "IJCfMqrzw5Bk"
      }
    },
    {
      "cell_type": "markdown",
      "source": [
        "**Without Spliting**"
      ],
      "metadata": {
        "id": "QzhGn2Y81ay3"
      }
    },
    {
      "cell_type": "code",
      "source": [
        "# Liniar Regression Without Splitting\n",
        "\n",
        "def SVLR_Result_NS(df,response,*predictors):\n",
        "  from sklearn.model_selection import train_test_split\n",
        "  from sklearn.linear_model import LinearRegression\n",
        "  from sklearn.metrics import r2_score,mean_squared_error,mean_absolute_error\n",
        "  import math\n",
        "\n",
        "  X = []\n",
        "  y = df[response].to_numpy().reshape(-1,1)\n",
        "  for column in predictors:\n",
        "    X.append(df[column].to_numpy().reshape(-1, 1))\n",
        "  i = 0\n",
        "  for column in predictors:\n",
        "    LR = LinearRegression()\n",
        "    LR.fit(X[i],y)\n",
        "\n",
        "    # print(f'\\n Showing Results For Column {column}')\n",
        "    # print(\"Training Data Predictor:\", X[i])\n",
        "    # print(\"Training Data Response:\" ,y)\n",
        "    # print(\"Testing Data Predictor:\" ,X[i])\n",
        "    # print(\"Testing Data Response:\" ,y)\n",
        "\n",
        "    y_predicted = LR.predict(X[i])\n",
        "    # print(\"Preddicted Value for X[i]:\" ,y_predicted)\n",
        "\n",
        "    mse = mean_squared_error(y_pred=y_predicted,y_true=y)\n",
        "    mae = mean_absolute_error(y_pred=y_predicted,y_true=y)\n",
        "    r2score = r2_score(y_pred=y_predicted,y_true=y)\n",
        "    rmse = math.sqrt(mse)\n",
        "    c = LR.intercept_\n",
        "    coef = LR.coef_\n",
        "\n",
        "    print(\"Intercept :\",c)\n",
        "    print(\"Coefficient :\",coef)\n",
        "    print(\"R2 Error :\",r2score)\n",
        "    print(\"Mean Absolute Error :\",mae)\n",
        "    print(\"Mean Squared Error :\",mse)\n",
        "    print(\"Root Mean Squared Error :\",rmse)\n",
        "\n",
        "    # Plot the Liniar regression\n",
        "    plt.figure()\n",
        "    plt.scatter(X[i],y,color=\"Red\")\n",
        "    plt.plot(X[i],LR.predict(X[i]),color=\"blue\")\n",
        "    plt.title(\"Linear Regression\")\n",
        "    plt.xlabel(\"Area\")\n",
        "    plt.ylabel(\"Production\")\n",
        "    plt.show()\n",
        "\n",
        "    i = i+1\n",
        "\n",
        ""
      ],
      "metadata": {
        "id": "oecZmo681kgM"
      },
      "execution_count": null,
      "outputs": []
    },
    {
      "cell_type": "code",
      "source": [
        "SVLR_Result_NS(ds,\"Production\",\"Area\")"
      ],
      "metadata": {
        "colab": {
          "base_uri": "https://localhost:8080/",
          "height": 399
        },
        "id": "edq046Ar_g4H",
        "outputId": "396d068f-1d10-4109-e3ee-ec58d62e18a8"
      },
      "execution_count": null,
      "outputs": [
        {
          "output_type": "stream",
          "name": "stdout",
          "text": [
            "Intercept : [5281.98855306]\n",
            "Coefficient : [[2.48030233]]\n",
            "R2 Error : 0.9234329386716252\n",
            "Mean Absolute Error : 50566.263438165464\n",
            "Mean Squared Error : 6508689976.723676\n",
            "Root Mean Squared Error : 80676.45243020837\n"
          ]
        },
        {
          "output_type": "display_data",
          "data": {
            "image/png": "[encoded data removed]",
            "text/plain": [
              "<Figure size 432x288 with 1 Axes>"
            ]
          },
          "metadata": {
            "needs_background": "light"
          }
        }
      ]
    },
    {
      "cell_type": "markdown",
      "source": [
        "**With Splitting**"
      ],
      "metadata": {
        "id": "X96ADabx1pup"
      }
    },
    {
      "cell_type": "code",
      "source": [
        "# Liniar Regression With Splitting\n",
        "\n",
        "def SVLR_Result_S(df,test_size,response,*predictors):\n",
        "  from sklearn.model_selection import train_test_split\n",
        "  from sklearn.linear_model import LinearRegression\n",
        "  from sklearn.metrics import r2_score,mean_squared_error,mean_absolute_error\n",
        "  import math\n",
        "\n",
        "  X = []\n",
        "  y = df[response].to_numpy().reshape(-1,1)\n",
        "  for column in predictors:\n",
        "    X.append(df[column].to_numpy().reshape(-1, 1))\n",
        "  i = 0\n",
        "  for column in predictors:\n",
        "    try:\n",
        "      x_train, x_test, y_train, y_test = train_test_split(X[i],y,test_size = test_size, random_state = 42)\n",
        "    except:\n",
        "      return\n",
        "    LR = LinearRegression()\n",
        "    LR.fit(x_train,y_train)\n",
        "\n",
        "    # print(f'\\n Showing Results For Column {column}')\n",
        "    # print(\"Training Data Predictor:\", x_train)\n",
        "    # print(\"Training Data Response:\" ,y_train)\n",
        "    # print(\"Testing Data Predictor:\" ,x_test)\n",
        "    # print(\"Testing Data Response:\" ,y_test)\n",
        "\n",
        "    y_predicted = LR.predict(x_test)\n",
        "    # print(\"Preddicted Value for x_test:\" ,y_predicted)\n",
        "\n",
        "    mse = mean_squared_error(y_pred=y_predicted,y_true=y_test)\n",
        "    mae = mean_absolute_error(y_pred=y_predicted,y_true=y_test)\n",
        "    r2score = r2_score(y_pred=y_predicted,y_true=y_test)\n",
        "    rmse = math.sqrt(mse)\n",
        "    c = LR.intercept_\n",
        "    coef = LR.coef_\n",
        "\n",
        "    print(\"Intercept :\",c)\n",
        "    print(\"Coefficient :\",coef)\n",
        "    print(\"R2 Error :\",r2score)\n",
        "    print(\"Mean Absolute Error :\",mae)\n",
        "    print(\"Mean Squared Error :\",mse)\n",
        "    print(\"Root Mean Squared Error :\",rmse)\n",
        "\n",
        "    # Plot the Liniar regression\n",
        "    plt.figure()\n",
        "    plt.scatter(x_train,y_train,color=\"Red\")\n",
        "    plt.plot(x_train,LR.predict(x_train),color=\"blue\")\n",
        "    plt.title(\"Liniar Regression\")\n",
        "    plt.xlabel(\"Area\")\n",
        "    plt.ylabel(\"Production\")\n",
        "    plt.show()\n",
        "\n",
        "    i = i+1\n",
        "\n",
        ""
      ],
      "metadata": {
        "id": "dgrBqpnpAFwk"
      },
      "execution_count": null,
      "outputs": []
    },
    {
      "cell_type": "code",
      "source": [
        "#70:30\n",
        "SVLR_Result_S(ds,0.30,\"Production\",\"Area\")"
      ],
      "metadata": {
        "colab": {
          "base_uri": "https://localhost:8080/",
          "height": 399
        },
        "id": "sLUq-wGf0dFa",
        "outputId": "0ecd1360-8c08-4edc-e3d5-f94ff60d66b5"
      },
      "execution_count": null,
      "outputs": [
        {
          "output_type": "stream",
          "name": "stdout",
          "text": [
            "Intercept : [4926.96772754]\n",
            "Coefficient : [[2.50508771]]\n",
            "R2 Error : 0.9173889804843391\n",
            "Mean Absolute Error : 48057.162239407386\n",
            "Mean Squared Error : 6513167508.853688\n",
            "Root Mean Squared Error : 80704.1975912882\n"
          ]
        },
        {
          "output_type": "display_data",
          "data": {
            "image/png": "[encoded data removed]",
            "text/plain": [
              "<Figure size 432x288 with 1 Axes>"
            ]
          },
          "metadata": {
            "needs_background": "light"
          }
        }
      ]
    },
    {
      "cell_type": "code",
      "source": [
        "#80:20\n",
        "SVLR_Result_S(ds,0.20,\"Production\",\"Area\")"
      ],
      "metadata": {
        "colab": {
          "base_uri": "https://localhost:8080/",
          "height": 399
        },
        "id": "x5yL8Grk13mv",
        "outputId": "9c96aca2-480a-43cf-8f7e-b1fdda9bd6c2"
      },
      "execution_count": null,
      "outputs": [
        {
          "output_type": "stream",
          "name": "stdout",
          "text": [
            "Intercept : [5924.1895652]\n",
            "Coefficient : [[2.48276472]]\n",
            "R2 Error : 0.9127406442717512\n",
            "Mean Absolute Error : 49908.85282163133\n",
            "Mean Squared Error : 7132003073.666344\n",
            "Root Mean Squared Error : 84451.18752075866\n"
          ]
        },
        {
          "output_type": "display_data",
          "data": {
            "image/png": "[encoded data removed]",
            "text/plain": [
              "<Figure size 432x288 with 1 Axes>"
            ]
          },
          "metadata": {
            "needs_background": "light"
          }
        }
      ]
    },
    {
      "cell_type": "code",
      "source": [
        "#50:50\n",
        "SVLR_Result_S(ds,0.50,\"Production\",\"Area\")"
      ],
      "metadata": {
        "colab": {
          "base_uri": "https://localhost:8080/",
          "height": 399
        },
        "id": "Wc7LYWbB17kL",
        "outputId": "39755a03-5c4e-4b29-bc8e-5f22d0310bcc"
      },
      "execution_count": null,
      "outputs": [
        {
          "output_type": "stream",
          "name": "stdout",
          "text": [
            "Intercept : [6668.20371033]\n",
            "Coefficient : [[2.50295968]]\n",
            "R2 Error : 0.9162547556002615\n",
            "Mean Absolute Error : 51523.7808077436\n",
            "Mean Squared Error : 7135310950.571452\n",
            "Root Mean Squared Error : 84470.76979980383\n"
          ]
        },
        {
          "output_type": "display_data",
          "data": {
            "image/png": "[encoded data removed]",
            "text/plain": [
              "<Figure size 432x288 with 1 Axes>"
            ]
          },
          "metadata": {
            "needs_background": "light"
          }
        }
      ]
    },
    {
      "cell_type": "markdown",
      "source": [
        "**Liniar Regression With Gradient Descent Method**"
      ],
      "metadata": {
        "id": "JlQPde6P2HYJ"
      }
    },
    {
      "cell_type": "code",
      "source": [
        "X,Y = getXYArray(ds,\"Production\",\"Area\")"
      ],
      "metadata": {
        "id": "yJXTVbrSC894"
      },
      "execution_count": null,
      "outputs": []
    },
    {
      "cell_type": "code",
      "source": [
        "#L = 0.1\n",
        "liniar_reg_grad_des(X,Y,500,0.1,0.001)"
      ],
      "metadata": {
        "colab": {
          "base_uri": "https://localhost:8080/",
          "height": 432
        },
        "id": "oxBbO8H32Py8",
        "outputId": "dd810fa4-bf13-48f3-8fc0-3d88e8c9cc6a"
      },
      "execution_count": null,
      "outputs": [
        {
          "output_type": "stream",
          "name": "stdout",
          "text": [
            "Iteration -  500\n",
            "MAE : [2.33826364e+08]\n",
            "MSE :  [6.10774429e+13]\n",
            "RMSE : 7815205.879322977\n",
            "r2: 0.25850971892909047\n",
            "Coeficient: [array([279885.58240873])]\n",
            "cost: [6.30314169e+10] \n",
            "-----\n",
            "Intercepts - 26119.30771210872\n"
          ]
        },
        {
          "output_type": "display_data",
          "data": {
            "image/png": "[encoded data removed]",
            "text/plain": [
              "<Figure size 432x288 with 1 Axes>"
            ]
          },
          "metadata": {
            "needs_background": "light"
          }
        }
      ]
    },
    {
      "cell_type": "code",
      "source": [
        "#L = 0.01\n",
        "liniar_reg_grad_des(X,Y,500,0.01,0.001)"
      ],
      "metadata": {
        "colab": {
          "base_uri": "https://localhost:8080/",
          "height": 432
        },
        "id": "aL0Y6eAYva1L",
        "outputId": "727d988f-597a-46d2-b8b9-3fe5ea758b7b"
      },
      "execution_count": null,
      "outputs": [
        {
          "output_type": "stream",
          "name": "stdout",
          "text": [
            "Iteration -  500\n",
            "MAE : [2.56539263e+08]\n",
            "MSE :  [7.35195017e+13]\n",
            "RMSE : 8574351.388801496\n",
            "r2: 0.10746106274751899\n",
            "Coeficient: [array([279874.21795241])]\n",
            "cost: [7.58715188e+10] \n",
            "-----\n",
            "Intercepts - 2735.0868125806473\n"
          ]
        },
        {
          "output_type": "display_data",
          "data": {
            "image/png": "[encoded data removed]",
            "text/plain": [
              "<Figure size 432x288 with 1 Axes>"
            ]
          },
          "metadata": {
            "needs_background": "light"
          }
        }
      ]
    },
    {
      "cell_type": "code",
      "source": [
        "#L = 0.001\n",
        "liniar_reg_grad_des(X,Y,500,0.001,0.001)"
      ],
      "metadata": {
        "id": "PJ_Ypcun3Qs6",
        "colab": {
          "base_uri": "https://localhost:8080/",
          "height": 432
        },
        "outputId": "5e5f73e2-173e-4df9-bc2a-bded6430b5c0"
      },
      "execution_count": null,
      "outputs": [
        {
          "output_type": "stream",
          "name": "stdout",
          "text": [
            "Iteration -  500\n",
            "MAE : [2.57826682e+08]\n",
            "MSE :  [8.51887146e+13]\n",
            "RMSE : 9229773.270052137\n",
            "r2: -0.03420511580825125\n",
            "Coeficient: [array([177130.78655501])]\n",
            "cost: [8.79140502e+10] \n",
            "-----\n",
            "Intercepts - 275.23107054541407\n"
          ]
        },
        {
          "output_type": "display_data",
          "data": {
            "image/png": "[encoded data removed]",
            "text/plain": [
              "<Figure size 432x288 with 1 Axes>"
            ]
          },
          "metadata": {
            "needs_background": "light"
          }
        }
      ]
    },
    {
      "cell_type": "code",
      "source": [
        "#L = 0.5\n",
        "liniar_reg_grad_des(X,Y,500,0.5,0.001)"
      ],
      "metadata": {
        "id": "Jr8fvZzC3SJg",
        "colab": {
          "base_uri": "https://localhost:8080/",
          "height": 432
        },
        "outputId": "733d28d6-56e2-4a70-e593-17a1f94efbff"
      },
      "execution_count": null,
      "outputs": [
        {
          "output_type": "stream",
          "name": "stdout",
          "text": [
            "Iteration -  500\n",
            "MAE : [1.54833818e+08]\n",
            "MSE :  [2.67809237e+13]\n",
            "RMSE : 5175028.855949313\n",
            "r2: 0.6748751477257273\n",
            "Coeficient: [array([279885.58370823])]\n",
            "cost: [2.76376921e+10] \n",
            "-----\n",
            "Intercepts - 107406.65195021918\n"
          ]
        },
        {
          "output_type": "display_data",
          "data": {
            "image/png": "[encoded data removed]",
            "text/plain": [
              "<Figure size 432x288 with 1 Axes>"
            ]
          },
          "metadata": {
            "needs_background": "light"
          }
        }
      ]
    },
    {
      "cell_type": "code",
      "source": [
        "#L = 0.005\n",
        "liniar_reg_grad_des(X,Y,500,0.005,0.001)"
      ],
      "metadata": {
        "colab": {
          "base_uri": "https://localhost:8080/",
          "height": 432
        },
        "id": "YQCFqgf0wzl5",
        "outputId": "393113a3-b86a-4ded-cc53-680cf0c3cdf3"
      },
      "execution_count": null,
      "outputs": [
        {
          "output_type": "stream",
          "name": "stdout",
          "text": [
            "Iteration -  500\n",
            "MAE : [2.5782049e+08]\n",
            "MSE :  [7.42839306e+13]\n",
            "RMSE : 8618812.60055512\n",
            "r2: 0.09818076913560925\n",
            "Coeficient: [array([278056.15975472])]\n",
            "cost: [7.66604031e+10] \n",
            "-----\n",
            "Intercepts - 1371.3276003973544\n"
          ]
        },
        {
          "output_type": "display_data",
          "data": {
            "image/png": "[encoded data removed]",
            "text/plain": [
              "<Figure size 432x288 with 1 Axes>"
            ]
          },
          "metadata": {
            "needs_background": "light"
          }
        }
      ]
    },
    {
      "cell_type": "code",
      "source": [
        "#L = 0.05\n",
        "liniar_reg_grad_des(X,Y,500,0.05,0.001)"
      ],
      "metadata": {
        "id": "qnk5_8xJ3Tj0",
        "colab": {
          "base_uri": "https://localhost:8080/",
          "height": 432
        },
        "outputId": "49bfe4b1-8990-4127-d75d-01481c609b1a"
      },
      "execution_count": null,
      "outputs": [
        {
          "output_type": "stream",
          "name": "stdout",
          "text": [
            "Iteration -  500\n",
            "MAE : [2.46184962e+08]\n",
            "MSE :  [6.77044076e+13]\n",
            "RMSE : 8228268.810277383\n",
            "r2: 0.17805726929307186\n",
            "Coeficient: [array([279885.58318844])]\n",
            "cost: [6.98703897e+10] \n",
            "-----\n",
            "Intercepts - 13396.126073629\n"
          ]
        },
        {
          "output_type": "display_data",
          "data": {
            "image/png": "[encoded data removed]",
            "text/plain": [
              "<Figure size 432x288 with 1 Axes>"
            ]
          },
          "metadata": {
            "needs_background": "light"
          }
        }
      ]
    },
    {
      "cell_type": "code",
      "source": [
        "#L = 1\n",
        "liniar_reg_grad_des(X,Y,500,1,0.001)"
      ],
      "metadata": {
        "id": "dKReGJtH3WN7",
        "colab": {
          "base_uri": "https://localhost:8080/",
          "height": 432
        },
        "outputId": "736be6d9-b73e-436c-f9ed-9c83c961c8ac"
      },
      "execution_count": null,
      "outputs": [
        {
          "output_type": "stream",
          "name": "stdout",
          "text": [
            "Iteration -  500\n",
            "MAE : [6.34632365e+08]\n",
            "MSE :  [6.04992881e+14]\n",
            "RMSE : 24596603.04406518\n",
            "r2: -6.344713859010466\n",
            "Coeficient: [array([-504820.40286883])]\n",
            "cost: [6.24347659e+11] \n",
            "-----\n",
            "Intercepts - 171551.53307388065\n"
          ]
        },
        {
          "output_type": "display_data",
          "data": {
            "image/png": "[encoded data removed]",
            "text/plain": [
              "<Figure size 432x288 with 1 Axes>"
            ]
          },
          "metadata": {
            "needs_background": "light"
          }
        }
      ]
    },
    {
      "cell_type": "markdown",
      "source": [
        "# POLYNOMIAL REGRESSION"
      ],
      "metadata": {
        "id": "8w437L-_0UVd"
      }
    },
    {
      "cell_type": "markdown",
      "source": [
        "**Without Spliting**"
      ],
      "metadata": {
        "id": "nzvdTnqK3iP2"
      }
    },
    {
      "cell_type": "code",
      "source": [
        "# Polynomial Regression\n",
        "\n",
        "def PolyReg_NS(ds,deg,*args):  # args order X,Y\n",
        "  x = ds[args[0]].values.reshape(-1, 1)\n",
        "  y = ds[args[1]].values.reshape(-1, 1)\n",
        "\n",
        "  # Polynomial Regression\n",
        "\n",
        "  from sklearn.preprocessing import PolynomialFeatures\n",
        "  polynom = PolynomialFeatures(degree = deg)\n",
        "  x_polynom = polynom.fit_transform(x)\n",
        "\n",
        "  from sklearn.linear_model import LinearRegression\n",
        "  PolyRegr = LinearRegression()\n",
        "  PolyRegr.fit(x_polynom,y)\n",
        "\n",
        "  # Plot the polynomial regression\n",
        "  plt.figure()\n",
        "  plt.scatter(x,y,color=\"Red\")\n",
        "  plt.plot(x,PolyRegr.predict(polynom.fit_transform(x)),color=\"blue\")\n",
        "  plt.title(\"Polynomial Regression\")\n",
        "  plt.xlabel(args[0])\n",
        "  plt.ylabel(args[1])\n",
        "  plt.show()\n",
        "\n",
        "  # import metrics\n",
        "  y_predict_polyr = PolyRegr.predict(polynom.fit_transform(x))\n",
        "\n",
        "  from sklearn import metrics\n",
        "  import math\n",
        "  from sklearn.metrics import r2_score,mean_squared_error,mean_absolute_error\n",
        "  # r_square = metrics.r2_score(y,y_predict_polyr)\n",
        "  # mse = metrics.mean_squared_error(y,y_predict_polyr)\n",
        "  # rmse = m.sqrt(mse)\n",
        "  # print(f\"R2 Error :{r_square}\\nMSE :{mse}\\nRMSE:{rmse}\")\n",
        "\n",
        "  mse = mean_squared_error(y_pred=y_predict_polyr,y_true=y)\n",
        "  mae = mean_absolute_error(y_pred=y_predict_polyr,y_true=y)\n",
        "  r2score = r2_score(y_pred=y_predict_polyr,y_true=y)\n",
        "  rmse = math.sqrt(mse)\n",
        "  c = PolyRegr.intercept_\n",
        "  coef = PolyRegr.coef_\n",
        "\n",
        "  print(\"Intercept :\",c)\n",
        "  print(\"Coefficient :\",coef)\n",
        "  print(\"R2 Error :\",r2score)\n",
        "  print(\"Mean Absolute Error :\",mae)\n",
        "  print(\"Mean Squared Error :\",mse)\n",
        "  print(\"Root Mean Squared Error :\",rmse)"
      ],
      "metadata": {
        "id": "_07qJj3n3iP4"
      },
      "execution_count": null,
      "outputs": []
    },
    {
      "cell_type": "code",
      "source": [
        "PolyReg_NS(ds,5,\"Area\",\"Production\")"
      ],
      "metadata": {
        "colab": {
          "base_uri": "https://localhost:8080/"
        },
        "id": "zir1rbVrjBwA",
        "outputId": "3921b353-33cb-46bb-bbf6-c2da64dd4b3b"
      },
      "execution_count": null,
      "outputs": [
        {
          "output_type": "display_data",
          "data": {
            "image/png": "[encoded data removed]",
            "text/plain": [
              "<Figure size 432x288 with 1 Axes>"
            ]
          },
          "metadata": {
            "needs_background": "light"
          }
        },
        {
          "output_type": "stream",
          "name": "stdout",
          "text": [
            "Intercept : [-7911.84975967]\n",
            "Coefficient : [[ 0.00000000e+00  3.13070231e+00 -4.39004025e-06  6.94422297e-12]]\n",
            "R2 Error : 0.9257669736309195\n",
            "Mean Absolute Error : 48734.63175418295\n",
            "Mean Squared Error : 6310282075.449664\n",
            "Root Mean Squared Error : 79437.28391284324\n"
          ]
        }
      ]
    },
    {
      "cell_type": "code",
      "source": [
        "PolyReg_NS(ds,4,\"Area\",\"Production\")"
      ],
      "metadata": {
        "colab": {
          "base_uri": "https://localhost:8080/",
          "height": 417
        },
        "id": "B6_XeFL4L_Tj",
        "outputId": "6b5be24e-84c7-4818-c06a-944ff8e0fd86"
      },
      "execution_count": null,
      "outputs": [
        {
          "output_type": "display_data",
          "data": {
            "image/png": "[encoded data removed]",
            "text/plain": [
              "<Figure size 432x288 with 1 Axes>"
            ]
          },
          "metadata": {
            "needs_background": "light"
          }
        },
        {
          "output_type": "stream",
          "name": "stdout",
          "text": [
            "Intercept : [49156.84276396]\n",
            "Coefficient : [[ 0.00000000e+00 -3.59617187e-09  2.51990448e-05 -8.57301664e-11\n",
            "   9.18206954e-17]]\n",
            "R2 Error : 0.9061991744535223\n",
            "Mean Absolute Error : 63874.159672538255\n",
            "Mean Squared Error : 7973670171.621366\n",
            "Root Mean Squared Error : 89295.40957754417\n"
          ]
        }
      ]
    },
    {
      "cell_type": "markdown",
      "source": [
        "***DEG = 3***\n",
        "\n",
        "---\n",
        "\n"
      ],
      "metadata": {
        "id": "PGNe62ucYsVT"
      }
    },
    {
      "cell_type": "code",
      "source": [
        "PolyReg_NS(ds,3,\"Area\",\"Production\")"
      ],
      "metadata": {
        "colab": {
          "base_uri": "https://localhost:8080/",
          "height": 405
        },
        "id": "s5fqK9kyRCJ2",
        "outputId": "3656d591-6b70-4b45-afd4-4c5786a27de8"
      },
      "execution_count": null,
      "outputs": [
        {
          "output_type": "display_data",
          "data": {
            "image/png": "[encoded data removed]",
            "text/plain": [
              "<Figure size 432x288 with 1 Axes>"
            ]
          },
          "metadata": {
            "needs_background": "light"
          }
        },
        {
          "output_type": "stream",
          "name": "stdout",
          "text": [
            "Intercept : [-7911.84975967]\n",
            "Coefficient : [[ 0.00000000e+00  3.13070231e+00 -4.39004025e-06  6.94422297e-12]]\n",
            "R2 Error : 0.9257669736309195\n",
            "Mean Absolute Error : 48734.63175418295\n",
            "Mean Squared Error : 6310282075.449664\n",
            "Root Mean Squared Error : 79437.28391284324\n"
          ]
        }
      ]
    },
    {
      "cell_type": "markdown",
      "source": [
        "***DEG = 2***\n",
        "\n",
        "---\n",
        "\n"
      ],
      "metadata": {
        "id": "QvVJsOz5ZP3U"
      }
    },
    {
      "cell_type": "code",
      "source": [
        "PolyReg_NS(ds,2,\"Area\",\"Production\")"
      ],
      "metadata": {
        "colab": {
          "base_uri": "https://localhost:8080/",
          "height": 405
        },
        "id": "X0ukrPNXZSeG",
        "outputId": "24642fb5-5916-4b89-9164-5c62fc624266"
      },
      "execution_count": null,
      "outputs": [
        {
          "output_type": "display_data",
          "data": {
            "image/png": "[encoded data removed]",
            "text/plain": [
              "<Figure size 432x288 with 1 Axes>"
            ]
          },
          "metadata": {
            "needs_background": "light"
          }
        },
        {
          "output_type": "stream",
          "name": "stdout",
          "text": [
            "Intercept : [5451.96077128]\n",
            "Coefficient : [[0.00000000e+00 2.47596330e+00 1.20282415e-08]]\n",
            "R2 Error : 0.9234333382780779\n",
            "Mean Absolute Error : 50612.63080676277\n",
            "Mean Squared Error : 6508656007.6191\n",
            "Root Mean Squared Error : 80676.24190317185\n"
          ]
        }
      ]
    },
    {
      "cell_type": "markdown",
      "source": [
        "***DEG = 1***\n",
        "\n",
        "---\n",
        "\n"
      ],
      "metadata": {
        "id": "VZPnBcReZY1F"
      }
    },
    {
      "cell_type": "code",
      "source": [
        "PolyReg_NS(ds,1,\"Area\",\"Production\")"
      ],
      "metadata": {
        "colab": {
          "base_uri": "https://localhost:8080/",
          "height": 405
        },
        "id": "uL9Sq3-xZsdF",
        "outputId": "05334eab-64d3-4705-85aa-447cae21deb0"
      },
      "execution_count": null,
      "outputs": [
        {
          "output_type": "display_data",
          "data": {
            "image/png": "[encoded data removed]",
            "text/plain": [
              "<Figure size 432x288 with 1 Axes>"
            ]
          },
          "metadata": {
            "needs_background": "light"
          }
        },
        {
          "output_type": "stream",
          "name": "stdout",
          "text": [
            "Intercept : [5281.98855306]\n",
            "Coefficient : [[0.         2.48030233]]\n",
            "R2 Error : 0.9234329386716252\n",
            "Mean Absolute Error : 50566.263438165464\n",
            "Mean Squared Error : 6508689976.723676\n",
            "Root Mean Squared Error : 80676.45243020837\n"
          ]
        }
      ]
    },
    {
      "cell_type": "markdown",
      "source": [
        "**With Splitting**"
      ],
      "metadata": {
        "id": "csXOvib23iP5"
      }
    },
    {
      "cell_type": "code",
      "source": [
        "# Polynomial Regression\n",
        "\n",
        "def PolyReg_S(ds,deg,test_size,*args):  # args order X,Y\n",
        "  x = ds[args[0]].values\n",
        "  y = ds[args[1]].values\n",
        "\n",
        "  # Dataset Splitting\n",
        "  from sklearn.model_selection import train_test_split\n",
        "  try:\n",
        "    x_train, x_test, y_train, y_test = train_test_split(x,y,test_size=test_size,random_state=0)\n",
        "    x_train = x_train.reshape(-1, 1)\n",
        "    x_test = x_test.reshape(-1, 1)\n",
        "    y_train= y_train.reshape(-1, 1)\n",
        "    y_test = y_test.reshape(-1, 1)\n",
        "  except:\n",
        "    return\n",
        "\n",
        "  # Polynomial Regression\n",
        "\n",
        "  from sklearn.preprocessing import PolynomialFeatures\n",
        "  polynom = PolynomialFeatures(degree = deg)\n",
        "  x_polynom = polynom.fit_transform(x_train)\n",
        "\n",
        "  from sklearn.linear_model import LinearRegression\n",
        "  PolyRegr = LinearRegression()\n",
        "  PolyRegr.fit(x_polynom,y_train)\n",
        "\n",
        "  # Plot the polynomial regression\n",
        "  plt.figure()\n",
        "  plt.scatter(x_train,y_train,color=\"Red\")\n",
        "  plt.plot(x_train,PolyRegr.predict(polynom.fit_transform(x_train)),color=\"blue\")\n",
        "  plt.title(\"Polynomial Regression\")\n",
        "  plt.xlabel(args[0])\n",
        "  plt.ylabel(args[1])\n",
        "  plt.show()\n",
        "\n",
        "  # import metrics\n",
        "  y_predict_polyr = PolyRegr.predict(polynom.fit_transform(x_test))\n",
        "\n",
        "  # from sklearn import metrics\n",
        "  # import math as m\n",
        "  # r_square = metrics.r2_score(y_test,y_predict_polyr)\n",
        "  # mse = metrics.mean_squared_error(y_test,y_predict_polyr)\n",
        "  # rmse = m.sqrt(mse)\n",
        "  # print(f\"R2 Error :{r_square}\\nMSE :{mse}\\nRMSE:{rmse}\")\n",
        "\n",
        "  from sklearn import metrics\n",
        "  import math\n",
        "  from sklearn.metrics import r2_score,mean_squared_error,mean_absolute_error\n",
        "\n",
        "  mse = mean_squared_error(y_pred= y_predict_polyr,y_true=y_test)\n",
        "  mae = mean_absolute_error(y_pred= y_predict_polyr,y_true=y_test)\n",
        "  r2score = r2_score(y_pred= y_predict_polyr,y_true=y_test)\n",
        "  rmse = math.sqrt(mse)\n",
        "  c = PolyRegr.intercept_\n",
        "  coef = PolyRegr.coef_\n",
        "\n",
        "  print(\"Intercept :\",c)\n",
        "  print(\"Coefficient :\",coef)\n",
        "  print(\"R2 Error :\",r2score)\n",
        "  print(\"Mean Absolute Error :\",mae)\n",
        "  print(\"Mean Squared Error :\",mse)\n",
        "  print(\"Root Mean Squared Error :\",rmse)"
      ],
      "metadata": {
        "id": "tMwsgjddRnG3"
      },
      "execution_count": null,
      "outputs": []
    },
    {
      "cell_type": "markdown",
      "source": [
        "DEG=5"
      ],
      "metadata": {
        "id": "MPyHZ0GfQFM6"
      }
    },
    {
      "cell_type": "code",
      "source": [
        "#70:30\n",
        "PolyReg_S(ds,5,0.3,\"Area\",\"Production\")"
      ],
      "metadata": {
        "colab": {
          "base_uri": "https://localhost:8080/",
          "height": 417
        },
        "id": "fVR32M8bQH2y",
        "outputId": "2059e4d5-8a68-449d-ad6c-c6f8ad85a653"
      },
      "execution_count": null,
      "outputs": [
        {
          "output_type": "display_data",
          "data": {
            "image/png": "[encoded data removed]",
            "text/plain": [
              "<Figure size 432x288 with 1 Axes>"
            ]
          },
          "metadata": {
            "needs_background": "light"
          }
        },
        {
          "output_type": "stream",
          "name": "stdout",
          "text": [
            "Intercept : [91048.08230848]\n",
            "Coefficient : [[ 0.00000000e+00 -3.12820358e-14  1.12073535e-15  1.22875723e-10\n",
            "  -4.67561080e-16  4.83793518e-22]]\n",
            "R2 Error : 0.8493551910478926\n",
            "Mean Absolute Error : 88462.89650455693\n",
            "Mean Squared Error : 11806713044.112282\n",
            "Root Mean Squared Error : 108658.69980867745\n"
          ]
        }
      ]
    },
    {
      "cell_type": "code",
      "source": [
        "#80:20\n",
        "PolyReg_S(ds,5,0.2,\"Area\",\"Production\")"
      ],
      "metadata": {
        "colab": {
          "base_uri": "https://localhost:8080/",
          "height": 417
        },
        "id": "wyKnxMUbQLAe",
        "outputId": "345dc254-dc6a-40bb-aef0-8c218a10af39"
      },
      "execution_count": null,
      "outputs": [
        {
          "output_type": "display_data",
          "data": {
            "image/png": "[encoded data removed]",
            "text/plain": [
              "<Figure size 432x288 with 1 Axes>"
            ]
          },
          "metadata": {
            "needs_background": "light"
          }
        },
        {
          "output_type": "stream",
          "name": "stdout",
          "text": [
            "Intercept : [91049.86965133]\n",
            "Coefficient : [[ 0.00000000e+00 -3.07717930e-15  1.11368270e-15  1.21953898e-10\n",
            "  -4.63487160e-16  4.80019313e-22]]\n",
            "R2 Error : 0.8521935357365393\n",
            "Mean Absolute Error : 85499.46860207808\n",
            "Mean Squared Error : 10847961640.070887\n",
            "Root Mean Squared Error : 104153.54837964421\n"
          ]
        }
      ]
    },
    {
      "cell_type": "code",
      "source": [
        "#50:50\n",
        "PolyReg_S(ds,5,0.5,\"Area\",\"Production\")"
      ],
      "metadata": {
        "colab": {
          "base_uri": "https://localhost:8080/",
          "height": 417
        },
        "id": "GgAJQSxDQQGS",
        "outputId": "907bc61e-b92b-4584-e9cd-f74fdcb58387"
      },
      "execution_count": null,
      "outputs": [
        {
          "output_type": "display_data",
          "data": {
            "image/png": "[encoded data removed]",
            "text/plain": [
              "<Figure size 432x288 with 1 Axes>"
            ]
          },
          "metadata": {
            "needs_background": "light"
          }
        },
        {
          "output_type": "stream",
          "name": "stdout",
          "text": [
            "Intercept : [91979.24478488]\n",
            "Coefficient : [[ 0.00000000e+00  1.59682573e-14  1.10655698e-15  1.21863805e-10\n",
            "  -4.63574835e-16  4.78768670e-22]]\n",
            "R2 Error : 0.8613253554057179\n",
            "Mean Absolute Error : 85655.33134483754\n",
            "Mean Squared Error : 11359948770.47837\n",
            "Root Mean Squared Error : 106583.06042931198\n"
          ]
        }
      ]
    },
    {
      "cell_type": "markdown",
      "source": [
        "DEG=4"
      ],
      "metadata": {
        "id": "kg8hGd3XPyPz"
      }
    },
    {
      "cell_type": "code",
      "source": [
        "#70:30\n",
        "PolyReg_S(ds,4,0.3,\"Area\",\"Production\")"
      ],
      "metadata": {
        "colab": {
          "base_uri": "https://localhost:8080/",
          "height": 417
        },
        "id": "cUNyHUjdP2pS",
        "outputId": "489225c7-3307-44e0-cf8d-a56ec8446097"
      },
      "execution_count": null,
      "outputs": [
        {
          "output_type": "display_data",
          "data": {
            "image/png": "[encoded data removed]",
            "text/plain": [
              "<Figure size 432x288 with 1 Axes>"
            ]
          },
          "metadata": {
            "needs_background": "light"
          }
        },
        {
          "output_type": "stream",
          "name": "stdout",
          "text": [
            "Intercept : [49937.56165943]\n",
            "Coefficient : [[ 0.00000000e+00  2.99979610e-09  2.49276657e-05 -8.38531962e-11\n",
            "   8.86721416e-17]]\n",
            "R2 Error : 0.8988138528767816\n",
            "Mean Absolute Error : 65468.82338689337\n",
            "Mean Squared Error : 7930414671.659706\n",
            "Root Mean Squared Error : 89052.87570685017\n"
          ]
        }
      ]
    },
    {
      "cell_type": "code",
      "source": [
        "#80:20\n",
        "PolyReg_S(ds,4,0.2,\"Area\",\"Production\")"
      ],
      "metadata": {
        "colab": {
          "base_uri": "https://localhost:8080/",
          "height": 417
        },
        "id": "oWRWwdjDP6zL",
        "outputId": "7867fecb-44f5-4a2a-ba6a-b47a537a0b2f"
      },
      "execution_count": null,
      "outputs": [
        {
          "output_type": "display_data",
          "data": {
            "image/png": "[encoded data removed]",
            "text/plain": [
              "<Figure size 432x288 with 1 Axes>"
            ]
          },
          "metadata": {
            "needs_background": "light"
          }
        },
        {
          "output_type": "stream",
          "name": "stdout",
          "text": [
            "Intercept : [49851.69992944]\n",
            "Coefficient : [[ 0.00000000e+00 -3.17375653e-09  2.47913157e-05 -8.35871180e-11\n",
            "   8.90760246e-17]]\n",
            "R2 Error : 0.9030368679118339\n",
            "Mean Absolute Error : 61925.306309834334\n",
            "Mean Squared Error : 7116416339.671425\n",
            "Root Mean Squared Error : 84358.85454219625\n"
          ]
        }
      ]
    },
    {
      "cell_type": "code",
      "source": [
        "#50:50\n",
        "PolyReg_S(ds,4,0.5,\"Area\",\"Production\")"
      ],
      "metadata": {
        "colab": {
          "base_uri": "https://localhost:8080/",
          "height": 417
        },
        "id": "CXetGUeJP_z6",
        "outputId": "ddd8931b-57af-4934-b789-c0bbf906a3e9"
      },
      "execution_count": null,
      "outputs": [
        {
          "output_type": "display_data",
          "data": {
            "image/png": "[encoded data removed]",
            "text/plain": [
              "<Figure size 432x288 with 1 Axes>"
            ]
          },
          "metadata": {
            "needs_background": "light"
          }
        },
        {
          "output_type": "stream",
          "name": "stdout",
          "text": [
            "Intercept : [49722.35121184]\n",
            "Coefficient : [[ 0.00000000e+00 -7.32330852e-10  2.51973439e-05 -8.56503175e-11\n",
            "   9.07236788e-17]]\n",
            "R2 Error : 0.9056575896802381\n",
            "Mean Absolute Error : 63327.53904576457\n",
            "Mean Squared Error : 7728341047.864022\n",
            "Root Mean Squared Error : 87910.98365883538\n"
          ]
        }
      ]
    },
    {
      "cell_type": "markdown",
      "source": [
        "***DEG = 3***\n",
        "\n",
        "---\n",
        "\n"
      ],
      "metadata": {
        "id": "w57sgf_UZ5eD"
      }
    },
    {
      "cell_type": "code",
      "source": [
        "#70:30\n",
        "PolyReg_S(ds,3,0.3,\"Area\",\"Production\")"
      ],
      "metadata": {
        "id": "Q8YB-D5V3iP5",
        "colab": {
          "base_uri": "https://localhost:8080/",
          "height": 405
        },
        "outputId": "da0e0580-dc84-4b81-a363-7d6d0fbd09f5"
      },
      "execution_count": null,
      "outputs": [
        {
          "output_type": "display_data",
          "data": {
            "image/png": "[encoded data removed]",
            "text/plain": [
              "<Figure size 432x288 with 1 Axes>"
            ]
          },
          "metadata": {
            "needs_background": "light"
          }
        },
        {
          "output_type": "stream",
          "name": "stdout",
          "text": [
            "Intercept : [-7438.60533903]\n",
            "Coefficient : [[ 0.00000000e+00  3.07398214e+00 -3.95585195e-06  6.10445028e-12]]\n",
            "R2 Error : 0.9210703945494858\n",
            "Mean Absolute Error : 48860.11959985993\n",
            "Mean Squared Error : 6186069129.906015\n",
            "Root Mean Squared Error : 78651.56787951538\n"
          ]
        }
      ]
    },
    {
      "cell_type": "code",
      "source": [
        "#80:20\n",
        "PolyReg_S(ds,3,0.2,\"Area\",\"Production\")"
      ],
      "metadata": {
        "id": "rteGigo13iP6",
        "colab": {
          "base_uri": "https://localhost:8080/",
          "height": 405
        },
        "outputId": "2db364e8-60cc-4590-eae0-ceb6c7a90a67"
      },
      "execution_count": null,
      "outputs": [
        {
          "output_type": "display_data",
          "data": {
            "image/png": "[encoded data removed]",
            "text/plain": [
              "<Figure size 432x288 with 1 Axes>"
            ]
          },
          "metadata": {
            "needs_background": "light"
          }
        },
        {
          "output_type": "stream",
          "name": "stdout",
          "text": [
            "Intercept : [-7429.35174699]\n",
            "Coefficient : [[ 0.00000000e+00  3.09807261e+00 -4.25855800e-06  6.78079815e-12]]\n",
            "R2 Error : 0.9255355383977804\n",
            "Mean Absolute Error : 45335.59319413\n",
            "Mean Squared Error : 5465171141.429598\n",
            "Root Mean Squared Error : 73926.79582823536\n"
          ]
        }
      ]
    },
    {
      "cell_type": "code",
      "source": [
        "#50:50\n",
        "PolyReg_S(ds,3,0.5,\"Area\",\"Production\")"
      ],
      "metadata": {
        "id": "i8_vL4po3iP7",
        "colab": {
          "base_uri": "https://localhost:8080/",
          "height": 399
        },
        "outputId": "559a7a7c-ab32-49c1-8bb4-88041d24c1da"
      },
      "execution_count": null,
      "outputs": [
        {
          "output_type": "display_data",
          "data": {
            "image/png": "[encoded data removed]",
            "text/plain": [
              "<Figure size 432x288 with 1 Axes>"
            ]
          },
          "metadata": {
            "needs_background": "light"
          }
        },
        {
          "output_type": "stream",
          "name": "stdout",
          "text": [
            "Intercept : [-9376.60796946]\n",
            "Coefficient : [[ 0.00000000e+00  3.14934996e+00 -4.42826961e-06  6.57252031e-12]]\n",
            "R2 Error : 0.9257987341331789\n",
            "Mean Absolute Error : 47566.75772414662\n",
            "Mean Squared Error : 6078418887.734353\n",
            "Root Mean Squared Error : 77964.21543076255\n"
          ]
        }
      ]
    },
    {
      "cell_type": "markdown",
      "source": [
        "***DEG = 2***\n",
        "\n",
        "---\n",
        "\n"
      ],
      "metadata": {
        "id": "FRxbt2d5Z_k8"
      }
    },
    {
      "cell_type": "code",
      "source": [
        "#70:30\n",
        "PolyReg_S(ds,2,0.3,\"Area\",\"Production\")"
      ],
      "metadata": {
        "colab": {
          "base_uri": "https://localhost:8080/",
          "height": 405
        },
        "id": "wtv3mFVtaCDi",
        "outputId": "38e8bc78-6904-400d-b885-90e331e2300f"
      },
      "execution_count": null,
      "outputs": [
        {
          "output_type": "display_data",
          "data": {
            "image/png": "[encoded data removed]",
            "text/plain": [
              "<Figure size 432x288 with 1 Axes>"
            ]
          },
          "metadata": {
            "needs_background": "light"
          }
        },
        {
          "output_type": "stream",
          "name": "stdout",
          "text": [
            "Intercept : [4933.19320589]\n",
            "Coefficient : [[ 0.00000000e+00  2.48482091e+00 -3.71988724e-08]]\n",
            "R2 Error : 0.9177575216081156\n",
            "Mean Absolute Error : 51386.20042907867\n",
            "Mean Squared Error : 6445713922.464365\n",
            "Root Mean Squared Error : 80285.20363344895\n"
          ]
        }
      ]
    },
    {
      "cell_type": "code",
      "source": [
        "#80:20\n",
        "PolyReg_S(ds,2,0.2,\"Area\",\"Production\")"
      ],
      "metadata": {
        "colab": {
          "base_uri": "https://localhost:8080/",
          "height": 405
        },
        "id": "UhEiYR4taMst",
        "outputId": "52959531-051c-4266-8bdd-137aef8d9905"
      },
      "execution_count": null,
      "outputs": [
        {
          "output_type": "display_data",
          "data": {
            "image/png": "[encoded data removed]",
            "text/plain": [
              "<Figure size 432x288 with 1 Axes>"
            ]
          },
          "metadata": {
            "needs_background": "light"
          }
        },
        {
          "output_type": "stream",
          "name": "stdout",
          "text": [
            "Intercept : [5882.74847181]\n",
            "Coefficient : [[0.00000000e+00 2.45307035e+00 6.02165082e-08]]\n",
            "R2 Error : 0.9225845225223525\n",
            "Mean Absolute Error : 47996.28118168406\n",
            "Mean Squared Error : 5681755085.679966\n",
            "Root Mean Squared Error : 75377.41761084659\n"
          ]
        }
      ]
    },
    {
      "cell_type": "code",
      "source": [
        "#50:50\n",
        "PolyReg_S(ds,2,0.5,\"Area\",\"Production\")"
      ],
      "metadata": {
        "colab": {
          "base_uri": "https://localhost:8080/",
          "height": 405
        },
        "id": "PB81DF4naNbw",
        "outputId": "19b265c2-a504-44ac-8287-2a37d210cbeb"
      },
      "execution_count": null,
      "outputs": [
        {
          "output_type": "display_data",
          "data": {
            "image/png": "[encoded data removed]",
            "text/plain": [
              "<Figure size 432x288 with 1 Axes>"
            ]
          },
          "metadata": {
            "needs_background": "light"
          }
        },
        {
          "output_type": "stream",
          "name": "stdout",
          "text": [
            "Intercept : [4492.9904169]\n",
            "Coefficient : [[ 0.00000000e+00  2.49863259e+00 -1.40978182e-07]]\n",
            "R2 Error : 0.9241180533572656\n",
            "Mean Absolute Error : 49343.29537684944\n",
            "Mean Squared Error : 6216096886.259325\n",
            "Root Mean Squared Error : 78842.22781136594\n"
          ]
        }
      ]
    },
    {
      "cell_type": "markdown",
      "source": [
        "***DEG = 1***\n",
        "\n",
        "---\n",
        "\n"
      ],
      "metadata": {
        "id": "xQWL18kAaul_"
      }
    },
    {
      "cell_type": "code",
      "source": [
        "#70:30\n",
        "PolyReg_S(ds,1,0.3,\"Area\",\"Production\")"
      ],
      "metadata": {
        "colab": {
          "base_uri": "https://localhost:8080/",
          "height": 405
        },
        "id": "dvAmZqZ4afbA",
        "outputId": "73570d3f-5a22-45a9-9456-c7928d4a8c94"
      },
      "execution_count": null,
      "outputs": [
        {
          "output_type": "display_data",
          "data": {
            "image/png": "[encoded data removed]",
            "text/plain": [
              "<Figure size 432x288 with 1 Axes>"
            ]
          },
          "metadata": {
            "needs_background": "light"
          }
        },
        {
          "output_type": "stream",
          "name": "stdout",
          "text": [
            "Intercept : [5488.17751199]\n",
            "Coefficient : [[0.         2.47098687]]\n",
            "R2 Error : 0.9177855355115445\n",
            "Mean Absolute Error : 51532.66311210698\n",
            "Mean Squared Error : 6443518346.517673\n",
            "Root Mean Squared Error : 80271.52886620307\n"
          ]
        }
      ]
    },
    {
      "cell_type": "code",
      "source": [
        "#80:20\n",
        "PolyReg_S(ds,1,0.2,\"Area\",\"Production\")"
      ],
      "metadata": {
        "colab": {
          "base_uri": "https://localhost:8080/",
          "height": 405
        },
        "id": "gzTX2RkiagIM",
        "outputId": "5cb37702-2533-4ff3-f84f-10e19a6cac9d"
      },
      "execution_count": null,
      "outputs": [
        {
          "output_type": "display_data",
          "data": {
            "image/png": "[encoded data removed]",
            "text/plain": [
              "<Figure size 432x288 with 1 Axes>"
            ]
          },
          "metadata": {
            "needs_background": "light"
          }
        },
        {
          "output_type": "stream",
          "name": "stdout",
          "text": [
            "Intercept : [4996.97692332]\n",
            "Coefficient : [[0.        2.4751901]]\n",
            "R2 Error : 0.9226724048901314\n",
            "Mean Absolute Error : 47726.81682771832\n",
            "Mean Squared Error : 5675305133.986348\n",
            "Root Mean Squared Error : 75334.62108477316\n"
          ]
        }
      ]
    },
    {
      "cell_type": "code",
      "source": [
        "#50:50\n",
        "PolyReg_S(ds,1,0.5,\"Area\",\"Production\")"
      ],
      "metadata": {
        "colab": {
          "base_uri": "https://localhost:8080/",
          "height": 405
        },
        "id": "Kbaxesb_agkC",
        "outputId": "b5bc6c5c-c323-4057-f1e8-2db94ea2e69f"
      },
      "execution_count": null,
      "outputs": [
        {
          "output_type": "display_data",
          "data": {
            "image/png": "[encoded data removed]",
            "text/plain": [
              "<Figure size 432x288 with 1 Axes>"
            ]
          },
          "metadata": {
            "needs_background": "light"
          }
        },
        {
          "output_type": "stream",
          "name": "stdout",
          "text": [
            "Intercept : [6690.71484845]\n",
            "Coefficient : [[0.         2.44493247]]\n",
            "R2 Error : 0.9242464436297912\n",
            "Mean Absolute Error : 49907.832989316055\n",
            "Mean Squared Error : 6205579412.623204\n",
            "Root Mean Squared Error : 78775.50007853459\n"
          ]
        }
      ]
    },
    {
      "cell_type": "markdown",
      "source": [
        "**Polynomial Regression With Gradient Descent Method**"
      ],
      "metadata": {
        "id": "4q1Ov6uQ3iP8"
      }
    },
    {
      "cell_type": "code",
      "source": [
        "# Polynomial Regression With Gradient Descent\n",
        "\n",
        "def generate_poly(X,degree = 2): #X = (1*n)\n",
        "    poly_X  = X\n",
        "    for d in range(2,degree+1):\n",
        "        Xi_deg_list = X**d\n",
        "        deg_list = np.array(Xi_deg_list)\n",
        "        poly_X = np.concatenate((poly_X,Xi_deg_list))\n",
        "    poly_X = poly_X.transpose()\n",
        "    return poly_X\n",
        "\n",
        "\n",
        "def poly_reg_grad_des(X,Y,iteration,learning_rate,precision_value,deg):\n",
        "    X = X.reshape(1,-1)\n",
        "    poly_x = generate_poly(X,deg)\n",
        "    Y = Y.reshape(-1,1)\n",
        "    liniar_reg_grad_des(poly_x,Y,iteration,learning_rate,precision_value)"
      ],
      "metadata": {
        "id": "khjRFqH-Mh0O"
      },
      "execution_count": null,
      "outputs": []
    },
    {
      "cell_type": "code",
      "source": [
        "X,Y = getXYArray(ds,\"Production\",\"Area\")"
      ],
      "metadata": {
        "id": "kMN-AxcuT0at"
      },
      "execution_count": null,
      "outputs": []
    },
    {
      "cell_type": "markdown",
      "source": [
        "DEG=5"
      ],
      "metadata": {
        "id": "GhS_-YVOZLza"
      }
    },
    {
      "cell_type": "markdown",
      "source": [
        "FOR 1000 ITERATIONS"
      ],
      "metadata": {
        "id": "yjKQHKXLbmjq"
      }
    },
    {
      "cell_type": "code",
      "source": [
        "#L = 0.1\n",
        "poly_reg_grad_des(X,Y,1000,0.1,0.001,5)"
      ],
      "metadata": {
        "id": "0HPIqart3iP8",
        "colab": {
          "base_uri": "https://localhost:8080/"
        },
        "outputId": "105fca34-e2a0-4e7b-f29e-13b49065441a"
      },
      "execution_count": null,
      "outputs": [
        {
          "output_type": "stream",
          "name": "stdout",
          "text": [
            "Iteration -  1000\n",
            "MAE : [2.10773372e+08]\n",
            "MSE :  [4.96111001e+13]\n",
            "RMSE : 7043514.755879447\n",
            "r2: 0.39771302135406583\n",
            "Coeficient: [array([300897.06363911]), array([-35229.84608097]), array([-19348.13130629]), array([24339.70461104]), array([14519.45316218])]\n",
            "cost: [5.11982457e+10] \n",
            "-----\n",
            "Intercepts - 49676.85580612351\n"
          ]
        }
      ]
    },
    {
      "cell_type": "code",
      "source": [
        "#L = 0.01\n",
        "poly_reg_grad_des(X,Y,1000,0.01,0.001,5)"
      ],
      "metadata": {
        "id": "zFBhO2hs3iQB",
        "colab": {
          "base_uri": "https://localhost:8080/"
        },
        "outputId": "ed542664-bda7-4b45-da20-3af654aa6c28"
      },
      "execution_count": null,
      "outputs": [
        {
          "output_type": "stream",
          "name": "stdout",
          "text": [
            "Iteration -  1000\n",
            "MAE : [2.53961325e+08]\n",
            "MSE :  [7.2288919e+13]\n",
            "RMSE : 8502289.046513153\n",
            "r2: 0.12240054079878404\n",
            "Coeficient: [array([230481.78006767]), array([65558.07001148]), array([7708.02151989]), array([-10389.74350423]), array([-17719.8296694])]\n",
            "cost: [7.46015676e+10] \n",
            "-----\n",
            "Intercepts - 5441.6027651821405\n"
          ]
        }
      ]
    },
    {
      "cell_type": "code",
      "source": [
        "#L = 0.001\n",
        "poly_reg_grad_des(X,Y,1000,0.001,0.001,5)"
      ],
      "metadata": {
        "colab": {
          "base_uri": "https://localhost:8080/"
        },
        "id": "2w9RmV8HZbk8",
        "outputId": "4cd5d01e-3e78-451a-999a-c142fef9726e"
      },
      "execution_count": null,
      "outputs": [
        {
          "output_type": "stream",
          "name": "stdout",
          "text": [
            "Iteration -  1000\n",
            "MAE : [2.58767189e+08]\n",
            "MSE :  [7.84784643e+13]\n",
            "RMSE : 8858807.158241147\n",
            "r2: 0.04725843568695087\n",
            "Coeficient: [array([135222.52481678]), array([78227.7184957]), array([39407.2727228]), array([14582.47601985]), array([-1757.91589333])]\n",
            "cost: [8.09891272e+10] \n",
            "-----\n",
            "Intercepts - 549.6599109762667\n"
          ]
        }
      ]
    },
    {
      "cell_type": "code",
      "source": [
        "#L = 0.05\n",
        "poly_reg_grad_des(X,Y,1000,0.05,0.001,5)"
      ],
      "metadata": {
        "id": "eY4uXuM_3iQD",
        "colab": {
          "base_uri": "https://localhost:8080/"
        },
        "outputId": "e6af94eb-11de-4f5b-e066-c65c96386687"
      },
      "execution_count": null,
      "outputs": [
        {
          "output_type": "stream",
          "name": "stdout",
          "text": [
            "Iteration -  1000\n",
            "MAE : [2.33691583e+08]\n",
            "MSE :  [6.10069089e+13]\n",
            "RMSE : 7810691.958797711\n",
            "r2: 0.2593660141206515\n",
            "Coeficient: [array([285844.68631567]), array([-5655.15108094]), array([-24212.15208469]), array([7092.72944564]), array([20666.08163014])]\n",
            "cost: [6.29586263e+10] \n",
            "-----\n",
            "Intercepts - 26118.05419809775\n"
          ]
        }
      ]
    },
    {
      "cell_type": "code",
      "source": [
        "#L = 0.005\n",
        "poly_reg_grad_des(X,Y,1000,0.005,0.001,5)"
      ],
      "metadata": {
        "colab": {
          "base_uri": "https://localhost:8080/"
        },
        "id": "OH5Xofh_aVix",
        "outputId": "016c699c-0879-4cc4-ad3b-b92574eda5d4"
      },
      "execution_count": null,
      "outputs": [
        {
          "output_type": "stream",
          "name": "stdout",
          "text": [
            "Iteration -  1000\n",
            "MAE : [2.56619199e+08]\n",
            "MSE :  [7.39778079e+13]\n",
            "RMSE : 8601035.282552434\n",
            "r2: 0.10189714959760665\n",
            "Coeficient: [array([212567.81657535]), array([83017.80299258]), array([19528.6376032]), array([-12010.65486362]), array([-30074.12295773])]\n",
            "cost: [7.6344487e+10] \n",
            "-----\n",
            "Intercepts - 2735.0728526091043\n"
          ]
        }
      ]
    },
    {
      "cell_type": "markdown",
      "source": [
        "FOR 500 ITERATIONS"
      ],
      "metadata": {
        "id": "lD2qVcUZbiRl"
      }
    },
    {
      "cell_type": "code",
      "source": [
        "#L = 0.1\n",
        "poly_reg_grad_des(X,Y,500,0.1,0.001,5)"
      ],
      "metadata": {
        "colab": {
          "base_uri": "https://localhost:8080/"
        },
        "id": "gY6O2pG8agaw",
        "outputId": "5d13d36c-ef84-4283-b7cb-8d9357f09145"
      },
      "execution_count": null,
      "outputs": [
        {
          "output_type": "stream",
          "name": "stdout",
          "text": [
            "Iteration -  500\n",
            "MAE : [2.33714464e+08]\n",
            "MSE :  [6.10188769e+13]\n",
            "RMSE : 7811458.0501898\n",
            "r2: 0.25922072068188506\n",
            "Coeficient: [array([285870.24364324]), array([-5683.40177801]), array([-24233.02846855]), array([7095.12166065]), array([20691.34779739])]\n",
            "cost: [6.29709772e+10] \n",
            "-----\n",
            "Intercepts - 26119.31831778108\n"
          ]
        }
      ]
    },
    {
      "cell_type": "code",
      "source": [
        "#L = 0.01\n",
        "poly_reg_grad_des(X,Y,500,0.01,0.001,5)"
      ],
      "metadata": {
        "colab": {
          "base_uri": "https://localhost:8080/"
        },
        "id": "Dm2pipu5aqmf",
        "outputId": "ec2e692d-a6cc-4645-f1a6-41bc3e1be091"
      },
      "execution_count": null,
      "outputs": [
        {
          "output_type": "stream",
          "name": "stdout",
          "text": [
            "Iteration -  500\n",
            "MAE : [2.56622097e+08]\n",
            "MSE :  [7.39794837e+13]\n",
            "RMSE : 8601132.697032087\n",
            "r2: 0.10187680583330005\n",
            "Coeficient: [array([212589.63989858]), array([83022.95659409]), array([19524.34037711]), array([-12019.82816379]), array([-30085.73049282])]\n",
            "cost: [7.63462164e+10] \n",
            "-----\n",
            "Intercepts - 2735.0905154010356\n"
          ]
        }
      ]
    },
    {
      "cell_type": "code",
      "source": [
        "#L = 0.001\n",
        "poly_reg_grad_des(X,Y,500,0.001,0.001,5)"
      ],
      "metadata": {
        "colab": {
          "base_uri": "https://localhost:8080/"
        },
        "id": "HvvFxsaaat55",
        "outputId": "40d3d99b-5a6b-480d-9586-a4e8fbeb4c33"
      },
      "execution_count": null,
      "outputs": [
        {
          "output_type": "stream",
          "name": "stdout",
          "text": [
            "Iteration -  500\n",
            "MAE : [2.603978e+08]\n",
            "MSE :  [8.26422067e+13]\n",
            "RMSE : 9090775.912805345\n",
            "r2: -0.003290087569101985\n",
            "Coeficient: [array([99428.93651806]), array([68201.66702208]), array([44943.85258024]), array([29182.51619334]), array([18345.66796447])]\n",
            "cost: [8.5286075e+10] \n",
            "-----\n",
            "Intercepts - 275.21322543119965\n"
          ]
        }
      ]
    },
    {
      "cell_type": "code",
      "source": [
        "#L = 0.05\n",
        "poly_reg_grad_des(X,Y,500,0.05,0.001,5)"
      ],
      "metadata": {
        "colab": {
          "base_uri": "https://localhost:8080/"
        },
        "id": "oIFwYauwayFz",
        "outputId": "6caccbfd-7e39-422b-8eb8-57493dc5ba64"
      },
      "execution_count": null,
      "outputs": [
        {
          "output_type": "stream",
          "name": "stdout",
          "text": [
            "Iteration -  500\n",
            "MAE : [2.46140903e+08]\n",
            "MSE :  [6.77298481e+13]\n",
            "RMSE : 8229814.583838033\n",
            "r2: 0.17774841776835626\n",
            "Coeficient: [array([261843.60280522]), array([27459.14468764]), array([-13318.33417666]), array([-3196.98295866]), array([7602.22443254])]\n",
            "cost: [6.9896644e+10] \n",
            "-----\n",
            "Intercepts - 13396.12488802598\n"
          ]
        }
      ]
    },
    {
      "cell_type": "code",
      "source": [
        "#L = 0.005\n",
        "poly_reg_grad_des(X,Y,500,0.005,0.001,5)"
      ],
      "metadata": {
        "colab": {
          "base_uri": "https://localhost:8080/"
        },
        "id": "dtmMO_OsbIe4",
        "outputId": "fc5a423d-a992-4d94-c845-9151f0f6aa42"
      },
      "execution_count": null,
      "outputs": [
        {
          "output_type": "stream",
          "name": "stdout",
          "text": [
            "Iteration -  500\n",
            "MAE : [2.57763763e+08]\n",
            "MSE :  [7.51172072e+13]\n",
            "RMSE : 8667018.355754618\n",
            "r2: 0.08806465387579099\n",
            "Coeficient: [array([187236.2773381]), array([87808.41142164]), array([28630.71753858]), array([-5908.44399756]), array([-27456.4168935])]\n",
            "cost: [7.75203376e+10] \n",
            "-----\n",
            "Intercepts - 1371.3108886286145\n"
          ]
        }
      ]
    },
    {
      "cell_type": "markdown",
      "source": [
        "FOR 100 ITERATIONS"
      ],
      "metadata": {
        "id": "8LqCCAoVbeNX"
      }
    },
    {
      "cell_type": "code",
      "source": [
        "#L = 0.1\n",
        "poly_reg_grad_des(X,Y,100,0.1,0.001,5)"
      ],
      "metadata": {
        "colab": {
          "base_uri": "https://localhost:8080/"
        },
        "id": "tIunxK77bMqL",
        "outputId": "da39756c-e4d7-4b54-d717-8bb1a4e457a3"
      },
      "execution_count": null,
      "outputs": [
        {
          "output_type": "stream",
          "name": "stdout",
          "text": [
            "Iteration -  100\n",
            "MAE : [2.54008783e+08]\n",
            "MSE :  [7.23174753e+13]\n",
            "RMSE : 8503968.209320312\n",
            "r2: 0.12205386289094\n",
            "Coeficient: [array([230545.28173838]), array([65504.38263514]), array([7660.19584265]), array([-10391.63863518]), array([-17670.42311822])]\n",
            "cost: [7.46310375e+10] \n",
            "-----\n",
            "Intercepts - 5442.115983249048\n"
          ]
        }
      ]
    },
    {
      "cell_type": "code",
      "source": [
        "#L = 0.01\n",
        "poly_reg_grad_des(X,Y,100,0.01,0.001,5)"
      ],
      "metadata": {
        "colab": {
          "base_uri": "https://localhost:8080/"
        },
        "id": "ECUwdETybwas",
        "outputId": "5ed18ab2-b363-483b-e97a-7ca1905ae472"
      },
      "execution_count": null,
      "outputs": [
        {
          "output_type": "stream",
          "name": "stdout",
          "text": [
            "Iteration -  100\n",
            "MAE : [2.58782787e+08]\n",
            "MSE :  [7.85087926e+13]\n",
            "RMSE : 8860518.753268247\n",
            "r2: 0.04689024497513472\n",
            "Coeficient: [array([135426.22205776]), array([78300.58575829]), array([39381.31366529]), array([14490.90690985]), array([-1891.91524491])]\n",
            "cost: [8.10204258e+10] \n",
            "-----\n",
            "Intercepts - 549.685929917555\n"
          ]
        }
      ]
    },
    {
      "cell_type": "code",
      "source": [
        "#L = 0.001\n",
        "poly_reg_grad_des(X,Y,100,0.001,0.001,5)"
      ],
      "metadata": {
        "colab": {
          "base_uri": "https://localhost:8080/"
        },
        "id": "yZLUtsfdb2fT",
        "outputId": "a2b57084-d831-484a-a011-aa138ac5d913"
      },
      "execution_count": null,
      "outputs": [
        {
          "output_type": "stream",
          "name": "stdout",
          "text": [
            "Iteration -  100\n",
            "MAE : [2.58039634e+08]\n",
            "MSE :  [9.90596504e+13]\n",
            "RMSE : 9952871.463376626\n",
            "r2: -0.2026005749743045\n",
            "Coeficient: [array([40713.98750158]), array([35659.69959878]), array([30448.52617654]), array([26275.33432183]), array([23037.80676762])]\n",
            "cost: [1.02228741e+11] \n",
            "-----\n",
            "Intercepts - 55.46751462721478\n"
          ]
        }
      ]
    },
    {
      "cell_type": "code",
      "source": [
        "#L = 0.5\n",
        "poly_reg_grad_des(X,Y,100,0.5,0.001,5)"
      ],
      "metadata": {
        "colab": {
          "base_uri": "https://localhost:8080/"
        },
        "id": "vQ0wI3aDcBGM",
        "outputId": "d65fa69c-7b2f-423e-ed21-12705ec0af4b"
      },
      "execution_count": null,
      "outputs": [
        {
          "output_type": "stream",
          "name": "stdout",
          "text": [
            "Iteration -  100\n",
            "MAE : [6.17865169e+62]\n",
            "MSE :  [1.19519833e+123]\n",
            "RMSE : 3.4571640583841477e+61\n",
            "r2: -1.45099058672768e+109\n",
            "Coeficient: [array([-7.59702724e+59]), array([-8.51936466e+59]), array([-8.63696341e+59]), array([-8.45734826e+59]), array([-8.1784158e+59])]\n",
            "cost: [1.23343481e+120] \n",
            "-----\n",
            "Intercepts - 0.0\n"
          ]
        }
      ]
    },
    {
      "cell_type": "code",
      "source": [
        "#L = 0.05\n",
        "poly_reg_grad_des(X,Y,100,0.05,0.001,5)"
      ],
      "metadata": {
        "colab": {
          "base_uri": "https://localhost:8080/"
        },
        "id": "y0abyi5AcHri",
        "outputId": "25af9ad5-a9a1-49f3-ebc4-3ae3c4544cc7"
      },
      "execution_count": null,
      "outputs": [
        {
          "output_type": "stream",
          "name": "stdout",
          "text": [
            "Iteration -  100\n",
            "MAE : [2.56645308e+08]\n",
            "MSE :  [7.39929071e+13]\n",
            "RMSE : 8601912.993474025\n",
            "r2: 0.10171384261764416\n",
            "Coeficient: [array([212761.929085]), array([83063.3453729]), array([19490.20188268]), array([-12092.18244526]), array([-30176.96620552])]\n",
            "cost: [7.63600693e+10] \n",
            "-----\n",
            "Intercepts - 2735.2162954370215\n"
          ]
        }
      ]
    },
    {
      "cell_type": "code",
      "source": [
        "#L = 0.005\n",
        "poly_reg_grad_des(X,Y,100,0.005,0.001,5)"
      ],
      "metadata": {
        "colab": {
          "base_uri": "https://localhost:8080/"
        },
        "id": "jp_jG_BVcLC6",
        "outputId": "09cfe05a-99f9-4e44-8f69-2a22dbd7d3de"
      },
      "execution_count": null,
      "outputs": [
        {
          "output_type": "stream",
          "name": "stdout",
          "text": [
            "Iteration -  100\n",
            "MAE : [2.60427204e+08]\n",
            "MSE :  [8.26803304e+13]\n",
            "RMSE : 9092872.507507022\n",
            "r2: -0.0037529161032141545\n",
            "Coeficient: [array([99536.85971141]), array([68270.58059503]), array([44980.13240004]), array([29195.72125372]), array([18343.06829655])]\n",
            "cost: [8.53254184e+10] \n",
            "-----\n",
            "Intercepts - 275.25056199443736\n"
          ]
        }
      ]
    },
    {
      "cell_type": "code",
      "source": [
        "#L = 1\n",
        "poly_reg_grad_des(X,Y,100,1,0.001,5)"
      ],
      "metadata": {
        "colab": {
          "base_uri": "https://localhost:8080/"
        },
        "id": "fecXwzUMcPz3",
        "outputId": "e2de4629-e9dc-4741-cbd3-c22027898380"
      },
      "execution_count": null,
      "outputs": [
        {
          "output_type": "stream",
          "name": "stdout",
          "text": [
            "Iteration -  100\n",
            "MAE : [1.72237769e+98]\n",
            "MSE :  [9.28772469e+193]\n",
            "RMSE : 9.637284206596097e+96\n",
            "r2: -1.1275451718749395e+180\n",
            "Coeficient: [array([-4.82959857e+95]), array([-5.41594891e+95]), array([-5.49070904e+95]), array([-5.37652371e+95]), array([-5.19920016e+95])]\n",
            "cost: [9.5848552e+190] \n",
            "-----\n",
            "Intercepts - 3.823887363874219e+75\n"
          ]
        }
      ]
    },
    {
      "cell_type": "markdown",
      "source": [
        "DEG=4"
      ],
      "metadata": {
        "id": "nFeP4CZUdN5G"
      }
    },
    {
      "cell_type": "markdown",
      "source": [
        "FOR 1000 ITERATIONS"
      ],
      "metadata": {
        "id": "Jea6Eo-fdQAU"
      }
    },
    {
      "cell_type": "code",
      "source": [
        "#L = 0.1\n",
        "poly_reg_grad_des(X,Y,1000,0.1,0.001,4)"
      ],
      "metadata": {
        "colab": {
          "base_uri": "https://localhost:8080/"
        },
        "id": "KM8tpx6qdS9j",
        "outputId": "cbaaf66d-5573-459f-9f91-88af2f94710c"
      },
      "execution_count": null,
      "outputs": [
        {
          "output_type": "stream",
          "name": "stdout",
          "text": [
            "Iteration -  1000\n",
            "MAE : [2.10767141e+08]\n",
            "MSE :  [4.95991447e+13]\n",
            "RMSE : 7042666.019087632\n",
            "r2: 0.39785816261867224\n",
            "Coeficient: [array([303241.6375491]), array([-44199.78853189]), array([-17729.9048746]), array([43685.2637291])]\n",
            "cost: [5.11859078e+10] \n",
            "-----\n",
            "Intercepts - 49676.85542869043\n"
          ]
        }
      ]
    },
    {
      "cell_type": "code",
      "source": [
        "#L = 0.01\n",
        "poly_reg_grad_des(X,Y,1000,0.01,0.001,4)"
      ],
      "metadata": {
        "colab": {
          "base_uri": "https://localhost:8080/"
        },
        "id": "fl6Hig0odZ4A",
        "outputId": "3455cf5f-ca0d-4dd9-d550-bc8118412b45"
      },
      "execution_count": null,
      "outputs": [
        {
          "output_type": "stream",
          "name": "stdout",
          "text": [
            "Iteration -  1000\n",
            "MAE : [2.53958493e+08]\n",
            "MSE :  [7.22362109e+13]\n",
            "RMSE : 8499188.837146532\n",
            "r2: 0.12304042636687829\n",
            "Coeficient: [array([236122.63075091]), array([66793.99064681]), array([180.05174057]), array([-26522.15813647])]\n",
            "cost: [7.45471733e+10] \n",
            "-----\n",
            "Intercepts - 5441.612414091845\n"
          ]
        }
      ]
    },
    {
      "cell_type": "code",
      "source": [
        "#L = 0.001\n",
        "poly_reg_grad_des(X,Y,1000,0.001,0.001,4)"
      ],
      "metadata": {
        "colab": {
          "base_uri": "https://localhost:8080/"
        },
        "id": "FGQEfFEnddTV",
        "outputId": "963ab9e2-251f-448c-b965-9fc848c5be5a"
      },
      "execution_count": null,
      "outputs": [
        {
          "output_type": "stream",
          "name": "stdout",
          "text": [
            "Iteration -  1000\n",
            "MAE : [2.59289971e+08]\n",
            "MSE :  [7.8804818e+13]\n",
            "RMSE : 8877207.783035697\n",
            "r2: 0.043296446991239135\n",
            "Coeficient: [array([132730.38505197]), array([78090.32761841]), array([41354.23311432]), array([18071.15183943])]\n",
            "cost: [8.13259216e+10] \n",
            "-----\n",
            "Intercepts - 549.6562541260065\n"
          ]
        }
      ]
    },
    {
      "cell_type": "code",
      "source": [
        "#L = 0.05\n",
        "poly_reg_grad_des(X,Y,1000,0.05,0.001,4)"
      ],
      "metadata": {
        "colab": {
          "base_uri": "https://localhost:8080/"
        },
        "id": "v77i6Up7dh7A",
        "outputId": "af83f6e5-46da-4d34-9c99-dba0f2466a0b"
      },
      "execution_count": null,
      "outputs": [
        {
          "output_type": "stream",
          "name": "stdout",
          "text": [
            "Iteration -  1000\n",
            "MAE : [2.33720864e+08]\n",
            "MSE :  [6.10103323e+13]\n",
            "RMSE : 7810911.10785553\n",
            "r2: 0.25932445275373206\n",
            "Coeficient: [array([281871.57909469]), array([-6775.31989526]), array([-16521.49021005]), array([23814.95959264])]\n",
            "cost: [6.29621593e+10] \n",
            "-----\n",
            "Intercepts - 26118.02162643136\n"
          ]
        }
      ]
    },
    {
      "cell_type": "code",
      "source": [
        "#L = 0.005\n",
        "poly_reg_grad_des(X,Y,1000,0.005,0.001,4)"
      ],
      "metadata": {
        "colab": {
          "base_uri": "https://localhost:8080/"
        },
        "id": "r0GLRU6_dorP",
        "outputId": "03cc4bf9-eb39-42fa-c4af-f1c8af34f854"
      },
      "execution_count": null,
      "outputs": [
        {
          "output_type": "stream",
          "name": "stdout",
          "text": [
            "Iteration -  1000\n",
            "MAE : [2.56521292e+08]\n",
            "MSE :  [7.38606982e+13]\n",
            "RMSE : 8594224.701947318\n",
            "r2: 0.10331888081738339\n",
            "Coeficient: [array([218824.10209743]), array([79775.59040241]), array([7386.56656015]), array([-30964.26545395])]\n",
            "cost: [7.62236308e+10] \n",
            "-----\n",
            "Intercepts - 2735.0861394853073\n"
          ]
        }
      ]
    },
    {
      "cell_type": "markdown",
      "source": [
        "FOR 500 ITERATIONS"
      ],
      "metadata": {
        "id": "tQ88zQQWdzp_"
      }
    },
    {
      "cell_type": "code",
      "source": [
        "#L = 0.1\n",
        "poly_reg_grad_des(X,Y,500,0.1,0.001,4)"
      ],
      "metadata": {
        "colab": {
          "base_uri": "https://localhost:8080/"
        },
        "id": "QK7EIReHduhw",
        "outputId": "69a8e989-1729-49c1-f279-6a5fa3acfa05"
      },
      "execution_count": null,
      "outputs": [
        {
          "output_type": "stream",
          "name": "stdout",
          "text": [
            "Iteration -  500\n",
            "MAE : [2.33743773e+08]\n",
            "MSE :  [6.10223192e+13]\n",
            "RMSE : 7811678.383801509\n",
            "r2: 0.25917893056409713\n",
            "Coeficient: [array([281890.99651253]), array([-6805.48109606]), array([-16532.21386683]), array([23838.96664211])]\n",
            "cost: [6.29745296e+10] \n",
            "-----\n",
            "Intercepts - 26119.310193314363\n"
          ]
        }
      ]
    },
    {
      "cell_type": "code",
      "source": [
        "#L = 0.01\n",
        "poly_reg_grad_des(X,Y,500,0.01,0.001,4)"
      ],
      "metadata": {
        "colab": {
          "base_uri": "https://localhost:8080/"
        },
        "id": "Ic-5BfQtd9SP",
        "outputId": "bc5f5f09-929c-46f7-aefa-e1a859a2637e"
      },
      "execution_count": null,
      "outputs": [
        {
          "output_type": "stream",
          "name": "stdout",
          "text": [
            "Iteration -  500\n",
            "MAE : [2.56524078e+08]\n",
            "MSE :  [7.3862214e+13]\n",
            "RMSE : 8594312.884618865\n",
            "r2: 0.10330047958980948\n",
            "Coeficient: [array([218860.58363048]), array([79781.40370955]), array([7372.26488771]), array([-30990.56362051])]\n",
            "cost: [7.6225195e+10] \n",
            "-----\n",
            "Intercepts - 2735.086040575854\n"
          ]
        }
      ]
    },
    {
      "cell_type": "code",
      "source": [
        "#L = 0.001\n",
        "poly_reg_grad_des(X,Y,500,0.001,0.001,4)"
      ],
      "metadata": {
        "colab": {
          "base_uri": "https://localhost:8080/"
        },
        "id": "LQbeo-GBeAxK",
        "outputId": "d196264e-080a-46e2-c912-89ad850def41"
      },
      "execution_count": null,
      "outputs": [
        {
          "output_type": "stream",
          "name": "stdout",
          "text": [
            "Iteration -  500\n",
            "MAE : [2.60238252e+08]\n",
            "MSE :  [8.18563585e+13]\n",
            "RMSE : 9047450.38432067\n",
            "r2: 0.006250240323105727\n",
            "Coeficient: [array([101349.59962134]), array([72797.74686185]), array([51431.82984858]), array([36883.67811962])]\n",
            "cost: [8.44750861e+10] \n",
            "-----\n",
            "Intercepts - 275.23643192224773\n"
          ]
        }
      ]
    },
    {
      "cell_type": "code",
      "source": [
        "#L = 0.05\n",
        "poly_reg_grad_des(X,Y,500,0.05,0.001,4)"
      ],
      "metadata": {
        "colab": {
          "base_uri": "https://localhost:8080/"
        },
        "id": "NW9Xj2_PeEKY",
        "outputId": "cfabd76e-9ec4-4cba-b637-f827daf0a342"
      },
      "execution_count": null,
      "outputs": [
        {
          "output_type": "stream",
          "name": "stdout",
          "text": [
            "Iteration -  500\n",
            "MAE : [2.46173597e+08]\n",
            "MSE :  [6.77575065e+13]\n",
            "RMSE : 8231494.788919551\n",
            "r2: 0.17741264050340178\n",
            "Coeficient: [array([258451.51164394]), array([31730.73486129]), array([-8951.8702306]), array([-1819.24527541])]\n",
            "cost: [6.99251873e+10] \n",
            "-----\n",
            "Intercepts - 13396.116451575486\n"
          ]
        }
      ]
    },
    {
      "cell_type": "code",
      "source": [
        "#L = 0.005\n",
        "poly_reg_grad_des(X,Y,500,0.005,0.001,4)"
      ],
      "metadata": {
        "colab": {
          "base_uri": "https://localhost:8080/"
        },
        "id": "0gBc37H1eJtm",
        "outputId": "59c50c0f-4c0d-450a-edac-4d6274b9a740"
      },
      "execution_count": null,
      "outputs": [
        {
          "output_type": "stream",
          "name": "stdout",
          "text": [
            "Iteration -  500\n",
            "MAE : [2.57732996e+08]\n",
            "MSE :  [7.52953961e+13]\n",
            "RMSE : 8677291.978663921\n",
            "r2: 0.08590141104575144\n",
            "Coeficient: [array([185982.88184131]), array([82478.28046903]), array([20476.52377767]), array([-15835.11353016])]\n",
            "cost: [7.77042271e+10] \n",
            "-----\n",
            "Intercepts - 1371.323910343907\n"
          ]
        }
      ]
    },
    {
      "cell_type": "markdown",
      "source": [
        "FOR 100 ITERATIONS"
      ],
      "metadata": {
        "id": "cEMB8rG2eRdi"
      }
    },
    {
      "cell_type": "code",
      "source": [
        "#L = 0.1\n",
        "poly_reg_grad_des(X,Y,100,0.1,0.001,4)"
      ],
      "metadata": {
        "colab": {
          "base_uri": "https://localhost:8080/"
        },
        "id": "_V2vxoCqeNyb",
        "outputId": "fd35dc2c-24e1-4e6f-ae14-ac0f2b74eb8b"
      },
      "execution_count": null,
      "outputs": [
        {
          "output_type": "stream",
          "name": "stdout",
          "text": [
            "Iteration -  100\n",
            "MAE : [2.54006198e+08]\n",
            "MSE :  [7.22639052e+13]\n",
            "RMSE : 8500817.9128012\n",
            "r2: 0.1227042130093352\n",
            "Coeficient: [array([236210.03474121]), array([66779.91886484]), array([142.83552149]), array([-26552.77674183])]\n",
            "cost: [7.45757535e+10] \n",
            "-----\n",
            "Intercepts - 5442.1155514360935\n"
          ]
        }
      ]
    },
    {
      "cell_type": "code",
      "source": [
        "#L = 0.01\n",
        "poly_reg_grad_des(X,Y,100,0.01,0.001,4)"
      ],
      "metadata": {
        "colab": {
          "base_uri": "https://localhost:8080/"
        },
        "id": "yph3vBZfeX68",
        "outputId": "499ec20c-617c-4ce1-a986-d7bc4b3ae7be"
      },
      "execution_count": null,
      "outputs": [
        {
          "output_type": "stream",
          "name": "stdout",
          "text": [
            "Iteration -  100\n",
            "MAE : [2.59309473e+08]\n",
            "MSE :  [7.88349952e+13]\n",
            "RMSE : 8878907.319097592\n",
            "r2: 0.04293009129192238\n",
            "Coeficient: [array([132868.08347883]), array([78123.22115753]), array([41313.23676461]), array([17983.65092172])]\n",
            "cost: [8.13570642e+10] \n",
            "-----\n",
            "Intercepts - 549.6946981972361\n"
          ]
        }
      ]
    },
    {
      "cell_type": "code",
      "source": [
        "#L = 0.001\n",
        "poly_reg_grad_des(X,Y,100,0.001,0.001,4)"
      ],
      "metadata": {
        "colab": {
          "base_uri": "https://localhost:8080/"
        },
        "id": "twmIpZ3-eaYS",
        "outputId": "3b0d09a7-5045-41c9-b864-5f6a6d4ffe60"
      },
      "execution_count": null,
      "outputs": [
        {
          "output_type": "stream",
          "name": "stdout",
          "text": [
            "Iteration -  100\n",
            "MAE : [2.58039627e+08]\n",
            "MSE :  [1.00449866e+14]\n",
            "RMSE : 10022468.071576096\n",
            "r2: -0.21947802618231393\n",
            "Coeficient: [array([42072.46873474]), array([37480.71728401]), array([32513.09819889]), array([28456.01212298])]\n",
            "cost: [1.03663433e+11] \n",
            "-----\n",
            "Intercepts - 55.474540450205005\n"
          ]
        }
      ]
    },
    {
      "cell_type": "code",
      "source": [
        "#L = 0.5\n",
        "poly_reg_grad_des(X,Y,100,0.5,0.001,4)"
      ],
      "metadata": {
        "colab": {
          "base_uri": "https://localhost:8080/"
        },
        "id": "ghC99rCEec6l",
        "outputId": "2b309941-94b3-4a9f-8a3a-61860cc6cce4"
      },
      "execution_count": null,
      "outputs": [
        {
          "output_type": "stream",
          "name": "stdout",
          "text": [
            "Iteration -  100\n",
            "MAE : [9.22306195e+50]\n",
            "MSE :  [2.29522267e+99]\n",
            "RMSE : 4.790848224548911e+49\n",
            "r2: -2.786438366889284e+85\n",
            "Coeficient: [array([-1.02644236e+48]), array([-1.11776631e+48]), array([-1.10916165e+48]), array([-1.06878081e+48])]\n",
            "cost: [2.36865085e+96] \n",
            "-----\n",
            "Intercepts - 4.186255852146887e+28\n"
          ]
        }
      ]
    },
    {
      "cell_type": "code",
      "source": [
        "#L = 0.05\n",
        "poly_reg_grad_des(X,Y,100,0.05,0.001,4)"
      ],
      "metadata": {
        "colab": {
          "base_uri": "https://localhost:8080/"
        },
        "id": "P-pEeukUef8p",
        "outputId": "8b733d69-5f31-4766-9fc8-f8867f7ef5ad"
      },
      "execution_count": null,
      "outputs": [
        {
          "output_type": "stream",
          "name": "stdout",
          "text": [
            "Iteration -  100\n",
            "MAE : [2.56546286e+08]\n",
            "MSE :  [7.38742709e+13]\n",
            "RMSE : 8595014.307323348\n",
            "r2: 0.1031541058010993\n",
            "Coeficient: [array([219152.06906454]), array([79827.86816664]), array([7258.0517068]), array([-31200.55246483])]\n",
            "cost: [7.62376377e+10] \n",
            "-----\n",
            "Intercepts - 2735.1955681677555\n"
          ]
        }
      ]
    },
    {
      "cell_type": "code",
      "source": [
        "#L = 0.005\n",
        "poly_reg_grad_des(X,Y,100,0.005,0.001,4)"
      ],
      "metadata": {
        "colab": {
          "base_uri": "https://localhost:8080/"
        },
        "id": "BUZXM9Foejfg",
        "outputId": "6fc03280-95ec-4c19-8d34-85211a31c4b0"
      },
      "execution_count": null,
      "outputs": [
        {
          "output_type": "stream",
          "name": "stdout",
          "text": [
            "Iteration -  100\n",
            "MAE : [2.60267359e+08]\n",
            "MSE :  [8.18814473e+13]\n",
            "RMSE : 9048836.795257682\n",
            "r2: 0.005945657034277851\n",
            "Coeficient: [array([101472.42373303]), array([72896.93461276]), array([51508.46988144]), array([36943.30948382])]\n",
            "cost: [8.45009777e+10] \n",
            "-----\n",
            "Intercepts - 275.24425742935443\n"
          ]
        }
      ]
    },
    {
      "cell_type": "code",
      "source": [
        "#L = 1\n",
        "poly_reg_grad_des(X,Y,100,1,0.001,4)"
      ],
      "metadata": {
        "colab": {
          "base_uri": "https://localhost:8080/"
        },
        "id": "ajBeOCWXepcw",
        "outputId": "eb84c1bd-82e6-40f4-da3d-a0dad4bf325f"
      },
      "execution_count": null,
      "outputs": [
        {
          "output_type": "stream",
          "name": "stdout",
          "text": [
            "Iteration -  100\n",
            "MAE : [1.14930808e+88]\n",
            "MSE :  [3.56408039e+173]\n",
            "RMSE : 5.969991954299473e+86\n",
            "r2: -4.326852673664673e+159\n",
            "Coeficient: [array([-3.03108795e+85]), array([-3.30076791e+85]), array([-3.27535832e+85]), array([-3.15611354e+85])]\n",
            "cost: [3.67810154e+170] \n",
            "-----\n",
            "Intercepts - 4.451590780953666e+65\n"
          ]
        }
      ]
    },
    {
      "cell_type": "markdown",
      "source": [
        "DEG=3"
      ],
      "metadata": {
        "id": "Pv2L4Axbesvd"
      }
    },
    {
      "cell_type": "markdown",
      "source": [
        "FOR 1000 ITERATIONS"
      ],
      "metadata": {
        "id": "LMBDvvJLeugl"
      }
    },
    {
      "cell_type": "code",
      "source": [
        "#L = 0.1\n",
        "poly_reg_grad_des(X,Y,1000,0.1,0.001,3)"
      ],
      "metadata": {
        "colab": {
          "base_uri": "https://localhost:8080/"
        },
        "id": "8vJPHGtXeysQ",
        "outputId": "7fe3a6bf-f4fe-4528-ab34-750ef5fd1792"
      },
      "execution_count": null,
      "outputs": [
        {
          "output_type": "stream",
          "name": "stdout",
          "text": [
            "Iteration -  1000\n",
            "MAE : [2.10825481e+08]\n",
            "MSE :  [4.96208583e+13]\n",
            "RMSE : 7044207.425796705\n",
            "r2: 0.39759455590053083\n",
            "Coeficient: [array([292435.91067117]), array([-43295.28206461]), array([33226.14691246])]\n",
            "cost: [5.12083161e+10] \n",
            "-----\n",
            "Intercepts - 49676.85772442271\n"
          ]
        }
      ]
    },
    {
      "cell_type": "code",
      "source": [
        "#L = 0.01\n",
        "poly_reg_grad_des(X,Y,1000,0.01,0.001,3)"
      ],
      "metadata": {
        "colab": {
          "base_uri": "https://localhost:8080/"
        },
        "id": "voe53etHfHQe",
        "outputId": "7fabfeb6-9f2e-443d-d671-ef4e94b73887"
      },
      "execution_count": null,
      "outputs": [
        {
          "output_type": "stream",
          "name": "stdout",
          "text": [
            "Iteration -  1000\n",
            "MAE : [2.53901564e+08]\n",
            "MSE :  [7.21378725e+13]\n",
            "RMSE : 8493401.70090355\n",
            "r2: 0.12423427128675679\n",
            "Coeficient: [array([246022.07858367]), array([57778.50163811]), array([-25600.08606939])]\n",
            "cost: [7.44456888e+10] \n",
            "-----\n",
            "Intercepts - 5441.6059055259575\n"
          ]
        }
      ]
    },
    {
      "cell_type": "code",
      "source": [
        "#L = 0.001\n",
        "poly_reg_grad_des(X,Y,1000,0.001,0.001,3)"
      ],
      "metadata": {
        "colab": {
          "base_uri": "https://localhost:8080/"
        },
        "id": "JGfuB7qUfL27",
        "outputId": "811fdd7f-add5-4674-e6c0-084c96d3d6fb"
      },
      "execution_count": null,
      "outputs": [
        {
          "output_type": "stream",
          "name": "stdout",
          "text": [
            "Iteration -  1000\n",
            "MAE : [2.59429161e+08]\n",
            "MSE :  [7.83871502e+13]\n",
            "RMSE : 8853651.797470475\n",
            "r2: 0.04836700419149831\n",
            "Coeficient: [array([134005.80747466]), array([86306.81631593]), array([54387.30549058])]\n",
            "cost: [8.08948918e+10] \n",
            "-----\n",
            "Intercepts - 549.6757248837548\n"
          ]
        }
      ]
    },
    {
      "cell_type": "code",
      "source": [
        "#L = 0.05\n",
        "poly_reg_grad_des(X,Y,1000,0.05,0.001,3)"
      ],
      "metadata": {
        "colab": {
          "base_uri": "https://localhost:8080/"
        },
        "id": "gpqOfWrYfQBW",
        "outputId": "6ae22713-8e48-4dcb-905a-9c78eec91aac"
      },
      "execution_count": null,
      "outputs": [
        {
          "output_type": "stream",
          "name": "stdout",
          "text": [
            "Iteration -  1000\n",
            "MAE : [2.33778083e+08]\n",
            "MSE :  [6.10570286e+13]\n",
            "RMSE : 7813899.702367168\n",
            "r2: 0.2587575528563194\n",
            "Coeficient: [array([273662.29026455]), array([2768.17894355]), array([4070.72939011])]\n",
            "cost: [6.30103494e+10] \n",
            "-----\n",
            "Intercepts - 26118.031709985884\n"
          ]
        }
      ]
    },
    {
      "cell_type": "code",
      "source": [
        "#L = 0.005\n",
        "poly_reg_grad_des(X,Y,1000,0.005,0.001,3)"
      ],
      "metadata": {
        "colab": {
          "base_uri": "https://localhost:8080/"
        },
        "id": "eVpTm7M-fWlP",
        "outputId": "5b3c84b9-6bcd-4666-e2aa-93ebd9be7b95"
      },
      "execution_count": null,
      "outputs": [
        {
          "output_type": "stream",
          "name": "stdout",
          "text": [
            "Iteration -  1000\n",
            "MAE : [2.56427334e+08]\n",
            "MSE :  [7.38956597e+13]\n",
            "RMSE : 8596258.4699041\n",
            "r2: 0.10289444297280881\n",
            "Coeficient: [array([218913.68961933]), array([69095.19203257]), array([-10580.65344489])]\n",
            "cost: [7.62597107e+10] \n",
            "-----\n",
            "Intercepts - 2735.085720034154\n"
          ]
        }
      ]
    },
    {
      "cell_type": "markdown",
      "source": [
        "FOR 500 ITERATIONS"
      ],
      "metadata": {
        "id": "eu0wPlC0figC"
      }
    },
    {
      "cell_type": "code",
      "source": [
        "#L = 0.1\n",
        "poly_reg_grad_des(X,Y,500,0.1,0.001,3)"
      ],
      "metadata": {
        "colab": {
          "base_uri": "https://localhost:8080/"
        },
        "id": "tCqw44NTfbiU",
        "outputId": "f17d116f-ece8-4c1a-de03-423ff0f45500"
      },
      "execution_count": null,
      "outputs": [
        {
          "output_type": "stream",
          "name": "stdout",
          "text": [
            "Iteration -  500\n",
            "MAE : [2.33800993e+08]\n",
            "MSE :  [6.10690478e+13]\n",
            "RMSE : 7814668.75539339\n",
            "r2: 0.2586116378019727\n",
            "Coeficient: [array([273667.31931065]), array([2755.78403687]), array([4078.60230965])]\n",
            "cost: [6.30227531e+10] \n",
            "-----\n",
            "Intercepts - 26119.33283218421\n"
          ]
        }
      ]
    },
    {
      "cell_type": "code",
      "source": [
        "#L = 0.01\n",
        "poly_reg_grad_des(X,Y,500,0.01,0.001,3)"
      ],
      "metadata": {
        "colab": {
          "base_uri": "https://localhost:8080/"
        },
        "id": "Jcw_rOS4fs22",
        "outputId": "c9c51d3a-ef99-4077-a886-5397dd8dc8b5"
      },
      "execution_count": null,
      "outputs": [
        {
          "output_type": "stream",
          "name": "stdout",
          "text": [
            "Iteration -  500\n",
            "MAE : [2.56429973e+08]\n",
            "MSE :  [7.38973238e+13]\n",
            "RMSE : 8596355.26217564\n",
            "r2: 0.10287424037563542\n",
            "Coeficient: [array([218954.44730078]), array([69089.70127827]), array([-10615.13683508])]\n",
            "cost: [7.62614281e+10] \n",
            "-----\n",
            "Intercepts - 2735.10693133848\n"
          ]
        }
      ]
    },
    {
      "cell_type": "code",
      "source": [
        "#L = 0.001\n",
        "poly_reg_grad_des(X,Y,500,0.001,0.001,3)"
      ],
      "metadata": {
        "colab": {
          "base_uri": "https://localhost:8080/"
        },
        "id": "_3svoYM-fzW6",
        "outputId": "77fab463-c587-48a4-80c0-b3907c62168d"
      },
      "execution_count": null,
      "outputs": [
        {
          "output_type": "stream",
          "name": "stdout",
          "text": [
            "Iteration -  500\n",
            "MAE : [2.59133836e+08]\n",
            "MSE :  [8.01618618e+13]\n",
            "RMSE : 8953315.68718271\n",
            "r2: 0.026821710674007404\n",
            "Coeficient: [array([108584.35103276]), array([84635.16633315]), array([65961.64299755])]\n",
            "cost: [8.27263796e+10] \n",
            "-----\n",
            "Intercepts - 275.23452778639836\n"
          ]
        }
      ]
    },
    {
      "cell_type": "code",
      "source": [
        "#L = 0.5\n",
        "poly_reg_grad_des(X,Y,500,0.5,0.001,3)"
      ],
      "metadata": {
        "colab": {
          "base_uri": "https://localhost:8080/"
        },
        "id": "xtfj6eWGjxTx",
        "outputId": "8434c6ce-bc3e-4748-e41e-fdfc013797aa"
      },
      "execution_count": null,
      "outputs": [
        {
          "output_type": "stream",
          "name": "stdout",
          "text": [
            "Iteration -  500\n",
            "MAE : [2.92434248e+139]\n",
            "MSE :  [1.96238958e+276]\n",
            "RMSE : 1.4008531621434273e+138\n",
            "r2: -2.3823734797870347e+262\n",
            "Coeficient: [array([-2.76887928e+136]), array([-2.90581948e+136]), array([-2.80806478e+136])]\n",
            "cost: [2.02516985e+273] \n",
            "-----\n",
            "Intercepts - 3.331075694126559e+116\n"
          ]
        }
      ]
    },
    {
      "cell_type": "code",
      "source": [
        "#L = 0.05\n",
        "poly_reg_grad_des(X,Y,500,0.05,0.001,3)"
      ],
      "metadata": {
        "colab": {
          "base_uri": "https://localhost:8080/"
        },
        "id": "FI5T8yiPj2ZZ",
        "outputId": "b02307f5-05d8-4890-9903-1aa516525d32"
      },
      "execution_count": null,
      "outputs": [
        {
          "output_type": "stream",
          "name": "stdout",
          "text": [
            "Iteration -  500\n",
            "MAE : [2.46194089e+08]\n",
            "MSE :  [6.77593468e+13]\n",
            "RMSE : 8231606.574587424\n",
            "r2: 0.17739029848555454\n",
            "Coeficient: [array([260710.2815091]), array([34466.32635835]), array([-15959.63831421])]\n",
            "cost: [6.99270865e+10] \n",
            "-----\n",
            "Intercepts - 13396.121485290962\n"
          ]
        }
      ]
    },
    {
      "cell_type": "code",
      "source": [
        "#L = 0.005\n",
        "poly_reg_grad_des(X,Y,500,0.005,0.001,3)"
      ],
      "metadata": {
        "colab": {
          "base_uri": "https://localhost:8080/"
        },
        "id": "x-VHOwylj5_d",
        "outputId": "1efa91d7-cfcd-4e59-e60a-b2d89f92d5ce"
      },
      "execution_count": null,
      "outputs": [
        {
          "output_type": "stream",
          "name": "stdout",
          "text": [
            "Iteration -  500\n",
            "MAE : [2.57856924e+08]\n",
            "MSE :  [7.57146496e+13]\n",
            "RMSE : 8701416.531057768\n",
            "r2: 0.08081160328611048\n",
            "Coeficient: [array([179095.37456301]), array([78318.15251323]), array([19137.81788376])]\n",
            "cost: [7.81368933e+10] \n",
            "-----\n",
            "Intercepts - 1371.3175308963546\n"
          ]
        }
      ]
    },
    {
      "cell_type": "markdown",
      "source": [
        "FOR 100 ITERATIONS"
      ],
      "metadata": {
        "id": "kbEOHdMPkD3w"
      }
    },
    {
      "cell_type": "code",
      "source": [
        "#L = 0.1\n",
        "poly_reg_grad_des(X,Y,100,0.1,0.001,3)"
      ],
      "metadata": {
        "colab": {
          "base_uri": "https://localhost:8080/"
        },
        "id": "gTrxgiPpj98N",
        "outputId": "d1f4a54e-c138-4c87-f8a9-5a784f8ff055"
      },
      "execution_count": null,
      "outputs": [
        {
          "output_type": "stream",
          "name": "stdout",
          "text": [
            "Iteration -  100\n",
            "MAE : [2.53949209e+08]\n",
            "MSE :  [7.21643869e+13]\n",
            "RMSE : 8494962.442881642\n",
            "r2: 0.12391238143175343\n",
            "Coeficient: [array([246299.68476361]), array([57736.23120181]), array([-25830.09869578])]\n",
            "cost: [7.44730515e+10] \n",
            "-----\n",
            "Intercepts - 5442.107177748803\n"
          ]
        }
      ]
    },
    {
      "cell_type": "code",
      "source": [
        "#L = 0.01\n",
        "poly_reg_grad_des(X,Y,100,0.01,0.001,3)"
      ],
      "metadata": {
        "colab": {
          "base_uri": "https://localhost:8080/"
        },
        "id": "2tpM0Z94kH7M",
        "outputId": "a79c18b3-dcaf-4051-9669-34fec5f75acc"
      },
      "execution_count": null,
      "outputs": [
        {
          "output_type": "stream",
          "name": "stdout",
          "text": [
            "Iteration -  100\n",
            "MAE : [2.59450214e+08]\n",
            "MSE :  [7.84073336e+13]\n",
            "RMSE : 8854791.559178693\n",
            "r2: 0.048121974301429504\n",
            "Coeficient: [array([134104.20211003]), array([86344.37794828]), array([54383.46353917])]\n",
            "cost: [8.09157209e+10] \n",
            "-----\n",
            "Intercepts - 549.6966100083378\n"
          ]
        }
      ]
    },
    {
      "cell_type": "code",
      "source": [
        "#L = 0.001\n",
        "poly_reg_grad_des(X,Y,100,0.001,0.001,3)"
      ],
      "metadata": {
        "colab": {
          "base_uri": "https://localhost:8080/"
        },
        "id": "EjS_pr4pkNhN",
        "outputId": "cdfcb135-5c4e-4539-8f1e-7c2b5bf4d3d0"
      },
      "execution_count": null,
      "outputs": [
        {
          "output_type": "stream",
          "name": "stdout",
          "text": [
            "Iteration -  100\n",
            "MAE : [2.58039638e+08]\n",
            "MSE :  [1.03979879e+14]\n",
            "RMSE : 10197052.480182746\n",
            "r2: -0.2623329695751635\n",
            "Coeficient: [array([44016.40747983]), array([39948.87012755]), array([35206.93495494])]\n",
            "cost: [1.07306377e+11] \n",
            "-----\n",
            "Intercepts - 55.46267732096263\n"
          ]
        }
      ]
    },
    {
      "cell_type": "code",
      "source": [
        "#L = 0.5\n",
        "poly_reg_grad_des(X,Y,100,0.5,0.001,3)"
      ],
      "metadata": {
        "colab": {
          "base_uri": "https://localhost:8080/"
        },
        "id": "yMIKk6CFkQht",
        "outputId": "52f52ad0-8633-484d-8ebb-6b1ee633d109"
      },
      "execution_count": null,
      "outputs": [
        {
          "output_type": "stream",
          "name": "stdout",
          "text": [
            "Iteration -  100\n",
            "MAE : [1.88084591e+34]\n",
            "MSE :  [8.11774109e+65]\n",
            "RMSE : 9.009850772100587e+32\n",
            "r2: -9.855072242310403e+51\n",
            "Coeficient: [array([-1.78085683e+31]), array([-1.86893249e+31]), array([-1.80605972e+31])]\n",
            "cost: [8.37744179e+62] \n",
            "-----\n",
            "Intercepts - -290479852126.57996\n"
          ]
        }
      ]
    },
    {
      "cell_type": "code",
      "source": [
        "#L = 0.05\n",
        "poly_reg_grad_des(X,Y,100,0.05,0.001,3)"
      ],
      "metadata": {
        "colab": {
          "base_uri": "https://localhost:8080/"
        },
        "id": "J5o_A0gykUFA",
        "outputId": "aeec80cc-fb75-4dad-e53e-3ac75a04440f"
      },
      "execution_count": null,
      "outputs": [
        {
          "output_type": "stream",
          "name": "stdout",
          "text": [
            "Iteration -  100\n",
            "MAE : [2.56451167e+08]\n",
            "MSE :  [7.39106753e+13]\n",
            "RMSE : 8597131.804174379\n",
            "r2: 0.10271215137976408\n",
            "Coeficient: [array([219281.91839413]), array([69045.46532512]), array([-10892.2750251])]\n",
            "cost: [7.62752067e+10] \n",
            "-----\n",
            "Intercepts - 2735.2110261877656\n"
          ]
        }
      ]
    },
    {
      "cell_type": "code",
      "source": [
        "#L = 0.005\n",
        "poly_reg_grad_des(X,Y,100,0.005,0.001,3)"
      ],
      "metadata": {
        "colab": {
          "base_uri": "https://localhost:8080/"
        },
        "id": "o3bG9_a1kYbY",
        "outputId": "044340c3-5c2a-4449-8c16-bfe9a2cdc0d4"
      },
      "execution_count": null,
      "outputs": [
        {
          "output_type": "stream",
          "name": "stdout",
          "text": [
            "Iteration -  100\n",
            "MAE : [2.59151157e+08]\n",
            "MSE :  [8.01704248e+13]\n",
            "RMSE : 8953793.87919285\n",
            "r2: 0.026717753988876103\n",
            "Coeficient: [array([108768.11555636]), array([84810.79486349]), array([66120.83140867])]\n",
            "cost: [8.27352165e+10] \n",
            "-----\n",
            "Intercepts - 275.2366865893103\n"
          ]
        }
      ]
    },
    {
      "cell_type": "code",
      "source": [
        "#L = 1\n",
        "poly_reg_grad_des(X,Y,100,1,0.001,3)"
      ],
      "metadata": {
        "colab": {
          "base_uri": "https://localhost:8080/"
        },
        "id": "MRUIWyqbkcl3",
        "outputId": "7d8ba8c3-41c9-465e-ebf9-2f21a32a100b"
      },
      "execution_count": null,
      "outputs": [
        {
          "output_type": "stream",
          "name": "stdout",
          "text": [
            "Iteration -  100\n",
            "MAE : [2.82284647e+74]\n",
            "MSE :  [1.82853501e+146]\n",
            "RMSE : 1.3522333433142861e+73\n",
            "r2: -2.21987181661596e+132\n",
            "Coeficient: [array([-6.80431801e+71]), array([-7.14083851e+71]), array([-6.90061351e+71])]\n",
            "cost: [1.88703304e+143] \n",
            "-----\n",
            "Intercepts - -6.326090983966517e+51\n"
          ]
        }
      ]
    },
    {
      "cell_type": "markdown",
      "source": [
        "# MODEL ACCURACY"
      ],
      "metadata": {
        "id": "uWvfF5Uc3rB2"
      }
    },
    {
      "cell_type": "code",
      "source": [
        "import statsmodels.api as sm\n",
        "#AIC,BIC,RSS\n",
        "y = ds['Production']\n",
        "\n",
        "#define predictor variables\n",
        "x = ds['Area']\n",
        "\n",
        "#add constant to predictor variables\n",
        "x = sm.add_constant(x)\n",
        "\n",
        "#fit regression model\n",
        "model = sm.OLS(y, x).fit()"
      ],
      "metadata": {
        "colab": {
          "base_uri": "https://localhost:8080/"
        },
        "id": "J_bQ5Jv2bdoA",
        "outputId": "6133a826-107c-453f-faa3-b14cb5f3c358"
      },
      "execution_count": null,
      "outputs": [
        {
          "output_type": "stream",
          "name": "stderr",
          "text": [
            "/usr/local/lib/python3.7/dist-packages/statsmodels/tools/_testing.py:19: FutureWarning: pandas.util.testing is deprecated. Use the functions in the public API at pandas.testing instead.\n",
            "  import pandas.util.testing as tm\n",
            "/usr/local/lib/python3.7/dist-packages/statsmodels/tsa/tsatools.py:117: FutureWarning: In a future version of pandas all arguments of concat except for the argument 'objs' will be keyword-only\n",
            "  x = pd.concat(x[::order], 1)\n"
          ]
        }
      ]
    },
    {
      "cell_type": "code",
      "source": [
        "model.summary()"
      ],
      "metadata": {
        "colab": {
          "base_uri": "https://localhost:8080/",
          "height": 478
        },
        "id": "1O7vzP14g14E",
        "outputId": "85f89bb3-bddb-43dc-e62e-613f7d8e1d73"
      },
      "execution_count": null,
      "outputs": [
        {
          "output_type": "execute_result",
          "data": {
            "text/html": [
              "<table class=\"simpletable\">\n",
              "<caption>OLS Regression Results</caption>\n",
              "<tr>\n",
              "  <th>Dep. Variable:</th>       <td>Production</td>    <th>  R-squared:         </th> <td>   0.923</td> \n",
              "</tr>\n",
              "<tr>\n",
              "  <th>Model:</th>                   <td>OLS</td>       <th>  Adj. R-squared:    </th> <td>   0.923</td> \n",
              "</tr>\n",
              "<tr>\n",
              "  <th>Method:</th>             <td>Least Squares</td>  <th>  F-statistic:       </th> <td>1.166e+04</td>\n",
              "</tr>\n",
              "<tr>\n",
              "  <th>Date:</th>             <td>Thu, 10 Feb 2022</td> <th>  Prob (F-statistic):</th>  <td>  0.00</td>  \n",
              "</tr>\n",
              "<tr>\n",
              "  <th>Time:</th>                 <td>15:31:56</td>     <th>  Log-Likelihood:    </th> <td> -12323.</td> \n",
              "</tr>\n",
              "<tr>\n",
              "  <th>No. Observations:</th>      <td>   969</td>      <th>  AIC:               </th> <td>2.465e+04</td>\n",
              "</tr>\n",
              "<tr>\n",
              "  <th>Df Residuals:</th>          <td>   967</td>      <th>  BIC:               </th> <td>2.466e+04</td>\n",
              "</tr>\n",
              "<tr>\n",
              "  <th>Df Model:</th>              <td>     1</td>      <th>                     </th>     <td> </td>    \n",
              "</tr>\n",
              "<tr>\n",
              "  <th>Covariance Type:</th>      <td>nonrobust</td>    <th>                     </th>     <td> </td>    \n",
              "</tr>\n",
              "</table>\n",
              "<table class=\"simpletable\">\n",
              "<tr>\n",
              "    <td></td>       <th>coef</th>     <th>std err</th>      <th>t</th>      <th>P>|t|</th>  <th>[0.025</th>    <th>0.975]</th>  \n",
              "</tr>\n",
              "<tr>\n",
              "  <th>const</th> <td> 5281.9886</td> <td> 3546.109</td> <td>    1.490</td> <td> 0.137</td> <td>-1676.968</td> <td> 1.22e+04</td>\n",
              "</tr>\n",
              "<tr>\n",
              "  <th>Area</th>  <td>    2.4803</td> <td>    0.023</td> <td>  107.993</td> <td> 0.000</td> <td>    2.435</td> <td>    2.525</td>\n",
              "</tr>\n",
              "</table>\n",
              "<table class=\"simpletable\">\n",
              "<tr>\n",
              "  <th>Omnibus:</th>       <td>134.102</td> <th>  Durbin-Watson:     </th> <td>   1.921</td> \n",
              "</tr>\n",
              "<tr>\n",
              "  <th>Prob(Omnibus):</th> <td> 0.000</td>  <th>  Jarque-Bera (JB):  </th> <td> 709.848</td> \n",
              "</tr>\n",
              "<tr>\n",
              "  <th>Skew:</th>          <td>-0.506</td>  <th>  Prob(JB):          </th> <td>7.22e-155</td>\n",
              "</tr>\n",
              "<tr>\n",
              "  <th>Kurtosis:</th>      <td> 7.069</td>  <th>  Cond. No.          </th> <td>2.11e+05</td> \n",
              "</tr>\n",
              "</table><br/><br/>Warnings:<br/>[1] Standard Errors assume that the covariance matrix of the errors is correctly specified.<br/>[2] The condition number is large, 2.11e+05. This might indicate that there are<br/>strong multicollinearity or other numerical problems."
            ],
            "text/plain": [
              "<class 'statsmodels.iolib.summary.Summary'>\n",
              "\"\"\"\n",
              "                            OLS Regression Results                            \n",
              "==============================================================================\n",
              "Dep. Variable:             Production   R-squared:                       0.923\n",
              "Model:                            OLS   Adj. R-squared:                  0.923\n",
              "Method:                 Least Squares   F-statistic:                 1.166e+04\n",
              "Date:                Thu, 10 Feb 2022   Prob (F-statistic):               0.00\n",
              "Time:                        15:31:56   Log-Likelihood:                -12323.\n",
              "No. Observations:                 969   AIC:                         2.465e+04\n",
              "Df Residuals:                     967   BIC:                         2.466e+04\n",
              "Df Model:                           1                                         \n",
              "Covariance Type:            nonrobust                                         \n",
              "==============================================================================\n",
              "                 coef    std err          t      P>|t|      [0.025      0.975]\n",
              "------------------------------------------------------------------------------\n",
              "const       5281.9886   3546.109      1.490      0.137   -1676.968    1.22e+04\n",
              "Area           2.4803      0.023    107.993      0.000       2.435       2.525\n",
              "==============================================================================\n",
              "Omnibus:                      134.102   Durbin-Watson:                   1.921\n",
              "Prob(Omnibus):                  0.000   Jarque-Bera (JB):              709.848\n",
              "Skew:                          -0.506   Prob(JB):                    7.22e-155\n",
              "Kurtosis:                       7.069   Cond. No.                     2.11e+05\n",
              "==============================================================================\n",
              "\n",
              "Warnings:\n",
              "[1] Standard Errors assume that the covariance matrix of the errors is correctly specified.\n",
              "[2] The condition number is large, 2.11e+05. This might indicate that there are\n",
              "strong multicollinearity or other numerical problems.\n",
              "\"\"\""
            ]
          },
          "metadata": {},
          "execution_count": 53
        }
      ]
    },
    {
      "cell_type": "markdown",
      "source": [
        "***`LINEAR`***\n",
        "\n",
        "---\n",
        "\n"
      ],
      "metadata": {
        "id": "gIcHP1TNLkOo"
      }
    },
    {
      "cell_type": "markdown",
      "source": [
        "**CP**"
      ],
      "metadata": {
        "id": "mylxtnSs4EuU"
      }
    },
    {
      "cell_type": "code",
      "source": [
        "#CP\n",
        "\n",
        "m=len(y)\n",
        "p=1\n",
        "hat_sigma_squared=(1/(m-p-1))*(model.ssr)\n",
        "Cp=(1/m)*((model.ssr)+2*hat_sigma_squared)\n",
        "print(Cp)"
      ],
      "metadata": {
        "id": "iki1RSC94NSc",
        "colab": {
          "base_uri": "https://localhost:8080/"
        },
        "outputId": "7004585e-19a9-4638-ceb9-d249ef2f2444"
      },
      "execution_count": null,
      "outputs": [
        {
          "output_type": "stream",
          "name": "stdout",
          "text": [
            "6522151589.912349\n"
          ]
        }
      ]
    },
    {
      "cell_type": "markdown",
      "source": [
        "**AIC**"
      ],
      "metadata": {
        "id": "3GIJrKD84PKl"
      }
    },
    {
      "cell_type": "code",
      "source": [
        "print(model.aic)"
      ],
      "metadata": {
        "id": "n_AX8eUl35ET",
        "colab": {
          "base_uri": "https://localhost:8080/"
        },
        "outputId": "8b51e218-dc80-42f5-f912-1a166c2b341d"
      },
      "execution_count": null,
      "outputs": [
        {
          "output_type": "stream",
          "name": "stdout",
          "text": [
            "24649.818392559107\n"
          ]
        }
      ]
    },
    {
      "cell_type": "markdown",
      "source": [
        "**BIC**"
      ],
      "metadata": {
        "id": "i_oLRrSJ4WHS"
      }
    },
    {
      "cell_type": "code",
      "source": [
        "print(model.bic)"
      ],
      "metadata": {
        "id": "Hdp-z88B4UaX",
        "colab": {
          "base_uri": "https://localhost:8080/"
        },
        "outputId": "40115607-d4a1-43b2-e7eb-1d3d637331b8"
      },
      "execution_count": null,
      "outputs": [
        {
          "output_type": "stream",
          "name": "stdout",
          "text": [
            "24659.570921782888\n"
          ]
        }
      ]
    },
    {
      "cell_type": "markdown",
      "source": [
        "**R-Square**"
      ],
      "metadata": {
        "id": "NHcwYbmi4eeY"
      }
    },
    {
      "cell_type": "code",
      "source": [
        "from sklearn.linear_model import LinearRegression\n",
        "from sklearn.metrics import r2_score\n",
        "regressor = LinearRegression()\n",
        "model = LinearRegression()\n",
        "y = ds['Production'].values.reshape(-1, 1)\n",
        "\n",
        "#define predictor variables\n",
        "x = ds[['Area']].values.reshape(-1, 1)\n",
        "model.fit(x, y)\n",
        "r2_score(y,model.predict(x))"
      ],
      "metadata": {
        "id": "uZ5PNVHM4ddd",
        "colab": {
          "base_uri": "https://localhost:8080/"
        },
        "outputId": "4ecf285d-c283-41f0-d7a6-24f53c31d052"
      },
      "execution_count": null,
      "outputs": [
        {
          "output_type": "execute_result",
          "data": {
            "text/plain": [
              "0.9234329386716252"
            ]
          },
          "metadata": {},
          "execution_count": 155
        }
      ]
    },
    {
      "cell_type": "markdown",
      "source": [
        "**Adjusted R-square**"
      ],
      "metadata": {
        "id": "d9IAJ0o14jz3"
      }
    },
    {
      "cell_type": "code",
      "source": [
        "#display adjusted R-squared\n",
        "1 - (1-model.score(x, y))*(len(y)-1)/(len(y)-x.shape[1]-1)"
      ],
      "metadata": {
        "id": "IOJK9-3z4ix2",
        "colab": {
          "base_uri": "https://localhost:8080/"
        },
        "outputId": "96fff716-9762-4f41-e9cc-392954a1041e"
      },
      "execution_count": null,
      "outputs": [
        {
          "output_type": "execute_result",
          "data": {
            "text/plain": [
              "0.9233537586702515"
            ]
          },
          "metadata": {},
          "execution_count": 114
        }
      ]
    },
    {
      "cell_type": "code",
      "source": [
        "##DEG = 5\n",
        "\n",
        "x = ds[['Area']].values.reshape(-1, 1)\n",
        "y = ds['Production'].values.reshape(-1, 1)\n",
        "\n",
        "from sklearn.preprocessing import PolynomialFeatures\n",
        "polynom = PolynomialFeatures(degree = 5)\n",
        "x_polynom = polynom.fit_transform(x)\n",
        "\n",
        "import statsmodels.api as sm\n",
        "X_train_sm=sm.add_constant(x_polynom)\n",
        "lr=sm.OLS(y,X_train_sm).fit()\n",
        "\n",
        "print(\"AIC-\",lr.aic)\n",
        "print(\"BIC-\",lr.bic)\n",
        "\n",
        "m=len(Y)\n",
        "p=1\n",
        "hat_sigma_squared=(1/(m-p-1))*(lr.ssr)\n",
        "Cp=(1/m)*((lr.ssr)+2*hat_sigma_squared)\n",
        "print(\"Cp-\",Cp)"
      ],
      "metadata": {
        "colab": {
          "base_uri": "https://localhost:8080/"
        },
        "id": "T-TbB7BERbB4",
        "outputId": "74188dc5-a330-4cfa-f2de-2cf83a70b3ac"
      },
      "execution_count": null,
      "outputs": [
        {
          "output_type": "stream",
          "name": "stderr",
          "text": [
            "/usr/local/lib/python3.7/dist-packages/statsmodels/tools/_testing.py:19: FutureWarning: pandas.util.testing is deprecated. Use the functions in the public API at pandas.testing instead.\n",
            "  import pandas.util.testing as tm\n"
          ]
        },
        {
          "output_type": "stream",
          "name": "stdout",
          "text": [
            "AIC- 25571.186461866593\n",
            "BIC- 25585.815255702266\n",
            "Cp- 16843832688.325306\n"
          ]
        }
      ]
    },
    {
      "cell_type": "code",
      "source": [
        "lr.summary()"
      ],
      "metadata": {
        "colab": {
          "base_uri": "https://localhost:8080/",
          "height": 562
        },
        "id": "xn0pWrWWQroR",
        "outputId": "46dd4146-b148-4dfd-cc9f-07bdd6b295bd"
      },
      "execution_count": null,
      "outputs": [
        {
          "output_type": "execute_result",
          "data": {
            "text/html": [
              "<table class=\"simpletable\">\n",
              "<caption>OLS Regression Results</caption>\n",
              "<tr>\n",
              "  <th>Dep. Variable:</th>            <td>y</td>        <th>  R-squared:         </th> <td>   0.802</td> \n",
              "</tr>\n",
              "<tr>\n",
              "  <th>Model:</th>                   <td>OLS</td>       <th>  Adj. R-squared:    </th> <td>   0.802</td> \n",
              "</tr>\n",
              "<tr>\n",
              "  <th>Method:</th>             <td>Least Squares</td>  <th>  F-statistic:       </th> <td>   1960.</td> \n",
              "</tr>\n",
              "<tr>\n",
              "  <th>Date:</th>             <td>Fri, 11 Feb 2022</td> <th>  Prob (F-statistic):</th>  <td>  0.00</td>  \n",
              "</tr>\n",
              "<tr>\n",
              "  <th>Time:</th>                 <td>14:49:52</td>     <th>  Log-Likelihood:    </th> <td> -12783.</td> \n",
              "</tr>\n",
              "<tr>\n",
              "  <th>No. Observations:</th>      <td>   969</td>      <th>  AIC:               </th> <td>2.557e+04</td>\n",
              "</tr>\n",
              "<tr>\n",
              "  <th>Df Residuals:</th>          <td>   966</td>      <th>  BIC:               </th> <td>2.559e+04</td>\n",
              "</tr>\n",
              "<tr>\n",
              "  <th>Df Model:</th>              <td>     2</td>      <th>                     </th>     <td> </td>    \n",
              "</tr>\n",
              "<tr>\n",
              "  <th>Covariance Type:</th>      <td>nonrobust</td>    <th>                     </th>     <td> </td>    \n",
              "</tr>\n",
              "</table>\n",
              "<table class=\"simpletable\">\n",
              "<tr>\n",
              "    <td></td>       <th>coef</th>     <th>std err</th>      <th>t</th>      <th>P>|t|</th>  <th>[0.025</th>    <th>0.975]</th>  \n",
              "</tr>\n",
              "<tr>\n",
              "  <th>const</th> <td> 7.739e-26</td> <td> 2.11e-27</td> <td>   36.755</td> <td> 0.000</td> <td> 7.33e-26</td> <td> 8.15e-26</td>\n",
              "</tr>\n",
              "<tr>\n",
              "  <th>x1</th>    <td>-1.544e-14</td> <td>  4.2e-16</td> <td>  -36.755</td> <td> 0.000</td> <td>-1.63e-14</td> <td>-1.46e-14</td>\n",
              "</tr>\n",
              "<tr>\n",
              "  <th>x2</th>    <td> 1.626e-15</td> <td> 4.42e-17</td> <td>   36.755</td> <td> 0.000</td> <td> 1.54e-15</td> <td> 1.71e-15</td>\n",
              "</tr>\n",
              "<tr>\n",
              "  <th>x3</th>    <td> 1.665e-10</td> <td> 4.53e-12</td> <td>   36.755</td> <td> 0.000</td> <td> 1.58e-10</td> <td> 1.75e-10</td>\n",
              "</tr>\n",
              "<tr>\n",
              "  <th>x4</th>    <td>-6.663e-16</td> <td> 2.38e-17</td> <td>  -27.949</td> <td> 0.000</td> <td>-7.13e-16</td> <td> -6.2e-16</td>\n",
              "</tr>\n",
              "<tr>\n",
              "  <th>x5</th>    <td> 7.126e-22</td> <td> 3.06e-23</td> <td>   23.319</td> <td> 0.000</td> <td> 6.53e-22</td> <td> 7.73e-22</td>\n",
              "</tr>\n",
              "</table>\n",
              "<table class=\"simpletable\">\n",
              "<tr>\n",
              "  <th>Omnibus:</th>       <td>100.131</td> <th>  Durbin-Watson:     </th> <td>   1.724</td>\n",
              "</tr>\n",
              "<tr>\n",
              "  <th>Prob(Omnibus):</th> <td> 0.000</td>  <th>  Jarque-Bera (JB):  </th> <td> 207.889</td>\n",
              "</tr>\n",
              "<tr>\n",
              "  <th>Skew:</th>          <td>-0.626</td>  <th>  Prob(JB):          </th> <td>7.20e-46</td>\n",
              "</tr>\n",
              "<tr>\n",
              "  <th>Kurtosis:</th>      <td> 4.892</td>  <th>  Cond. No.          </th> <td>1.26e+28</td>\n",
              "</tr>\n",
              "</table><br/><br/>Warnings:<br/>[1] Standard Errors assume that the covariance matrix of the errors is correctly specified.<br/>[2] The condition number is large, 1.26e+28. This might indicate that there are<br/>strong multicollinearity or other numerical problems."
            ],
            "text/plain": [
              "<class 'statsmodels.iolib.summary.Summary'>\n",
              "\"\"\"\n",
              "                            OLS Regression Results                            \n",
              "==============================================================================\n",
              "Dep. Variable:                      y   R-squared:                       0.802\n",
              "Model:                            OLS   Adj. R-squared:                  0.802\n",
              "Method:                 Least Squares   F-statistic:                     1960.\n",
              "Date:                Fri, 11 Feb 2022   Prob (F-statistic):               0.00\n",
              "Time:                        14:49:52   Log-Likelihood:                -12783.\n",
              "No. Observations:                 969   AIC:                         2.557e+04\n",
              "Df Residuals:                     966   BIC:                         2.559e+04\n",
              "Df Model:                           2                                         \n",
              "Covariance Type:            nonrobust                                         \n",
              "==============================================================================\n",
              "                 coef    std err          t      P>|t|      [0.025      0.975]\n",
              "------------------------------------------------------------------------------\n",
              "const       7.739e-26   2.11e-27     36.755      0.000    7.33e-26    8.15e-26\n",
              "x1         -1.544e-14    4.2e-16    -36.755      0.000   -1.63e-14   -1.46e-14\n",
              "x2          1.626e-15   4.42e-17     36.755      0.000    1.54e-15    1.71e-15\n",
              "x3          1.665e-10   4.53e-12     36.755      0.000    1.58e-10    1.75e-10\n",
              "x4         -6.663e-16   2.38e-17    -27.949      0.000   -7.13e-16    -6.2e-16\n",
              "x5          7.126e-22   3.06e-23     23.319      0.000    6.53e-22    7.73e-22\n",
              "==============================================================================\n",
              "Omnibus:                      100.131   Durbin-Watson:                   1.724\n",
              "Prob(Omnibus):                  0.000   Jarque-Bera (JB):              207.889\n",
              "Skew:                          -0.626   Prob(JB):                     7.20e-46\n",
              "Kurtosis:                       4.892   Cond. No.                     1.26e+28\n",
              "==============================================================================\n",
              "\n",
              "Warnings:\n",
              "[1] Standard Errors assume that the covariance matrix of the errors is correctly specified.\n",
              "[2] The condition number is large, 1.26e+28. This might indicate that there are\n",
              "strong multicollinearity or other numerical problems.\n",
              "\"\"\""
            ]
          },
          "metadata": {},
          "execution_count": 33
        }
      ]
    },
    {
      "cell_type": "code",
      "source": [
        "#DEG = 5\n",
        "from sklearn.linear_model import LinearRegression\n",
        "from sklearn.metrics import r2_score\n",
        "regressor = LinearRegression()\n",
        "model = LinearRegression()\n",
        "\n",
        "#define predictor variables\n",
        "y = ds['Production'].values.reshape(-1, 1)\n",
        "# x = ds[['Area']].values.reshape(-1, 1)\n",
        "\n",
        "model.fit(x_polynom, y)\n",
        "R2 = r2_score(y,model.predict(x_polynom))\n",
        "\n",
        "#display adjusted R-squared\n",
        "ad_R2 = 1 - (1-model.score(x_polynom, y))*(len(y)-1)/(len(y)-x_polynom.shape[1]-1)\n",
        "\n",
        "print(\"R2 - \",R2)\n",
        "print(\"Ad_R2\",ad_R2)"
      ],
      "metadata": {
        "colab": {
          "base_uri": "https://localhost:8080/"
        },
        "id": "5yuyOUhdSeKx",
        "outputId": "f3335e34-e3cf-459b-d615-1cfa26d8950c"
      },
      "execution_count": null,
      "outputs": [
        {
          "output_type": "stream",
          "name": "stdout",
          "text": [
            "R2 -  0.8617234622306779\n",
            "Ad_R2 0.860861030602179\n"
          ]
        }
      ]
    },
    {
      "cell_type": "code",
      "source": [
        "##DEG = 4\n",
        "\n",
        "x = ds[['Area']].values.reshape(-1, 1)\n",
        "y = ds['Production'].values.reshape(-1, 1)\n",
        "\n",
        "from sklearn.preprocessing import PolynomialFeatures\n",
        "polynom = PolynomialFeatures(degree = 4)\n",
        "x_polynom = polynom.fit_transform(x)\n",
        "\n",
        "import statsmodels.api as sm\n",
        "X_train_sm=sm.add_constant(x_polynom)\n",
        "lr=sm.OLS(y,X_train_sm).fit()\n",
        "\n",
        "print(\"AIC-\",lr.aic)\n",
        "print(\"BIC-\",lr.bic)\n",
        "\n",
        "m=len(Y)\n",
        "p=1\n",
        "hat_sigma_squared=(1/(m-p-1))*(lr.ssr)\n",
        "Cp=(1/m)*((lr.ssr)+2*hat_sigma_squared)\n",
        "print(\"Cp-\",Cp)"
      ],
      "metadata": {
        "colab": {
          "base_uri": "https://localhost:8080/"
        },
        "id": "xS1K65kVRAJi",
        "outputId": "e6ebc5eb-6a36-4bb9-e8d1-11b768ed7fc1"
      },
      "execution_count": null,
      "outputs": [
        {
          "output_type": "stream",
          "name": "stdout",
          "text": [
            "AIC- 24983.996904548592\n",
            "BIC- 24998.625698384265\n",
            "Cp- 9189024675.846672\n"
          ]
        }
      ]
    },
    {
      "cell_type": "code",
      "source": [
        "lr.summary()"
      ],
      "metadata": {
        "colab": {
          "base_uri": "https://localhost:8080/",
          "height": 542
        },
        "id": "vW_GwHHoRSWY",
        "outputId": "3f8f3d70-ebdd-4c0b-b12f-4110b930026f"
      },
      "execution_count": null,
      "outputs": [
        {
          "output_type": "execute_result",
          "data": {
            "text/html": [
              "<table class=\"simpletable\">\n",
              "<caption>OLS Regression Results</caption>\n",
              "<tr>\n",
              "  <th>Dep. Variable:</th>            <td>y</td>        <th>  R-squared:         </th> <td>   0.892</td> \n",
              "</tr>\n",
              "<tr>\n",
              "  <th>Model:</th>                   <td>OLS</td>       <th>  Adj. R-squared:    </th> <td>   0.892</td> \n",
              "</tr>\n",
              "<tr>\n",
              "  <th>Method:</th>             <td>Least Squares</td>  <th>  F-statistic:       </th> <td>   3994.</td> \n",
              "</tr>\n",
              "<tr>\n",
              "  <th>Date:</th>             <td>Fri, 11 Feb 2022</td> <th>  Prob (F-statistic):</th>  <td>  0.00</td>  \n",
              "</tr>\n",
              "<tr>\n",
              "  <th>Time:</th>                 <td>14:52:17</td>     <th>  Log-Likelihood:    </th> <td> -12489.</td> \n",
              "</tr>\n",
              "<tr>\n",
              "  <th>No. Observations:</th>      <td>   969</td>      <th>  AIC:               </th> <td>2.498e+04</td>\n",
              "</tr>\n",
              "<tr>\n",
              "  <th>Df Residuals:</th>          <td>   966</td>      <th>  BIC:               </th> <td>2.500e+04</td>\n",
              "</tr>\n",
              "<tr>\n",
              "  <th>Df Model:</th>              <td>     2</td>      <th>                     </th>     <td> </td>    \n",
              "</tr>\n",
              "<tr>\n",
              "  <th>Covariance Type:</th>      <td>nonrobust</td>    <th>                     </th>     <td> </td>    \n",
              "</tr>\n",
              "</table>\n",
              "<table class=\"simpletable\">\n",
              "<tr>\n",
              "    <td></td>       <th>coef</th>     <th>std err</th>      <th>t</th>      <th>P>|t|</th>  <th>[0.025</th>    <th>0.975]</th>  \n",
              "</tr>\n",
              "<tr>\n",
              "  <th>const</th> <td> 3.544e-15</td> <td> 8.35e-17</td> <td>   42.444</td> <td> 0.000</td> <td> 3.38e-15</td> <td> 3.71e-15</td>\n",
              "</tr>\n",
              "<tr>\n",
              "  <th>x1</th>    <td> 7.905e-10</td> <td> 1.86e-11</td> <td>   42.444</td> <td> 0.000</td> <td> 7.54e-10</td> <td> 8.27e-10</td>\n",
              "</tr>\n",
              "<tr>\n",
              "  <th>x2</th>    <td> 3.085e-05</td> <td> 7.27e-07</td> <td>   42.444</td> <td> 0.000</td> <td> 2.94e-05</td> <td> 3.23e-05</td>\n",
              "</tr>\n",
              "<tr>\n",
              "  <th>x3</th>    <td> -1.12e-10</td> <td> 4.26e-12</td> <td>  -26.325</td> <td> 0.000</td> <td> -1.2e-10</td> <td>-1.04e-10</td>\n",
              "</tr>\n",
              "<tr>\n",
              "  <th>x4</th>    <td> 1.232e-16</td> <td> 5.96e-18</td> <td>   20.667</td> <td> 0.000</td> <td> 1.12e-16</td> <td> 1.35e-16</td>\n",
              "</tr>\n",
              "</table>\n",
              "<table class=\"simpletable\">\n",
              "<tr>\n",
              "  <th>Omnibus:</th>       <td>166.651</td> <th>  Durbin-Watson:     </th> <td>   1.930</td> \n",
              "</tr>\n",
              "<tr>\n",
              "  <th>Prob(Omnibus):</th> <td> 0.000</td>  <th>  Jarque-Bera (JB):  </th> <td> 547.349</td> \n",
              "</tr>\n",
              "<tr>\n",
              "  <th>Skew:</th>          <td>-0.824</td>  <th>  Prob(JB):          </th> <td>1.40e-119</td>\n",
              "</tr>\n",
              "<tr>\n",
              "  <th>Kurtosis:</th>      <td> 6.293</td>  <th>  Cond. No.          </th> <td>3.53e+22</td> \n",
              "</tr>\n",
              "</table><br/><br/>Warnings:<br/>[1] Standard Errors assume that the covariance matrix of the errors is correctly specified.<br/>[2] The condition number is large, 3.53e+22. This might indicate that there are<br/>strong multicollinearity or other numerical problems."
            ],
            "text/plain": [
              "<class 'statsmodels.iolib.summary.Summary'>\n",
              "\"\"\"\n",
              "                            OLS Regression Results                            \n",
              "==============================================================================\n",
              "Dep. Variable:                      y   R-squared:                       0.892\n",
              "Model:                            OLS   Adj. R-squared:                  0.892\n",
              "Method:                 Least Squares   F-statistic:                     3994.\n",
              "Date:                Fri, 11 Feb 2022   Prob (F-statistic):               0.00\n",
              "Time:                        14:52:17   Log-Likelihood:                -12489.\n",
              "No. Observations:                 969   AIC:                         2.498e+04\n",
              "Df Residuals:                     966   BIC:                         2.500e+04\n",
              "Df Model:                           2                                         \n",
              "Covariance Type:            nonrobust                                         \n",
              "==============================================================================\n",
              "                 coef    std err          t      P>|t|      [0.025      0.975]\n",
              "------------------------------------------------------------------------------\n",
              "const       3.544e-15   8.35e-17     42.444      0.000    3.38e-15    3.71e-15\n",
              "x1          7.905e-10   1.86e-11     42.444      0.000    7.54e-10    8.27e-10\n",
              "x2          3.085e-05   7.27e-07     42.444      0.000    2.94e-05    3.23e-05\n",
              "x3          -1.12e-10   4.26e-12    -26.325      0.000    -1.2e-10   -1.04e-10\n",
              "x4          1.232e-16   5.96e-18     20.667      0.000    1.12e-16    1.35e-16\n",
              "==============================================================================\n",
              "Omnibus:                      166.651   Durbin-Watson:                   1.930\n",
              "Prob(Omnibus):                  0.000   Jarque-Bera (JB):              547.349\n",
              "Skew:                          -0.824   Prob(JB):                    1.40e-119\n",
              "Kurtosis:                       6.293   Cond. No.                     3.53e+22\n",
              "==============================================================================\n",
              "\n",
              "Warnings:\n",
              "[1] Standard Errors assume that the covariance matrix of the errors is correctly specified.\n",
              "[2] The condition number is large, 3.53e+22. This might indicate that there are\n",
              "strong multicollinearity or other numerical problems.\n",
              "\"\"\""
            ]
          },
          "metadata": {},
          "execution_count": 35
        }
      ]
    },
    {
      "cell_type": "code",
      "source": [
        "#DEG = 4\n",
        "from sklearn.linear_model import LinearRegression\n",
        "from sklearn.metrics import r2_score\n",
        "regressor = LinearRegression()\n",
        "model = LinearRegression()\n",
        "\n",
        "#define predictor variables\n",
        "y = ds['Production'].values.reshape(-1, 1)\n",
        "# x = ds[['Area']].values.reshape(-1, 1)\n",
        "\n",
        "model.fit(x_polynom, y)\n",
        "R2 = r2_score(y,model.predict(x_polynom))\n",
        "\n",
        "#display adjusted R-squared\n",
        "ad_R2 = 1 - (1-model.score(x_polynom, y))*(len(y)-1)/(len(y)-x_polynom.shape[1]-1)\n",
        "\n",
        "print(\"R2 - \",R2)\n",
        "print(\"Ad_R2\",ad_R2)"
      ],
      "metadata": {
        "colab": {
          "base_uri": "https://localhost:8080/"
        },
        "id": "9USKYZpoSNsB",
        "outputId": "03a3ff97-fb64-466f-f0f4-11e358babf06"
      },
      "execution_count": null,
      "outputs": [
        {
          "output_type": "stream",
          "name": "stdout",
          "text": [
            "R2 -  0.9061991744535223\n",
            "Ad_R2 0.9057121504371854\n"
          ]
        }
      ]
    },
    {
      "cell_type": "markdown",
      "source": [
        "***`POLYNOMIAL`***\n",
        "\n",
        "---\n",
        "\n"
      ],
      "metadata": {
        "id": "igYvHJwtMBaJ"
      }
    },
    {
      "cell_type": "code",
      "source": [
        "##DEG = 3\n",
        "\n",
        "x = ds[['Area']].values.reshape(-1, 1)\n",
        "y = ds['Production'].values.reshape(-1, 1)\n",
        "\n",
        "from sklearn.preprocessing import PolynomialFeatures\n",
        "polynom = PolynomialFeatures(degree = 3)\n",
        "x_polynom = polynom.fit_transform(x)\n",
        "\n",
        "import statsmodels.api as sm\n",
        "X_train_sm=sm.add_constant(x_polynom)\n",
        "lr=sm.OLS(y,X_train_sm).fit()\n",
        "\n",
        "print(\"AIC-\",lr.aic)\n",
        "print(\"BIC-\",lr.bic)\n",
        "\n",
        "m=len(Y)\n",
        "p=1\n",
        "hat_sigma_squared=(1/(m-p-1))*(lr.ssr)\n",
        "Cp=(1/m)*((lr.ssr)+2*hat_sigma_squared)\n",
        "print(\"Cp-\",Cp)"
      ],
      "metadata": {
        "colab": {
          "base_uri": "https://localhost:8080/"
        },
        "id": "DxehUkM-OxUY",
        "outputId": "3dcca870-bb44-4357-d399-c2317b9343a6"
      },
      "execution_count": null,
      "outputs": [
        {
          "output_type": "stream",
          "name": "stdout",
          "text": [
            "AIC- 24624.471234321227\n",
            "BIC- 24639.1000281569\n",
            "Cp- 6340656287.235999\n"
          ]
        }
      ]
    },
    {
      "cell_type": "code",
      "source": [
        "lr.summary()"
      ],
      "metadata": {
        "colab": {
          "base_uri": "https://localhost:8080/",
          "height": 520
        },
        "id": "mesXdmw8UmxG",
        "outputId": "4fa74264-734e-4c48-fe90-943d2fcb94ba"
      },
      "execution_count": null,
      "outputs": [
        {
          "output_type": "execute_result",
          "data": {
            "text/html": [
              "<table class=\"simpletable\">\n",
              "<caption>OLS Regression Results</caption>\n",
              "<tr>\n",
              "  <th>Dep. Variable:</th>            <td>y</td>        <th>  R-squared:         </th> <td>   0.926</td> \n",
              "</tr>\n",
              "<tr>\n",
              "  <th>Model:</th>                   <td>OLS</td>       <th>  Adj. R-squared:    </th> <td>   0.925</td> \n",
              "</tr>\n",
              "<tr>\n",
              "  <th>Method:</th>             <td>Least Squares</td>  <th>  F-statistic:       </th> <td>   6006.</td> \n",
              "</tr>\n",
              "<tr>\n",
              "  <th>Date:</th>             <td>Fri, 11 Feb 2022</td> <th>  Prob (F-statistic):</th>  <td>  0.00</td>  \n",
              "</tr>\n",
              "<tr>\n",
              "  <th>Time:</th>                 <td>14:53:22</td>     <th>  Log-Likelihood:    </th> <td> -12309.</td> \n",
              "</tr>\n",
              "<tr>\n",
              "  <th>No. Observations:</th>      <td>   969</td>      <th>  AIC:               </th> <td>2.462e+04</td>\n",
              "</tr>\n",
              "<tr>\n",
              "  <th>Df Residuals:</th>          <td>   966</td>      <th>  BIC:               </th> <td>2.464e+04</td>\n",
              "</tr>\n",
              "<tr>\n",
              "  <th>Df Model:</th>              <td>     2</td>      <th>                     </th>     <td> </td>    \n",
              "</tr>\n",
              "<tr>\n",
              "  <th>Covariance Type:</th>      <td>nonrobust</td>    <th>                     </th>     <td> </td>    \n",
              "</tr>\n",
              "</table>\n",
              "<table class=\"simpletable\">\n",
              "<tr>\n",
              "    <td></td>       <th>coef</th>     <th>std err</th>      <th>t</th>      <th>P>|t|</th>  <th>[0.025</th>    <th>0.975]</th>  \n",
              "</tr>\n",
              "<tr>\n",
              "  <th>const</th> <td> 6.076e-05</td> <td> 1.87e-06</td> <td>   32.449</td> <td> 0.000</td> <td> 5.71e-05</td> <td> 6.44e-05</td>\n",
              "</tr>\n",
              "<tr>\n",
              "  <th>x1</th>    <td>    2.9688</td> <td>    0.091</td> <td>   32.449</td> <td> 0.000</td> <td>    2.789</td> <td>    3.148</td>\n",
              "</tr>\n",
              "<tr>\n",
              "  <th>x2</th>    <td> -3.61e-06</td> <td> 6.61e-07</td> <td>   -5.458</td> <td> 0.000</td> <td>-4.91e-06</td> <td>-2.31e-06</td>\n",
              "</tr>\n",
              "<tr>\n",
              "  <th>x3</th>    <td> 5.922e-12</td> <td> 1.09e-12</td> <td>    5.414</td> <td> 0.000</td> <td> 3.78e-12</td> <td> 8.07e-12</td>\n",
              "</tr>\n",
              "</table>\n",
              "<table class=\"simpletable\">\n",
              "<tr>\n",
              "  <th>Omnibus:</th>       <td>103.952</td> <th>  Durbin-Watson:     </th> <td>   1.888</td> \n",
              "</tr>\n",
              "<tr>\n",
              "  <th>Prob(Omnibus):</th> <td> 0.000</td>  <th>  Jarque-Bera (JB):  </th> <td> 640.964</td> \n",
              "</tr>\n",
              "<tr>\n",
              "  <th>Skew:</th>          <td>-0.247</td>  <th>  Prob(JB):          </th> <td>6.55e-140</td>\n",
              "</tr>\n",
              "<tr>\n",
              "  <th>Kurtosis:</th>      <td> 6.954</td>  <th>  Cond. No.          </th> <td>3.71e+16</td> \n",
              "</tr>\n",
              "</table><br/><br/>Warnings:<br/>[1] Standard Errors assume that the covariance matrix of the errors is correctly specified.<br/>[2] The condition number is large, 3.71e+16. This might indicate that there are<br/>strong multicollinearity or other numerical problems."
            ],
            "text/plain": [
              "<class 'statsmodels.iolib.summary.Summary'>\n",
              "\"\"\"\n",
              "                            OLS Regression Results                            \n",
              "==============================================================================\n",
              "Dep. Variable:                      y   R-squared:                       0.926\n",
              "Model:                            OLS   Adj. R-squared:                  0.925\n",
              "Method:                 Least Squares   F-statistic:                     6006.\n",
              "Date:                Fri, 11 Feb 2022   Prob (F-statistic):               0.00\n",
              "Time:                        14:53:22   Log-Likelihood:                -12309.\n",
              "No. Observations:                 969   AIC:                         2.462e+04\n",
              "Df Residuals:                     966   BIC:                         2.464e+04\n",
              "Df Model:                           2                                         \n",
              "Covariance Type:            nonrobust                                         \n",
              "==============================================================================\n",
              "                 coef    std err          t      P>|t|      [0.025      0.975]\n",
              "------------------------------------------------------------------------------\n",
              "const       6.076e-05   1.87e-06     32.449      0.000    5.71e-05    6.44e-05\n",
              "x1             2.9688      0.091     32.449      0.000       2.789       3.148\n",
              "x2          -3.61e-06   6.61e-07     -5.458      0.000   -4.91e-06   -2.31e-06\n",
              "x3          5.922e-12   1.09e-12      5.414      0.000    3.78e-12    8.07e-12\n",
              "==============================================================================\n",
              "Omnibus:                      103.952   Durbin-Watson:                   1.888\n",
              "Prob(Omnibus):                  0.000   Jarque-Bera (JB):              640.964\n",
              "Skew:                          -0.247   Prob(JB):                    6.55e-140\n",
              "Kurtosis:                       6.954   Cond. No.                     3.71e+16\n",
              "==============================================================================\n",
              "\n",
              "Warnings:\n",
              "[1] Standard Errors assume that the covariance matrix of the errors is correctly specified.\n",
              "[2] The condition number is large, 3.71e+16. This might indicate that there are\n",
              "strong multicollinearity or other numerical problems.\n",
              "\"\"\""
            ]
          },
          "metadata": {},
          "execution_count": 37
        }
      ]
    },
    {
      "cell_type": "code",
      "source": [
        "#DEG = 3\n",
        "from sklearn.linear_model import LinearRegression\n",
        "from sklearn.metrics import r2_score\n",
        "regressor = LinearRegression()\n",
        "model = LinearRegression()\n",
        "\n",
        "#define predictor variables\n",
        "y = ds['Production'].values.reshape(-1, 1)\n",
        "# x = ds[['Area']].values.reshape(-1, 1)\n",
        "\n",
        "model.fit(x_polynom, y)\n",
        "R2 = r2_score(y,model.predict(x_polynom))\n",
        "\n",
        "#display adjusted R-squared\n",
        "ad_R2 = 1 - (1-model.score(x_polynom, y))*(len(y)-1)/(len(y)-x_polynom.shape[1]-1)\n",
        "\n",
        "print(\"R2 - \",R2)\n",
        "print(\"Ad_R2\",ad_R2)"
      ],
      "metadata": {
        "colab": {
          "base_uri": "https://localhost:8080/"
        },
        "id": "3YEVulTTSJ5l",
        "outputId": "7da0193d-7e82-4f20-e669-8b4ea24583b4"
      },
      "execution_count": null,
      "outputs": [
        {
          "output_type": "stream",
          "name": "stdout",
          "text": [
            "R2 -  0.9257669736309195\n",
            "Ad_R2 0.9254589527746163\n"
          ]
        }
      ]
    },
    {
      "cell_type": "code",
      "source": [
        "##DEG = 2\n",
        "\n",
        "x = ds[['Area']].values.reshape(-1, 1)\n",
        "y = ds['Production'].values.reshape(-1, 1)\n",
        "\n",
        "from sklearn.preprocessing import PolynomialFeatures\n",
        "polynom = PolynomialFeatures(degree = 2)\n",
        "x_polynom = polynom.fit_transform(x)\n",
        "\n",
        "import statsmodels.api as sm\n",
        "X_train_sm=sm.add_constant(x_polynom)\n",
        "lr=sm.OLS(y,X_train_sm).fit()\n",
        "\n",
        "print(\"AIC-\",lr.aic)\n",
        "print(\"BIC-\",lr.bic)\n",
        "\n",
        "m=len(Y)\n",
        "p=1\n",
        "hat_sigma_squared=(1/(m-p-1))*(lr.ssr)\n",
        "Cp=(1/m)*((lr.ssr)+2*hat_sigma_squared)\n",
        "print(\"Cp-\",Cp)"
      ],
      "metadata": {
        "colab": {
          "base_uri": "https://localhost:8080/"
        },
        "id": "GFI8pyzmX7sp",
        "outputId": "e7a9f604-4f31-47ac-ec89-b2b5c5b8e687"
      },
      "execution_count": null,
      "outputs": [
        {
          "output_type": "stream",
          "name": "stdout",
          "text": [
            "AIC- 24651.813335297455\n",
            "BIC- 24666.442129133127\n",
            "Cp- 6522117550.551091\n"
          ]
        }
      ]
    },
    {
      "cell_type": "code",
      "source": [
        "lr.summary()"
      ],
      "metadata": {
        "colab": {
          "base_uri": "https://localhost:8080/",
          "height": 499
        },
        "id": "B6J8ImMMRudY",
        "outputId": "ca9aa868-c976-49b4-e73a-5f8dd7ab9998"
      },
      "execution_count": null,
      "outputs": [
        {
          "output_type": "execute_result",
          "data": {
            "text/html": [
              "<table class=\"simpletable\">\n",
              "<caption>OLS Regression Results</caption>\n",
              "<tr>\n",
              "  <th>Dep. Variable:</th>            <td>y</td>        <th>  R-squared:         </th> <td>   0.923</td> \n",
              "</tr>\n",
              "<tr>\n",
              "  <th>Model:</th>                   <td>OLS</td>       <th>  Adj. R-squared:    </th> <td>   0.923</td> \n",
              "</tr>\n",
              "<tr>\n",
              "  <th>Method:</th>             <td>Least Squares</td>  <th>  F-statistic:       </th> <td>   5825.</td> \n",
              "</tr>\n",
              "<tr>\n",
              "  <th>Date:</th>             <td>Fri, 11 Feb 2022</td> <th>  Prob (F-statistic):</th>  <td>  0.00</td>  \n",
              "</tr>\n",
              "<tr>\n",
              "  <th>Time:</th>                 <td>14:54:21</td>     <th>  Log-Likelihood:    </th> <td> -12323.</td> \n",
              "</tr>\n",
              "<tr>\n",
              "  <th>No. Observations:</th>      <td>   969</td>      <th>  AIC:               </th> <td>2.465e+04</td>\n",
              "</tr>\n",
              "<tr>\n",
              "  <th>Df Residuals:</th>          <td>   966</td>      <th>  BIC:               </th> <td>2.467e+04</td>\n",
              "</tr>\n",
              "<tr>\n",
              "  <th>Df Model:</th>              <td>     2</td>      <th>                     </th>     <td> </td>    \n",
              "</tr>\n",
              "<tr>\n",
              "  <th>Covariance Type:</th>      <td>nonrobust</td>    <th>                     </th>     <td> </td>    \n",
              "</tr>\n",
              "</table>\n",
              "<table class=\"simpletable\">\n",
              "<tr>\n",
              "    <td></td>       <th>coef</th>     <th>std err</th>      <th>t</th>      <th>P>|t|</th>  <th>[0.025</th>    <th>0.975]</th>  \n",
              "</tr>\n",
              "<tr>\n",
              "  <th>const</th> <td> 5451.9608</td> <td> 4279.983</td> <td>    1.274</td> <td> 0.203</td> <td>-2947.176</td> <td> 1.39e+04</td>\n",
              "</tr>\n",
              "<tr>\n",
              "  <th>x1</th>    <td>    2.4760</td> <td>    0.065</td> <td>   37.924</td> <td> 0.000</td> <td>    2.348</td> <td>    2.604</td>\n",
              "</tr>\n",
              "<tr>\n",
              "  <th>x2</th>    <td> 1.203e-08</td> <td> 1.69e-07</td> <td>    0.071</td> <td> 0.943</td> <td> -3.2e-07</td> <td> 3.44e-07</td>\n",
              "</tr>\n",
              "</table>\n",
              "<table class=\"simpletable\">\n",
              "<tr>\n",
              "  <th>Omnibus:</th>       <td>133.908</td> <th>  Durbin-Watson:     </th> <td>   1.921</td> \n",
              "</tr>\n",
              "<tr>\n",
              "  <th>Prob(Omnibus):</th> <td> 0.000</td>  <th>  Jarque-Bera (JB):  </th> <td> 708.269</td> \n",
              "</tr>\n",
              "<tr>\n",
              "  <th>Skew:</th>          <td>-0.505</td>  <th>  Prob(JB):          </th> <td>1.59e-154</td>\n",
              "</tr>\n",
              "<tr>\n",
              "  <th>Kurtosis:</th>      <td> 7.065</td>  <th>  Cond. No.          </th> <td>8.18e+10</td> \n",
              "</tr>\n",
              "</table><br/><br/>Warnings:<br/>[1] Standard Errors assume that the covariance matrix of the errors is correctly specified.<br/>[2] The condition number is large, 8.18e+10. This might indicate that there are<br/>strong multicollinearity or other numerical problems."
            ],
            "text/plain": [
              "<class 'statsmodels.iolib.summary.Summary'>\n",
              "\"\"\"\n",
              "                            OLS Regression Results                            \n",
              "==============================================================================\n",
              "Dep. Variable:                      y   R-squared:                       0.923\n",
              "Model:                            OLS   Adj. R-squared:                  0.923\n",
              "Method:                 Least Squares   F-statistic:                     5825.\n",
              "Date:                Fri, 11 Feb 2022   Prob (F-statistic):               0.00\n",
              "Time:                        14:54:21   Log-Likelihood:                -12323.\n",
              "No. Observations:                 969   AIC:                         2.465e+04\n",
              "Df Residuals:                     966   BIC:                         2.467e+04\n",
              "Df Model:                           2                                         \n",
              "Covariance Type:            nonrobust                                         \n",
              "==============================================================================\n",
              "                 coef    std err          t      P>|t|      [0.025      0.975]\n",
              "------------------------------------------------------------------------------\n",
              "const       5451.9608   4279.983      1.274      0.203   -2947.176    1.39e+04\n",
              "x1             2.4760      0.065     37.924      0.000       2.348       2.604\n",
              "x2          1.203e-08   1.69e-07      0.071      0.943    -3.2e-07    3.44e-07\n",
              "==============================================================================\n",
              "Omnibus:                      133.908   Durbin-Watson:                   1.921\n",
              "Prob(Omnibus):                  0.000   Jarque-Bera (JB):              708.269\n",
              "Skew:                          -0.505   Prob(JB):                    1.59e-154\n",
              "Kurtosis:                       7.065   Cond. No.                     8.18e+10\n",
              "==============================================================================\n",
              "\n",
              "Warnings:\n",
              "[1] Standard Errors assume that the covariance matrix of the errors is correctly specified.\n",
              "[2] The condition number is large, 8.18e+10. This might indicate that there are\n",
              "strong multicollinearity or other numerical problems.\n",
              "\"\"\""
            ]
          },
          "metadata": {},
          "execution_count": 40
        }
      ]
    },
    {
      "cell_type": "code",
      "source": [
        "#DEG = 2\n",
        "from sklearn.linear_model import LinearRegression\n",
        "from sklearn.metrics import r2_score\n",
        "regressor = LinearRegression()\n",
        "model = LinearRegression()\n",
        "\n",
        "#define predictor variables\n",
        "y = ds['Production'].values.reshape(-1, 1)\n",
        "# x = ds[['Area']].values.reshape(-1, 1)\n",
        "\n",
        "model.fit(x_polynom, y)\n",
        "R2 = r2_score(y,model.predict(x_polynom))\n",
        "\n",
        "#display adjusted R-squared\n",
        "ad_R2 = 1 - (1-model.score(x_polynom, y))*(len(y)-1)/(len(y)-x_polynom.shape[1]-1)\n",
        "\n",
        "print(\"R2 - \",R2)\n",
        "print(\"Ad_R2\",ad_R2)"
      ],
      "metadata": {
        "colab": {
          "base_uri": "https://localhost:8080/"
        },
        "id": "37tf7DmDX_Ju",
        "outputId": "e862b337-48a5-4a73-d001-0cbc498360e1"
      },
      "execution_count": null,
      "outputs": [
        {
          "output_type": "stream",
          "name": "stdout",
          "text": [
            "R2 -  0.9234333382780779\n",
            "Ad_R2 0.9231953072053674\n"
          ]
        }
      ]
    },
    {
      "cell_type": "code",
      "source": [
        "##DEG = 1\n",
        "\n",
        "x = ds[['Area']].values.reshape(-1, 1)\n",
        "y = ds['Production'].values.reshape(-1, 1)\n",
        "\n",
        "from sklearn.preprocessing import PolynomialFeatures\n",
        "polynom = PolynomialFeatures(degree = 1)\n",
        "x_polynom = polynom.fit_transform(x)\n",
        "\n",
        "import statsmodels.api as sm\n",
        "X_train_sm=sm.add_constant(x_polynom)\n",
        "lr=sm.OLS(y,X_train_sm).fit()\n",
        "\n",
        "print(\"AIC-\",lr.aic)\n",
        "print(\"BIC-\",lr.bic)\n",
        "\n",
        "m=len(Y)\n",
        "p=1\n",
        "hat_sigma_squared=(1/(m-p-1))*(lr.ssr)\n",
        "Cp=(1/m)*((lr.ssr)+2*hat_sigma_squared)\n",
        "print(\"Cp-\",Cp)"
      ],
      "metadata": {
        "colab": {
          "base_uri": "https://localhost:8080/"
        },
        "id": "okyk7Mk4Yiuf",
        "outputId": "116fe8a3-0cc3-4d0f-dede-f332b7b52112"
      },
      "execution_count": null,
      "outputs": [
        {
          "output_type": "stream",
          "name": "stdout",
          "text": [
            "AIC- 24649.818392559107\n",
            "BIC- 24659.570921782888\n",
            "Cp- 6522151589.912349\n"
          ]
        }
      ]
    },
    {
      "cell_type": "code",
      "source": [
        "lr.summary()"
      ],
      "metadata": {
        "colab": {
          "base_uri": "https://localhost:8080/",
          "height": 478
        },
        "id": "cZ35JkW9SN3F",
        "outputId": "ca532312-5128-4283-8102-a2e9385d381e"
      },
      "execution_count": null,
      "outputs": [
        {
          "output_type": "execute_result",
          "data": {
            "text/html": [
              "<table class=\"simpletable\">\n",
              "<caption>OLS Regression Results</caption>\n",
              "<tr>\n",
              "  <th>Dep. Variable:</th>            <td>y</td>        <th>  R-squared:         </th> <td>   0.923</td> \n",
              "</tr>\n",
              "<tr>\n",
              "  <th>Model:</th>                   <td>OLS</td>       <th>  Adj. R-squared:    </th> <td>   0.923</td> \n",
              "</tr>\n",
              "<tr>\n",
              "  <th>Method:</th>             <td>Least Squares</td>  <th>  F-statistic:       </th> <td>1.166e+04</td>\n",
              "</tr>\n",
              "<tr>\n",
              "  <th>Date:</th>             <td>Fri, 11 Feb 2022</td> <th>  Prob (F-statistic):</th>  <td>  0.00</td>  \n",
              "</tr>\n",
              "<tr>\n",
              "  <th>Time:</th>                 <td>14:56:25</td>     <th>  Log-Likelihood:    </th> <td> -12323.</td> \n",
              "</tr>\n",
              "<tr>\n",
              "  <th>No. Observations:</th>      <td>   969</td>      <th>  AIC:               </th> <td>2.465e+04</td>\n",
              "</tr>\n",
              "<tr>\n",
              "  <th>Df Residuals:</th>          <td>   967</td>      <th>  BIC:               </th> <td>2.466e+04</td>\n",
              "</tr>\n",
              "<tr>\n",
              "  <th>Df Model:</th>              <td>     1</td>      <th>                     </th>     <td> </td>    \n",
              "</tr>\n",
              "<tr>\n",
              "  <th>Covariance Type:</th>      <td>nonrobust</td>    <th>                     </th>     <td> </td>    \n",
              "</tr>\n",
              "</table>\n",
              "<table class=\"simpletable\">\n",
              "<tr>\n",
              "    <td></td>       <th>coef</th>     <th>std err</th>      <th>t</th>      <th>P>|t|</th>  <th>[0.025</th>    <th>0.975]</th>  \n",
              "</tr>\n",
              "<tr>\n",
              "  <th>const</th> <td> 5281.9886</td> <td> 3546.109</td> <td>    1.490</td> <td> 0.137</td> <td>-1676.968</td> <td> 1.22e+04</td>\n",
              "</tr>\n",
              "<tr>\n",
              "  <th>x1</th>    <td>    2.4803</td> <td>    0.023</td> <td>  107.993</td> <td> 0.000</td> <td>    2.435</td> <td>    2.525</td>\n",
              "</tr>\n",
              "</table>\n",
              "<table class=\"simpletable\">\n",
              "<tr>\n",
              "  <th>Omnibus:</th>       <td>134.102</td> <th>  Durbin-Watson:     </th> <td>   1.921</td> \n",
              "</tr>\n",
              "<tr>\n",
              "  <th>Prob(Omnibus):</th> <td> 0.000</td>  <th>  Jarque-Bera (JB):  </th> <td> 709.848</td> \n",
              "</tr>\n",
              "<tr>\n",
              "  <th>Skew:</th>          <td>-0.506</td>  <th>  Prob(JB):          </th> <td>7.22e-155</td>\n",
              "</tr>\n",
              "<tr>\n",
              "  <th>Kurtosis:</th>      <td> 7.069</td>  <th>  Cond. No.          </th> <td>2.11e+05</td> \n",
              "</tr>\n",
              "</table><br/><br/>Warnings:<br/>[1] Standard Errors assume that the covariance matrix of the errors is correctly specified.<br/>[2] The condition number is large, 2.11e+05. This might indicate that there are<br/>strong multicollinearity or other numerical problems."
            ],
            "text/plain": [
              "<class 'statsmodels.iolib.summary.Summary'>\n",
              "\"\"\"\n",
              "                            OLS Regression Results                            \n",
              "==============================================================================\n",
              "Dep. Variable:                      y   R-squared:                       0.923\n",
              "Model:                            OLS   Adj. R-squared:                  0.923\n",
              "Method:                 Least Squares   F-statistic:                 1.166e+04\n",
              "Date:                Fri, 11 Feb 2022   Prob (F-statistic):               0.00\n",
              "Time:                        14:56:25   Log-Likelihood:                -12323.\n",
              "No. Observations:                 969   AIC:                         2.465e+04\n",
              "Df Residuals:                     967   BIC:                         2.466e+04\n",
              "Df Model:                           1                                         \n",
              "Covariance Type:            nonrobust                                         \n",
              "==============================================================================\n",
              "                 coef    std err          t      P>|t|      [0.025      0.975]\n",
              "------------------------------------------------------------------------------\n",
              "const       5281.9886   3546.109      1.490      0.137   -1676.968    1.22e+04\n",
              "x1             2.4803      0.023    107.993      0.000       2.435       2.525\n",
              "==============================================================================\n",
              "Omnibus:                      134.102   Durbin-Watson:                   1.921\n",
              "Prob(Omnibus):                  0.000   Jarque-Bera (JB):              709.848\n",
              "Skew:                          -0.506   Prob(JB):                    7.22e-155\n",
              "Kurtosis:                       7.069   Cond. No.                     2.11e+05\n",
              "==============================================================================\n",
              "\n",
              "Warnings:\n",
              "[1] Standard Errors assume that the covariance matrix of the errors is correctly specified.\n",
              "[2] The condition number is large, 2.11e+05. This might indicate that there are\n",
              "strong multicollinearity or other numerical problems.\n",
              "\"\"\""
            ]
          },
          "metadata": {},
          "execution_count": 42
        }
      ]
    },
    {
      "cell_type": "code",
      "source": [
        "#DEG = 1\n",
        "from sklearn.linear_model import LinearRegression\n",
        "from sklearn.metrics import r2_score\n",
        "regressor = LinearRegression()\n",
        "model = LinearRegression()\n",
        "\n",
        "#define predictor variables\n",
        "y = ds['Production'].values.reshape(-1, 1)\n",
        "# x = ds[['Area']].values.reshape(-1, 1)\n",
        "\n",
        "model.fit(x_polynom, y)\n",
        "R2 = r2_score(y,model.predict(x_polynom))\n",
        "\n",
        "#display adjusted R-squared\n",
        "ad_R2 = 1 - (1-model.score(x_polynom, y))*(len(y)-1)/(len(y)-x_polynom.shape[1]-1)\n",
        "\n",
        "print(\"R2 - \",R2)\n",
        "print(\"Ad_R2\",ad_R2)"
      ],
      "metadata": {
        "id": "c6td7sINYm5P",
        "outputId": "1cbb6d25-c15c-4178-e713-b968470dcb0e",
        "colab": {
          "base_uri": "https://localhost:8080/"
        }
      },
      "execution_count": null,
      "outputs": [
        {
          "output_type": "stream",
          "name": "stdout",
          "text": [
            "R2 -  0.9234329386716252\n",
            "Ad_R2 0.9232744147351275\n"
          ]
        }
      ]
    },
    {
      "cell_type": "markdown",
      "source": [
        "# OBSERVATIONS"
      ],
      "metadata": {
        "id": "VcTuFxvy4sdt"
      }
    },
    {
      "cell_type": "code",
      "source": [
        "crop_ds"
      ],
      "metadata": {
        "id": "6DzboiAk4nIH",
        "colab": {
          "base_uri": "https://localhost:8080/",
          "height": 424
        },
        "outputId": "679c219d-a8f4-4a64-b893-450214a1979f"
      },
      "execution_count": null,
      "outputs": [
        {
          "output_type": "execute_result",
          "data": {
            "text/html": [
              "\n",
              "  <div id=\"df-e3e0fabc-76aa-4458-8b0f-8a25c2d13296\">\n",
              "    <div class=\"colab-df-container\">\n",
              "      <div>\n",
              "<style scoped>\n",
              "    .dataframe tbody tr th:only-of-type {\n",
              "        vertical-align: middle;\n",
              "    }\n",
              "\n",
              "    .dataframe tbody tr th {\n",
              "        vertical-align: top;\n",
              "    }\n",
              "\n",
              "    .dataframe thead th {\n",
              "        text-align: right;\n",
              "    }\n",
              "</style>\n",
              "<table border=\"1\" class=\"dataframe\">\n",
              "  <thead>\n",
              "    <tr style=\"text-align: right;\">\n",
              "      <th></th>\n",
              "      <th>State_Name</th>\n",
              "      <th>District_Name</th>\n",
              "      <th>Crop_Year</th>\n",
              "      <th>Season</th>\n",
              "      <th>Crop</th>\n",
              "      <th>Area</th>\n",
              "      <th>Production</th>\n",
              "    </tr>\n",
              "  </thead>\n",
              "  <tbody>\n",
              "    <tr>\n",
              "      <th>0</th>\n",
              "      <td>Andaman and Nicobar Islands</td>\n",
              "      <td>NICOBARS</td>\n",
              "      <td>2000</td>\n",
              "      <td>Kharif</td>\n",
              "      <td>Arecanut</td>\n",
              "      <td>1254.0</td>\n",
              "      <td>2000.0</td>\n",
              "    </tr>\n",
              "    <tr>\n",
              "      <th>1</th>\n",
              "      <td>Andaman and Nicobar Islands</td>\n",
              "      <td>NICOBARS</td>\n",
              "      <td>2000</td>\n",
              "      <td>Kharif</td>\n",
              "      <td>Other Kharif pulses</td>\n",
              "      <td>2.0</td>\n",
              "      <td>1.0</td>\n",
              "    </tr>\n",
              "    <tr>\n",
              "      <th>2</th>\n",
              "      <td>Andaman and Nicobar Islands</td>\n",
              "      <td>NICOBARS</td>\n",
              "      <td>2000</td>\n",
              "      <td>Kharif</td>\n",
              "      <td>Rice</td>\n",
              "      <td>102.0</td>\n",
              "      <td>321.0</td>\n",
              "    </tr>\n",
              "    <tr>\n",
              "      <th>3</th>\n",
              "      <td>Andaman and Nicobar Islands</td>\n",
              "      <td>NICOBARS</td>\n",
              "      <td>2000</td>\n",
              "      <td>Whole Year</td>\n",
              "      <td>Banana</td>\n",
              "      <td>176.0</td>\n",
              "      <td>641.0</td>\n",
              "    </tr>\n",
              "    <tr>\n",
              "      <th>4</th>\n",
              "      <td>Andaman and Nicobar Islands</td>\n",
              "      <td>NICOBARS</td>\n",
              "      <td>2000</td>\n",
              "      <td>Whole Year</td>\n",
              "      <td>Cashewnut</td>\n",
              "      <td>720.0</td>\n",
              "      <td>165.0</td>\n",
              "    </tr>\n",
              "    <tr>\n",
              "      <th>...</th>\n",
              "      <td>...</td>\n",
              "      <td>...</td>\n",
              "      <td>...</td>\n",
              "      <td>...</td>\n",
              "      <td>...</td>\n",
              "      <td>...</td>\n",
              "      <td>...</td>\n",
              "    </tr>\n",
              "    <tr>\n",
              "      <th>246086</th>\n",
              "      <td>West Bengal</td>\n",
              "      <td>PURULIA</td>\n",
              "      <td>2014</td>\n",
              "      <td>Summer</td>\n",
              "      <td>Rice</td>\n",
              "      <td>306.0</td>\n",
              "      <td>801.0</td>\n",
              "    </tr>\n",
              "    <tr>\n",
              "      <th>246087</th>\n",
              "      <td>West Bengal</td>\n",
              "      <td>PURULIA</td>\n",
              "      <td>2014</td>\n",
              "      <td>Summer</td>\n",
              "      <td>Sesamum</td>\n",
              "      <td>627.0</td>\n",
              "      <td>463.0</td>\n",
              "    </tr>\n",
              "    <tr>\n",
              "      <th>246088</th>\n",
              "      <td>West Bengal</td>\n",
              "      <td>PURULIA</td>\n",
              "      <td>2014</td>\n",
              "      <td>Whole Year</td>\n",
              "      <td>Sugarcane</td>\n",
              "      <td>324.0</td>\n",
              "      <td>16250.0</td>\n",
              "    </tr>\n",
              "    <tr>\n",
              "      <th>246089</th>\n",
              "      <td>West Bengal</td>\n",
              "      <td>PURULIA</td>\n",
              "      <td>2014</td>\n",
              "      <td>Winter</td>\n",
              "      <td>Rice</td>\n",
              "      <td>279151.0</td>\n",
              "      <td>597899.0</td>\n",
              "    </tr>\n",
              "    <tr>\n",
              "      <th>246090</th>\n",
              "      <td>West Bengal</td>\n",
              "      <td>PURULIA</td>\n",
              "      <td>2014</td>\n",
              "      <td>Winter</td>\n",
              "      <td>Sesamum</td>\n",
              "      <td>175.0</td>\n",
              "      <td>88.0</td>\n",
              "    </tr>\n",
              "  </tbody>\n",
              "</table>\n",
              "<p>246091 rows × 7 columns</p>\n",
              "</div>\n",
              "      <button class=\"colab-df-convert\" onclick=\"convertToInteractive('df-e3e0fabc-76aa-4458-8b0f-8a25c2d13296')\"\n",
              "              title=\"Convert this dataframe to an interactive table.\"\n",
              "              style=\"display:none;\">\n",
              "        \n",
              "  <svg xmlns=\"http://www.w3.org/2000/svg\" height=\"24px\"viewBox=\"0 0 24 24\"\n",
              "       width=\"24px\">\n",
              "    <path d=\"M0 0h24v24H0V0z\" fill=\"none\"/>\n",
              "    <path d=\"M18.56 5.44l.94 2.06.94-2.06 2.06-.94-2.06-.94-.94-2.06-.94 2.06-2.06.94zm-11 1L8.5 8.5l.94-2.06 2.06-.94-2.06-.94L8.5 2.5l-.94 2.06-2.06.94zm10 10l.94 2.06.94-2.06 2.06-.94-2.06-.94-.94-2.06-.94 2.06-2.06.94z\"/><path d=\"M17.41 7.96l-1.37-1.37c-.4-.4-.92-.59-1.43-.59-.52 0-1.04.2-1.43.59L10.3 9.45l-7.72 7.72c-.78.78-.78 2.05 0 2.83L4 21.41c.39.39.9.59 1.41.59.51 0 1.02-.2 1.41-.59l7.78-7.78 2.81-2.81c.8-.78.8-2.07 0-2.86zM5.41 20L4 18.59l7.72-7.72 1.47 1.35L5.41 20z\"/>\n",
              "  </svg>\n",
              "      </button>\n",
              "      \n",
              "  <style>\n",
              "    .colab-df-container {\n",
              "      display:flex;\n",
              "      flex-wrap:wrap;\n",
              "      gap: 12px;\n",
              "    }\n",
              "\n",
              "    .colab-df-convert {\n",
              "      background-color: #E8F0FE;\n",
              "      border: none;\n",
              "      border-radius: 50%;\n",
              "      cursor: pointer;\n",
              "      display: none;\n",
              "      fill: #1967D2;\n",
              "      height: 32px;\n",
              "      padding: 0 0 0 0;\n",
              "      width: 32px;\n",
              "    }\n",
              "\n",
              "    .colab-df-convert:hover {\n",
              "      background-color: #E2EBFA;\n",
              "      box-shadow: 0px 1px 2px rgba(60, 64, 67, 0.3), 0px 1px 3px 1px rgba(60, 64, 67, 0.15);\n",
              "      fill: #174EA6;\n",
              "    }\n",
              "\n",
              "    [theme=dark] .colab-df-convert {\n",
              "      background-color: #3B4455;\n",
              "      fill: #D2E3FC;\n",
              "    }\n",
              "\n",
              "    [theme=dark] .colab-df-convert:hover {\n",
              "      background-color: #434B5C;\n",
              "      box-shadow: 0px 1px 3px 1px rgba(0, 0, 0, 0.15);\n",
              "      filter: drop-shadow(0px 1px 2px rgba(0, 0, 0, 0.3));\n",
              "      fill: #FFFFFF;\n",
              "    }\n",
              "  </style>\n",
              "\n",
              "      <script>\n",
              "        const buttonEl =\n",
              "          document.querySelector('#df-e3e0fabc-76aa-4458-8b0f-8a25c2d13296 button.colab-df-convert');\n",
              "        buttonEl.style.display =\n",
              "          google.colab.kernel.accessAllowed ? 'block' : 'none';\n",
              "\n",
              "        async function convertToInteractive(key) {\n",
              "          const element = document.querySelector('#df-e3e0fabc-76aa-4458-8b0f-8a25c2d13296');\n",
              "          const dataTable =\n",
              "            await google.colab.kernel.invokeFunction('convertToInteractive',\n",
              "                                                     [key], {});\n",
              "          if (!dataTable) return;\n",
              "\n",
              "          const docLinkHtml = 'Like what you see? Visit the ' +\n",
              "            '<a target=\"_blank\" href=https://colab.research.google.com/notebooks/data_table.ipynb>data table notebook</a>'\n",
              "            + ' to learn more about interactive tables.';\n",
              "          element.innerHTML = '';\n",
              "          dataTable['output_type'] = 'display_data';\n",
              "          await google.colab.output.renderOutput(dataTable, element);\n",
              "          const docLink = document.createElement('div');\n",
              "          docLink.innerHTML = docLinkHtml;\n",
              "          element.appendChild(docLink);\n",
              "        }\n",
              "      </script>\n",
              "    </div>\n",
              "  </div>\n",
              "  "
            ],
            "text/plain": [
              "                         State_Name District_Name  ...      Area Production\n",
              "0       Andaman and Nicobar Islands      NICOBARS  ...    1254.0     2000.0\n",
              "1       Andaman and Nicobar Islands      NICOBARS  ...       2.0        1.0\n",
              "2       Andaman and Nicobar Islands      NICOBARS  ...     102.0      321.0\n",
              "3       Andaman and Nicobar Islands      NICOBARS  ...     176.0      641.0\n",
              "4       Andaman and Nicobar Islands      NICOBARS  ...     720.0      165.0\n",
              "...                             ...           ...  ...       ...        ...\n",
              "246086                  West Bengal       PURULIA  ...     306.0      801.0\n",
              "246087                  West Bengal       PURULIA  ...     627.0      463.0\n",
              "246088                  West Bengal       PURULIA  ...     324.0    16250.0\n",
              "246089                  West Bengal       PURULIA  ...  279151.0   597899.0\n",
              "246090                  West Bengal       PURULIA  ...     175.0       88.0\n",
              "\n",
              "[246091 rows x 7 columns]"
            ]
          },
          "metadata": {},
          "execution_count": 124
        }
      ]
    },
    {
      "cell_type": "code",
      "source": [],
      "metadata": {
        "id": "MDuGdUNugmp1"
      },
      "execution_count": null,
      "outputs": []
    }
  ]
}