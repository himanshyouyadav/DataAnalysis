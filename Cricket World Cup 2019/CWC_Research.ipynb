{
  "nbformat": 4,
  "nbformat_minor": 0,
  "metadata": {
    "colab": {
      "provenance": []
    },
    "kernelspec": {
      "name": "python3",
      "display_name": "Python 3"
    },
    "language_info": {
      "name": "python"
    }
  },
  "cells": [
    {
      "cell_type": "markdown",
      "metadata": {
        "id": "VWhUjmO6W6nD"
      },
      "source": [
        "INITIALISING THE ENVIROMENT FOR OUR PREPROCESSING"
      ]
    },
    {
      "cell_type": "code",
      "metadata": {
        "id": "peoFMWGxWKf7"
      },
      "source": [
        "import numpy as np\n",
        "import pandas as pd\n",
        "import matplotlib.pyplot as plt\n",
        "import seaborn as sns\n",
        "import urllib3\n",
        "import math"
      ],
      "execution_count": null,
      "outputs": []
    },
    {
      "cell_type": "code",
      "metadata": {
        "id": "lqxPakZSWxVb"
      },
      "source": [
        "! pip install -q kaggle"
      ],
      "execution_count": null,
      "outputs": []
    },
    {
      "cell_type": "code",
      "metadata": {
        "id": "OBz3k6gUXNKE"
      },
      "source": [
        "from google.colab import files"
      ],
      "execution_count": null,
      "outputs": []
    },
    {
      "cell_type": "code",
      "metadata": {
        "colab": {
          "resources": {
            "http://localhost:8080/nbextensions/google.colab/files.js": {
              "data": "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",
              "ok": true,
              "headers": [
                [
                  "content-type",
                  "application/javascript"
                ]
              ],
              "status": 200,
              "status_text": ""
            }
          },
          "base_uri": "https://localhost:8080/",
          "height": 95
        },
        "id": "TPELdnDHX0qj",
        "outputId": "b5f97cc0-1fda-47a0-bdc8-01d8c5db4a96"
      },
      "source": [
        "files.upload()"
      ],
      "execution_count": null,
      "outputs": [
        {
          "output_type": "display_data",
          "data": {
            "text/html": [
              "\n",
              "     <input type=\"file\" id=\"files-5106d3d3-b0ea-4a06-b982-cc92f7be43d6\" name=\"files[]\" multiple disabled\n",
              "        style=\"border:none\" />\n",
              "     <output id=\"result-5106d3d3-b0ea-4a06-b982-cc92f7be43d6\">\n",
              "      Upload widget is only available when the cell has been executed in the\n",
              "      current browser session. Please rerun this cell to enable.\n",
              "      </output>\n",
              "      <script src=\"/nbextensions/google.colab/files.js\"></script> "
            ],
            "text/plain": [
              "<IPython.core.display.HTML object>"
            ]
          },
          "metadata": {}
        },
        {
          "output_type": "stream",
          "name": "stdout",
          "text": [
            "Saving kaggle.json to kaggle.json\n"
          ]
        },
        {
          "output_type": "execute_result",
          "data": {
            "text/plain": [
              "{'kaggle.json': b'{\"username\":\"himanshyouyadav\",\"key\":\"3486019dcdc4f8b3d247862fe172b8ee\"}'}"
            ]
          },
          "metadata": {},
          "execution_count": 4
        }
      ]
    },
    {
      "cell_type": "code",
      "metadata": {
        "id": "YhxGchMuXp7v"
      },
      "source": [
        " ! mkdir ~/.kaggle"
      ],
      "execution_count": null,
      "outputs": []
    },
    {
      "cell_type": "code",
      "metadata": {
        "id": "O5rzg_PhXu6F"
      },
      "source": [
        "! cp kaggle.json ~/.kaggle/"
      ],
      "execution_count": null,
      "outputs": []
    },
    {
      "cell_type": "code",
      "metadata": {
        "id": "oxWOzWibZFde"
      },
      "source": [
        "mkdir CWC"
      ],
      "execution_count": null,
      "outputs": []
    },
    {
      "cell_type": "code",
      "metadata": {
        "colab": {
          "base_uri": "https://localhost:8080/"
        },
        "id": "WzjrVOC7Z6yU",
        "outputId": "c1c64152-dada-4865-b65d-9b4487542d26"
      },
      "source": [
        "cd CWC"
      ],
      "execution_count": null,
      "outputs": [
        {
          "output_type": "stream",
          "name": "stdout",
          "text": [
            "/content/CWC\n"
          ]
        }
      ]
    },
    {
      "cell_type": "code",
      "metadata": {
        "colab": {
          "base_uri": "https://localhost:8080/"
        },
        "id": "K05ol0l1Z7_i",
        "outputId": "525a1483-8b56-4bac-e2af-2d05c9785b0e"
      },
      "source": [
        "! kaggle datasets download -d saivamshi/cricket-world-cup-2019-players-data"
      ],
      "execution_count": null,
      "outputs": [
        {
          "output_type": "stream",
          "name": "stdout",
          "text": [
            "Warning: Your Kaggle API key is readable by other users on this system! To fix this, you can run 'chmod 600 /root/.kaggle/kaggle.json'\n",
            "Downloading cricket-world-cup-2019-players-data.zip to /content/CWC\n",
            "  0% 0.00/395k [00:00<?, ?B/s]\n",
            "100% 395k/395k [00:00<00:00, 54.4MB/s]\n"
          ]
        }
      ]
    },
    {
      "cell_type": "code",
      "metadata": {
        "colab": {
          "base_uri": "https://localhost:8080/"
        },
        "id": "5b_OC3wPaBzo",
        "outputId": "0af48a9e-6975-47a3-a680-c70aa59d2734"
      },
      "source": [
        "! unzip cricket-world-cup-2019-players-data.zip"
      ],
      "execution_count": null,
      "outputs": [
        {
          "output_type": "stream",
          "name": "stdout",
          "text": [
            "Archive:  cricket-world-cup-2019-players-data.zip\n",
            "  inflating: Batsman_Data.csv        \n",
            "  inflating: Bowler_data.csv         \n",
            "  inflating: Ground_Averages.csv     \n",
            "  inflating: ODI_Match_Results.csv   \n",
            "  inflating: ODI_Match_Totals.csv    \n",
            "  inflating: WC_players.csv          \n"
          ]
        }
      ]
    },
    {
      "cell_type": "code",
      "metadata": {
        "id": "to8uc1vYcX_b"
      },
      "source": [
        "bat_data = pd.read_csv(\"Batsman_Data.csv\") #Reading CSV file"
      ],
      "execution_count": null,
      "outputs": []
    },
    {
      "cell_type": "code",
      "metadata": {
        "colab": {
          "base_uri": "https://localhost:8080/",
          "height": 423
        },
        "id": "J65e1SDDaRew",
        "outputId": "ce8ff9a9-0d79-42ce-d1e2-8e921da5bb03"
      },
      "source": [
        "bat_data.head(8155)"
      ],
      "execution_count": null,
      "outputs": [
        {
          "output_type": "execute_result",
          "data": {
            "text/html": [
              "<div>\n",
              "<style scoped>\n",
              "    .dataframe tbody tr th:only-of-type {\n",
              "        vertical-align: middle;\n",
              "    }\n",
              "\n",
              "    .dataframe tbody tr th {\n",
              "        vertical-align: top;\n",
              "    }\n",
              "\n",
              "    .dataframe thead th {\n",
              "        text-align: right;\n",
              "    }\n",
              "</style>\n",
              "<table border=\"1\" class=\"dataframe\">\n",
              "  <thead>\n",
              "    <tr style=\"text-align: right;\">\n",
              "      <th></th>\n",
              "      <th>Unnamed: 0</th>\n",
              "      <th>Bat1</th>\n",
              "      <th>Runs</th>\n",
              "      <th>BF</th>\n",
              "      <th>SR</th>\n",
              "      <th>4s</th>\n",
              "      <th>6s</th>\n",
              "      <th>Opposition</th>\n",
              "      <th>Ground</th>\n",
              "      <th>Start Date</th>\n",
              "      <th>Match_ID</th>\n",
              "      <th>Batsman</th>\n",
              "      <th>Player_ID</th>\n",
              "    </tr>\n",
              "  </thead>\n",
              "  <tbody>\n",
              "    <tr>\n",
              "      <th>0</th>\n",
              "      <td>1</td>\n",
              "      <td>DNB</td>\n",
              "      <td>-</td>\n",
              "      <td>-</td>\n",
              "      <td>-</td>\n",
              "      <td>-</td>\n",
              "      <td>-</td>\n",
              "      <td>v India</td>\n",
              "      <td>Nagpur</td>\n",
              "      <td>18 Dec 2009</td>\n",
              "      <td>ODI # 2933</td>\n",
              "      <td>Oshane Thomas</td>\n",
              "      <td>49619</td>\n",
              "    </tr>\n",
              "    <tr>\n",
              "      <th>1</th>\n",
              "      <td>2</td>\n",
              "      <td>DNB</td>\n",
              "      <td>-</td>\n",
              "      <td>-</td>\n",
              "      <td>-</td>\n",
              "      <td>-</td>\n",
              "      <td>-</td>\n",
              "      <td>v India</td>\n",
              "      <td>Kolkata</td>\n",
              "      <td>24 Dec 2009</td>\n",
              "      <td>ODI # 2935</td>\n",
              "      <td>Oshane Thomas</td>\n",
              "      <td>49619</td>\n",
              "    </tr>\n",
              "    <tr>\n",
              "      <th>2</th>\n",
              "      <td>3</td>\n",
              "      <td>DNB</td>\n",
              "      <td>-</td>\n",
              "      <td>-</td>\n",
              "      <td>-</td>\n",
              "      <td>-</td>\n",
              "      <td>-</td>\n",
              "      <td>v India</td>\n",
              "      <td>Delhi</td>\n",
              "      <td>27 Dec 2009</td>\n",
              "      <td>ODI # 2936</td>\n",
              "      <td>Oshane Thomas</td>\n",
              "      <td>49619</td>\n",
              "    </tr>\n",
              "    <tr>\n",
              "      <th>3</th>\n",
              "      <td>4</td>\n",
              "      <td>DNB</td>\n",
              "      <td>-</td>\n",
              "      <td>-</td>\n",
              "      <td>-</td>\n",
              "      <td>-</td>\n",
              "      <td>-</td>\n",
              "      <td>v Bangladesh</td>\n",
              "      <td>Dhaka</td>\n",
              "      <td>4 Jan 2010</td>\n",
              "      <td>ODI # 2937</td>\n",
              "      <td>Oshane Thomas</td>\n",
              "      <td>49619</td>\n",
              "    </tr>\n",
              "    <tr>\n",
              "      <th>4</th>\n",
              "      <td>5</td>\n",
              "      <td>DNB</td>\n",
              "      <td>-</td>\n",
              "      <td>-</td>\n",
              "      <td>-</td>\n",
              "      <td>-</td>\n",
              "      <td>-</td>\n",
              "      <td>v India</td>\n",
              "      <td>Dhaka</td>\n",
              "      <td>5 Jan 2010</td>\n",
              "      <td>ODI # 2938</td>\n",
              "      <td>Oshane Thomas</td>\n",
              "      <td>49619</td>\n",
              "    </tr>\n",
              "    <tr>\n",
              "      <th>...</th>\n",
              "      <td>...</td>\n",
              "      <td>...</td>\n",
              "      <td>...</td>\n",
              "      <td>...</td>\n",
              "      <td>...</td>\n",
              "      <td>...</td>\n",
              "      <td>...</td>\n",
              "      <td>...</td>\n",
              "      <td>...</td>\n",
              "      <td>...</td>\n",
              "      <td>...</td>\n",
              "      <td>...</td>\n",
              "      <td>...</td>\n",
              "    </tr>\n",
              "    <tr>\n",
              "      <th>8150</th>\n",
              "      <td>8151</td>\n",
              "      <td>17*</td>\n",
              "      <td>17</td>\n",
              "      <td>12</td>\n",
              "      <td>141.66</td>\n",
              "      <td>1</td>\n",
              "      <td>1</td>\n",
              "      <td>v Pakistan</td>\n",
              "      <td>Bristol</td>\n",
              "      <td>14 May 2019</td>\n",
              "      <td>ODI # 4135</td>\n",
              "      <td>Eoin Morgan</td>\n",
              "      <td>24598</td>\n",
              "    </tr>\n",
              "    <tr>\n",
              "      <th>8151</th>\n",
              "      <td>8152</td>\n",
              "      <td>DNB</td>\n",
              "      <td>-</td>\n",
              "      <td>-</td>\n",
              "      <td>-</td>\n",
              "      <td>-</td>\n",
              "      <td>-</td>\n",
              "      <td>v Pakistan</td>\n",
              "      <td>Leeds</td>\n",
              "      <td>19 May 2019</td>\n",
              "      <td>ODI # 4140</td>\n",
              "      <td>Eoin Morgan</td>\n",
              "      <td>24598</td>\n",
              "    </tr>\n",
              "    <tr>\n",
              "      <th>8152</th>\n",
              "      <td>8153</td>\n",
              "      <td>DNB</td>\n",
              "      <td>-</td>\n",
              "      <td>-</td>\n",
              "      <td>-</td>\n",
              "      <td>-</td>\n",
              "      <td>-</td>\n",
              "      <td>v West Indies</td>\n",
              "      <td>Dublin (Malahide)</td>\n",
              "      <td>13 May 2019</td>\n",
              "      <td>ODI # 4134</td>\n",
              "      <td>Abu Jayed</td>\n",
              "      <td>410763</td>\n",
              "    </tr>\n",
              "    <tr>\n",
              "      <th>8153</th>\n",
              "      <td>8154</td>\n",
              "      <td>DNB</td>\n",
              "      <td>-</td>\n",
              "      <td>-</td>\n",
              "      <td>-</td>\n",
              "      <td>-</td>\n",
              "      <td>-</td>\n",
              "      <td>v Ireland</td>\n",
              "      <td>Dublin</td>\n",
              "      <td>15 May 2019</td>\n",
              "      <td>ODI # 4136</td>\n",
              "      <td>Abu Jayed</td>\n",
              "      <td>410763</td>\n",
              "    </tr>\n",
              "    <tr>\n",
              "      <th>8154</th>\n",
              "      <td>8155</td>\n",
              "      <td>0*</td>\n",
              "      <td>0</td>\n",
              "      <td>0</td>\n",
              "      <td>-</td>\n",
              "      <td>0</td>\n",
              "      <td>0</td>\n",
              "      <td>v India</td>\n",
              "      <td>Dhaka</td>\n",
              "      <td>18 Jun 2015</td>\n",
              "      <td>ODI # 3658</td>\n",
              "      <td>Mustafizur Rahman</td>\n",
              "      <td>330902</td>\n",
              "    </tr>\n",
              "  </tbody>\n",
              "</table>\n",
              "<p>8155 rows × 13 columns</p>\n",
              "</div>"
            ],
            "text/plain": [
              "      Unnamed: 0 Bat1 Runs  ...    Match_ID            Batsman Player_ID\n",
              "0              1  DNB    -  ...  ODI # 2933      Oshane Thomas     49619\n",
              "1              2  DNB    -  ...  ODI # 2935      Oshane Thomas     49619\n",
              "2              3  DNB    -  ...  ODI # 2936      Oshane Thomas     49619\n",
              "3              4  DNB    -  ...  ODI # 2937      Oshane Thomas     49619\n",
              "4              5  DNB    -  ...  ODI # 2938      Oshane Thomas     49619\n",
              "...          ...  ...  ...  ...         ...                ...       ...\n",
              "8150        8151  17*   17  ...  ODI # 4135       Eoin Morgan      24598\n",
              "8151        8152  DNB    -  ...  ODI # 4140       Eoin Morgan      24598\n",
              "8152        8153  DNB    -  ...  ODI # 4134          Abu Jayed    410763\n",
              "8153        8154  DNB    -  ...  ODI # 4136          Abu Jayed    410763\n",
              "8154        8155   0*    0  ...  ODI # 3658  Mustafizur Rahman    330902\n",
              "\n",
              "[8155 rows x 13 columns]"
            ]
          },
          "metadata": {},
          "execution_count": 79
        }
      ]
    },
    {
      "cell_type": "code",
      "source": [
        "bat_data[\"SR\"].plot.hist(y=\"Frequency\",x=\"Runs\")"
      ],
      "metadata": {
        "colab": {
          "base_uri": "https://localhost:8080/",
          "height": 282
        },
        "id": "ngnUlM91j_Oz",
        "outputId": "1ca432fc-19db-4da5-a97c-4f17adc9d8c9"
      },
      "execution_count": null,
      "outputs": [
        {
          "output_type": "execute_result",
          "data": {
            "text/plain": [
              "<matplotlib.axes._subplots.AxesSubplot at 0x7ff6ea410610>"
            ]
          },
          "metadata": {},
          "execution_count": 100
        },
        {
          "output_type": "display_data",
          "data": {
            "image/png": "[encoded data removed]",
            "text/plain": [
              "<Figure size 432x288 with 1 Axes>"
            ]
          },
          "metadata": {
            "needs_background": "light"
          }
        }
      ]
    },
    {
      "cell_type": "code",
      "source": [
        "import pandas as pd\n",
        "import numpy as np\n",
        "import seaborn as sns\n",
        "\n",
        "X = bat_data.iloc[:,0:13]\n",
        "y = bat_data.iloc[:],\n",
        "\n",
        "corrmat = bat_data.corr()\n",
        "top_corr_features = corrmat.index\n",
        "plt.figure(figsize=(20,20))\n",
        "#plot heat map\n",
        "g=sns.heatmap(bat_data[top_corr_features].corr(),annot=True,cmap=\"RdYlGn\")"
      ],
      "metadata": {
        "colab": {
          "base_uri": "https://localhost:8080/",
          "height": 1000
        },
        "id": "jBHqfmhSeFt2",
        "outputId": "ba6eb989-d053-4fd6-c529-930a10a13dab"
      },
      "execution_count": null,
      "outputs": [
        {
          "output_type": "display_data",
          "data": {
            "image/png": "[encoded data removed]",
            "text/plain": [
              "<Figure size 1440x1440 with 2 Axes>"
            ]
          },
          "metadata": {
            "needs_background": "light"
          }
        }
      ]
    },
    {
      "cell_type": "markdown",
      "metadata": {
        "id": "JL26aBFoaX3l"
      },
      "source": [
        "# **APPLY IMPUTATION TECHNIQUES**\n",
        "\n",
        "---\n",
        "\n"
      ]
    },
    {
      "cell_type": "markdown",
      "source": [
        "1. MEAN"
      ],
      "metadata": {
        "id": "YN1JZBMyNbjD"
      }
    },
    {
      "cell_type": "code",
      "metadata": {
        "id": "SzkJ7B1gaie0",
        "colab": {
          "base_uri": "https://localhost:8080/"
        },
        "outputId": "69e961b0-a25f-4ce3-f338-b61c6ea6a0a3"
      },
      "source": [
        "bat_data = pd.read_csv(\"Batsman_Data.csv\") #Reading CSV file\n",
        "col  = [\"Runs\", \"BF\", \"SR\", \"4s\", \"6s\"]\n",
        "bat_data[col] = bat_data[col].replace(\"-\", \"\")\n",
        "bat_data[col] = bat_data[col].apply(pd.to_numeric)\n",
        "\n",
        "batsman = bat_data\n",
        "player_id_list = bat_data[\"Player_ID\"].unique()\n",
        "player_id_list\n",
        "for player in player_id_list:\n",
        "    player_id = bat_data[bat_data['Player_ID'] == player]\n",
        "    avgRun = float(player_id.Runs.mean())\n",
        "    avgSR = player_id.SR.mean()\n",
        "    values = {\"Runs\":avgRun,\"SR\":avgSR}\n",
        "    bat_data[bat_data['Player_ID'] == player] = bat_data[bat_data['Player_ID'] == player].fillna(value = values)\n",
        "print(bat_data)\n",
        "dataset = bat_data[['Runs','SR']].apply(np.ceil)\n",
        "dataset = dataset.dropna(subset=[\"Runs\",\"SR\"])\n",
        "tmp_data = dataset\n",
        "print(dataset)\n",
        "dataset[[\"Runs\",\"SR\"]].isna().mean()"
      ],
      "execution_count": null,
      "outputs": [
        {
          "output_type": "stream",
          "name": "stdout",
          "text": [
            "       Unnamed: 0  Bat1       Runs  ...    Match_ID         Batsman  Player_ID\n",
            "0               1   DNB   4.659091  ...  ODI # 2933   Oshane Thomas      49619\n",
            "1               2   DNB   4.659091  ...  ODI # 2935   Oshane Thomas      49619\n",
            "2               3   DNB   4.659091  ...  ODI # 2936   Oshane Thomas      49619\n",
            "3               4   DNB   4.659091  ...  ODI # 2937   Oshane Thomas      49619\n",
            "4               5   DNB   4.659091  ...  ODI # 2938   Oshane Thomas      49619\n",
            "...           ...   ...        ...  ...         ...             ...        ...\n",
            "11144       11145    46  46.000000  ...  ODI # 4100  Gulbadin Naib      352048\n",
            "11145       11146     3   3.000000  ...  ODI # 4101  Gulbadin Naib      352048\n",
            "11146       11147     1   1.000000  ...  ODI # 4108  Gulbadin Naib      352048\n",
            "11147       11148   DNB  18.340909  ...  ODI # 4131  Gulbadin Naib      352048\n",
            "11148       11149  TDNB  18.340909  ...  ODI # 4139  Gulbadin Naib      352048\n",
            "\n",
            "[11149 rows x 13 columns]\n",
            "       Runs    SR\n",
            "0       5.0  46.0\n",
            "1       5.0  46.0\n",
            "2       5.0  46.0\n",
            "3       5.0  46.0\n",
            "4       5.0  46.0\n",
            "...     ...   ...\n",
            "11144  46.0  76.0\n",
            "11145   3.0  50.0\n",
            "11146   1.0  13.0\n",
            "11147  19.0  62.0\n",
            "11148  19.0  62.0\n",
            "\n",
            "[11147 rows x 2 columns]\n"
          ]
        },
        {
          "output_type": "execute_result",
          "data": {
            "text/plain": [
              "Runs    0.0\n",
              "SR      0.0\n",
              "dtype: float64"
            ]
          },
          "metadata": {},
          "execution_count": 12
        }
      ]
    },
    {
      "cell_type": "code",
      "source": [],
      "metadata": {
        "id": "Z-3eXIWdj3lw"
      },
      "execution_count": null,
      "outputs": []
    },
    {
      "cell_type": "code",
      "source": [
        "# print(dataset.to_string())\n",
        "# dataset[[\"Runs\",\"SR\"]].isna().mean()\n",
        "dataset[dataset.isnull().any(axis=1)]"
      ],
      "metadata": {
        "colab": {
          "base_uri": "https://localhost:8080/",
          "height": 50
        },
        "id": "qGk_eNPGX3W2",
        "outputId": "0c75f76b-7fba-414d-f228-f404aef848cb"
      },
      "execution_count": null,
      "outputs": [
        {
          "output_type": "execute_result",
          "data": {
            "text/html": [
              "<div>\n",
              "<style scoped>\n",
              "    .dataframe tbody tr th:only-of-type {\n",
              "        vertical-align: middle;\n",
              "    }\n",
              "\n",
              "    .dataframe tbody tr th {\n",
              "        vertical-align: top;\n",
              "    }\n",
              "\n",
              "    .dataframe thead th {\n",
              "        text-align: right;\n",
              "    }\n",
              "</style>\n",
              "<table border=\"1\" class=\"dataframe\">\n",
              "  <thead>\n",
              "    <tr style=\"text-align: right;\">\n",
              "      <th></th>\n",
              "      <th>Runs</th>\n",
              "      <th>SR</th>\n",
              "    </tr>\n",
              "  </thead>\n",
              "  <tbody>\n",
              "  </tbody>\n",
              "</table>\n",
              "</div>"
            ],
            "text/plain": [
              "Empty DataFrame\n",
              "Columns: [Runs, SR]\n",
              "Index: []"
            ]
          },
          "metadata": {},
          "execution_count": 82
        }
      ]
    },
    {
      "cell_type": "code",
      "source": [
        "dataset[\"Runs\"].plot.hist(y=\"Frequency\",x=\"Runs\")"
      ],
      "metadata": {
        "colab": {
          "base_uri": "https://localhost:8080/",
          "height": 282
        },
        "id": "LeMjzS1ILNzZ",
        "outputId": "2869f030-6849-4e26-c5f5-0614b60f4f40"
      },
      "execution_count": null,
      "outputs": [
        {
          "output_type": "execute_result",
          "data": {
            "text/plain": [
              "<matplotlib.axes._subplots.AxesSubplot at 0x7ff6ea9409d0>"
            ]
          },
          "metadata": {},
          "execution_count": 83
        },
        {
          "output_type": "display_data",
          "data": {
            "image/png": "[encoded data removed]",
            "text/plain": [
              "<Figure size 432x288 with 1 Axes>"
            ]
          },
          "metadata": {
            "needs_background": "light"
          }
        }
      ]
    },
    {
      "cell_type": "code",
      "source": [
        "dataset[\"SR\"].plot.hist(y=\"Frequency\",x=\"Strike Rate\")"
      ],
      "metadata": {
        "colab": {
          "base_uri": "https://localhost:8080/",
          "height": 282
        },
        "id": "1qLQ4STDMWOo",
        "outputId": "0a5c4e96-49a8-4179-a8d1-140e9c50d9e6"
      },
      "execution_count": null,
      "outputs": [
        {
          "output_type": "execute_result",
          "data": {
            "text/plain": [
              "<matplotlib.axes._subplots.AxesSubplot at 0x7ff6ea804f90>"
            ]
          },
          "metadata": {},
          "execution_count": 84
        },
        {
          "output_type": "display_data",
          "data": {
            "image/png": "[encoded data removed]",
            "text/plain": [
              "<Figure size 432x288 with 1 Axes>"
            ]
          },
          "metadata": {
            "needs_background": "light"
          }
        }
      ]
    },
    {
      "cell_type": "code",
      "source": [
        "import pandas as pd\n",
        "import numpy as np\n",
        "import seaborn as sns\n",
        "\n",
        "X = dataset.iloc[:,0:2]\n",
        "y = dataset.iloc[:],\n",
        "\n",
        "corrmat = dataset.corr()\n",
        "top_corr_features = corrmat.index\n",
        "plt.figure(figsize=(20,20))\n",
        "#plot heat map\n",
        "g=sns.heatmap(dataset[top_corr_features].corr(),annot=True,cmap=\"RdYlGn\")\n"
      ],
      "metadata": {
        "colab": {
          "base_uri": "https://localhost:8080/",
          "height": 1000
        },
        "id": "m8edec_Pewjm",
        "outputId": "a92ab95c-bdc3-4da0-b018-302352e520b9"
      },
      "execution_count": null,
      "outputs": [
        {
          "output_type": "display_data",
          "data": {
            "image/png": "[encoded data removed]",
            "text/plain": [
              "<Figure size 1440x1440 with 2 Axes>"
            ]
          },
          "metadata": {
            "needs_background": "light"
          }
        }
      ]
    },
    {
      "cell_type": "markdown",
      "source": [
        "2.MEDIAN"
      ],
      "metadata": {
        "id": "NqlOrpJdNN8b"
      }
    },
    {
      "cell_type": "code",
      "source": [
        "bat_data = pd.read_csv(\"Batsman_Data.csv\") #Reading CSV file\n",
        "col  = [\"Runs\", \"BF\", \"SR\", \"4s\", \"6s\"]\n",
        "bat_data[col] = bat_data[col].replace(\"-\", \"\")\n",
        "bat_data[col] = bat_data[col].apply(pd.to_numeric)\n",
        "\n",
        "batsman = bat_data\n",
        "player_id_list = bat_data[\"Player_ID\"].unique()\n",
        "player_id_list\n",
        "for player in player_id_list:\n",
        "    player_id = bat_data[bat_data['Player_ID'] == player]\n",
        "    medRun = player_id.Runs.median()\n",
        "    medSR = player_id.SR.median()\n",
        "    values = {\"Runs\":medRun,\"SR\":medSR}\n",
        "    bat_data[bat_data['Player_ID'] == player] = bat_data[bat_data['Player_ID'] == player].fillna(value = values)\n",
        "print(bat_data)\n",
        "dataset = bat_data[X = dataset.iloc[:,0:2]\n",
        "['Runs','SR']].apply(np.ceil)\n",
        "dataset = dataset.dropna(subset=[\"Runs\",\"SR\"])\n",
        "print(dataset)"
      ],
      "metadata": {
        "colab": {
          "base_uri": "https://localhost:8080/"
        },
        "id": "iWZhNi5INLsD",
        "outputId": "904ba15d-4626-497c-a3e3-9d97df9e3e91"
      },
      "execution_count": null,
      "outputs": [
        {
          "output_type": "stream",
          "name": "stdout",
          "text": [
            "       Unnamed: 0  Bat1  Runs  ...    Match_ID         Batsman  Player_ID\n",
            "0               1   DNB   2.0  ...  ODI # 2933   Oshane Thomas      49619\n",
            "1               2   DNB   2.0  ...  ODI # 2935   Oshane Thomas      49619\n",
            "2               3   DNB   2.0  ...  ODI # 2936   Oshane Thomas      49619\n",
            "3               4   DNB   2.0  ...  ODI # 2937   Oshane Thomas      49619\n",
            "4               5   DNB   2.0  ...  ODI # 2938   Oshane Thomas      49619\n",
            "...           ...   ...   ...  ...         ...             ...        ...\n",
            "11144       11145    46  46.0  ...  ODI # 4100  Gulbadin Naib      352048\n",
            "11145       11146     3   3.0  ...  ODI # 4101  Gulbadin Naib      352048\n",
            "11146       11147     1   1.0  ...  ODI # 4108  Gulbadin Naib      352048\n",
            "11147       11148   DNB  10.0  ...  ODI # 4131  Gulbadin Naib      352048\n",
            "11148       11149  TDNB  10.0  ...  ODI # 4139  Gulbadin Naib      352048\n",
            "\n",
            "[11149 rows x 13 columns]\n",
            "       Runs    SR\n",
            "0       2.0  43.0\n",
            "1       2.0  43.0\n",
            "2       2.0  43.0\n",
            "3       2.0  43.0\n",
            "4       2.0  43.0\n",
            "...     ...   ...\n",
            "11144  46.0  76.0\n",
            "11145   3.0  50.0\n",
            "11146   1.0  13.0\n",
            "11147  10.0  56.0\n",
            "11148  10.0  56.0\n",
            "\n",
            "[11147 rows x 2 columns]\n"
          ]
        }
      ]
    },
    {
      "cell_type": "code",
      "source": [
        "import pandas as pd\n",
        "import numpy as np\n",
        "import seaborn as sns\n",
        "\n",
        "X = dataset.iloc[:,0:2]\n",
        "y = dataset.iloc[:],\n",
        "\n",
        "corrmat = dataset.corr()\n",
        "top_corr_features = corrmat.index\n",
        "plt.figure(figsize=(20,20))\n",
        "#plot heat map\n",
        "g=sns.heatmap(dataset[top_corr_features].corr(),annot=True,cmap=\"RdYlGn\")"
      ],
      "metadata": {
        "colab": {
          "base_uri": "https://localhost:8080/",
          "height": 1000
        },
        "id": "kLOhHdVpfgjn",
        "outputId": "5db7c509-bf39-4c09-dbd5-f19b316ececa"
      },
      "execution_count": null,
      "outputs": [
        {
          "output_type": "display_data",
          "data": {
            "image/png": "[encoded data removed]",
            "text/plain": [
              "<Figure size 1440x1440 with 2 Axes>"
            ]
          },
          "metadata": {
            "needs_background": "light"
          }
        }
      ]
    },
    {
      "cell_type": "code",
      "source": [
        "dataset[\"Runs\"].plot.hist(y=\"Frequency\",x=\"Runs\")"
      ],
      "metadata": {
        "colab": {
          "base_uri": "https://localhost:8080/",
          "height": 282
        },
        "id": "KwWGAMSINLtf",
        "outputId": "93b446b3-83d5-4053-a727-604df80e493c"
      },
      "execution_count": null,
      "outputs": [
        {
          "output_type": "execute_result",
          "data": {
            "text/plain": [
              "<matplotlib.axes._subplots.AxesSubplot at 0x7ff6ea64a450>"
            ]
          },
          "metadata": {},
          "execution_count": 88
        },
        {
          "output_type": "display_data",
          "data": {
            "image/png": "[encoded data removed]",
            "text/plain": [
              "<Figure size 432x288 with 1 Axes>"
            ]
          },
          "metadata": {
            "needs_background": "light"
          }
        }
      ]
    },
    {
      "cell_type": "code",
      "source": [
        "dataset[\"SR\"].plot.hist(y=\"Frequency\",x=\"Strike Rate\")"
      ],
      "metadata": {
        "colab": {
          "base_uri": "https://localhost:8080/",
          "height": 282
        },
        "id": "H2419G6GNLxP",
        "outputId": "3b184eee-6fb2-4c89-835b-4353d51a3ad5"
      },
      "execution_count": null,
      "outputs": [
        {
          "output_type": "execute_result",
          "data": {
            "text/plain": [
              "<matplotlib.axes._subplots.AxesSubplot at 0x7ff6ea5d3810>"
            ]
          },
          "metadata": {},
          "execution_count": 89
        },
        {
          "output_type": "display_data",
          "data": {
            "image/png": "[encoded data removed]",
            "text/plain": [
              "<Figure size 432x288 with 1 Axes>"
            ]
          },
          "metadata": {
            "needs_background": "light"
          }
        }
      ]
    },
    {
      "cell_type": "markdown",
      "source": [
        "3. MODE"
      ],
      "metadata": {
        "id": "lRCK-aaRPVe4"
      }
    },
    {
      "cell_type": "code",
      "source": [
        "bat_data = pd.read_csv(\"Batsman_Data.csv\") #Reading CSV file\n",
        "col  = [\"Runs\", \"BF\", \"SR\", \"4s\", \"6s\"]\n",
        "bat_data[col] = bat_data[col].replace(\"-\", \"\")\n",
        "bat_data[col] = bat_data[col].apply(pd.to_numeric)\n",
        "\n",
        "batsman = bat_data\n",
        "player_id_list = bat_data[\"Player_ID\"].unique()\n",
        "player_id_list\n",
        "for player in player_id_list:\n",
        "    player_id = bat_data[bat_data['Player_ID'] == player]\n",
        "    modeRun = player_id.Runs.mode()\n",
        "    modeSR = player_id.SR.mode()\n",
        "    values = {\"Runs\":modeRun,\"SR\":modeSR}\n",
        "    bat_data[bat_data['Player_ID'] == player] = bat_data[bat_data['Player_ID'] == player].fillna(value = values)\n",
        "print(bat_data)\n",
        "dataset = bat_data[['Runs','SR']].apply(np.ceil)\n",
        "dataset = dataset.dropna(subset=[\"Runs\",\"SR\"])\n",
        "print(dataset)"
      ],
      "metadata": {
        "id": "BM63YNMTNLye",
        "colab": {
          "base_uri": "https://localhost:8080/"
        },
        "outputId": "65343da0-ad23-4bfd-874c-f0b378f97d27"
      },
      "execution_count": null,
      "outputs": [
        {
          "output_type": "stream",
          "name": "stdout",
          "text": [
            "       Unnamed: 0  Bat1  Runs  ...    Match_ID         Batsman  Player_ID\n",
            "0               1   DNB   0.0  ...  ODI # 2933   Oshane Thomas      49619\n",
            "1               2   DNB   NaN  ...  ODI # 2935   Oshane Thomas      49619\n",
            "2               3   DNB   NaN  ...  ODI # 2936   Oshane Thomas      49619\n",
            "3               4   DNB   NaN  ...  ODI # 2937   Oshane Thomas      49619\n",
            "4               5   DNB   NaN  ...  ODI # 2938   Oshane Thomas      49619\n",
            "...           ...   ...   ...  ...         ...             ...        ...\n",
            "11144       11145    46  46.0  ...  ODI # 4100  Gulbadin Naib      352048\n",
            "11145       11146     3   3.0  ...  ODI # 4101  Gulbadin Naib      352048\n",
            "11146       11147     1   1.0  ...  ODI # 4108  Gulbadin Naib      352048\n",
            "11147       11148   DNB   NaN  ...  ODI # 4131  Gulbadin Naib      352048\n",
            "11148       11149  TDNB   NaN  ...  ODI # 4139  Gulbadin Naib      352048\n",
            "\n",
            "[11149 rows x 13 columns]\n",
            "       Runs    SR\n",
            "0       0.0   0.0\n",
            "5       0.0   0.0\n",
            "9       1.0  34.0\n",
            "10      0.0   0.0\n",
            "11      0.0   0.0\n",
            "...     ...   ...\n",
            "11142   0.0   0.0\n",
            "11143  15.0  33.0\n",
            "11144  46.0  76.0\n",
            "11145   3.0  50.0\n",
            "11146   1.0  13.0\n",
            "\n",
            "[8819 rows x 2 columns]\n"
          ]
        }
      ]
    },
    {
      "cell_type": "code",
      "source": [
        "import pandas as pd\n",
        "import numpy as np\n",
        "import seaborn as sns\n",
        "\n",
        "X = dataset.iloc[:,0:2]\n",
        "y = dataset.iloc[:],\n",
        "\n",
        "corrmat = dataset.corr()\n",
        "top_corr_features = corrmat.index\n",
        "plt.figure(figsize=(20,20))\n",
        "#plot heat map\n",
        "g=sns.heatmap(dataset[top_corr_features].corr(),annot=True,cmap=\"RdYlGn\")"
      ],
      "metadata": {
        "colab": {
          "base_uri": "https://localhost:8080/",
          "height": 1000
        },
        "id": "MCeqPYzYfkhJ",
        "outputId": "9dc5481c-60e7-4bb8-eae4-8cc2892bc7be"
      },
      "execution_count": null,
      "outputs": [
        {
          "output_type": "display_data",
          "data": {
            "image/png": "[encoded data removed]",
            "text/plain": [
              "<Figure size 1440x1440 with 2 Axes>"
            ]
          },
          "metadata": {
            "needs_background": "light"
          }
        }
      ]
    },
    {
      "cell_type": "code",
      "source": [
        "dataset[\"Runs\"].plot.hist(y=\"Frequency\",x=\"Runs\")"
      ],
      "metadata": {
        "colab": {
          "base_uri": "https://localhost:8080/",
          "height": 282
        },
        "id": "quBoXet2NL2x",
        "outputId": "7f582377-b85b-44a2-f172-df75a6c1058c"
      },
      "execution_count": null,
      "outputs": [
        {
          "output_type": "execute_result",
          "data": {
            "text/plain": [
              "<matplotlib.axes._subplots.AxesSubplot at 0x7ff6ea91d690>"
            ]
          },
          "metadata": {},
          "execution_count": 92
        },
        {
          "output_type": "display_data",
          "data": {
            "image/png": "[encoded data removed]",
            "text/plain": [
              "<Figure size 432x288 with 1 Axes>"
            ]
          },
          "metadata": {
            "needs_background": "light"
          }
        }
      ]
    },
    {
      "cell_type": "code",
      "source": [
        "dataset[\"SR\"].plot.hist(y=\"Frequency\",x=\"Strike Rate\")"
      ],
      "metadata": {
        "colab": {
          "base_uri": "https://localhost:8080/",
          "height": 282
        },
        "id": "jKpzq_BKNL5p",
        "outputId": "b3a35399-0acc-48a0-987e-d7a50027e121"
      },
      "execution_count": null,
      "outputs": [
        {
          "output_type": "execute_result",
          "data": {
            "text/plain": [
              "<matplotlib.axes._subplots.AxesSubplot at 0x7ff6eaa3fe10>"
            ]
          },
          "metadata": {},
          "execution_count": 93
        },
        {
          "output_type": "display_data",
          "data": {
            "image/png": "[encoded data removed]",
            "text/plain": [
              "<Figure size 432x288 with 1 Axes>"
            ]
          },
          "metadata": {
            "needs_background": "light"
          }
        }
      ]
    },
    {
      "cell_type": "markdown",
      "source": [
        "4. END OF DISTRIBUTION IMPUTATION"
      ],
      "metadata": {
        "id": "2qbHLYitQJKU"
      }
    },
    {
      "cell_type": "code",
      "source": [
        "\n",
        "bat_data = pd.read_csv(\"Batsman_Data.csv\") #Reading CSV file\n",
        "col  = [\"Runs\", \"BF\", \"SR\", \"4s\", \"6s\"]\n",
        "bat_data[col] = bat_data[col].replace(\"-\", \"\")\n",
        "bat_data[col] = bat_data[col].apply(pd.to_numeric)\n",
        "\n",
        "batsman = bat_data\n",
        "player_id_list = bat_data[\"Player_ID\"].unique()\n",
        "player_id_list\n",
        "for player in player_id_list:\n",
        "    player_id = bat_data[bat_data['Player_ID'] == player]\n",
        "    eodRuns = player_id.Runs.mean() + 3*player_id.Runs.std()\n",
        "    eodSR = player_id.SR.mean() + 3*player_id.SR.std()\n",
        "    values = {\"Runs\":eodRuns,\"SR\":eodSR}\n",
        "    bat_data[bat_data['Player_ID'] == player] = bat_data[bat_data['Player_ID'] == player].fillna(value = values)\n",
        "print(bat_data)\n",
        "dataset = bat_data[['Runs','SR']].apply(np.ceil)\n",
        "dataset = dataset.dropna(subset=[\"Runs\",\"SR\"])\n",
        "print(dataset)"
      ],
      "metadata": {
        "colab": {
          "base_uri": "https://localhost:8080/"
        },
        "id": "8TNJ9UzESEzX",
        "outputId": "ac95ad2d-f682-4f3d-dff4-32f65aac6818"
      },
      "execution_count": null,
      "outputs": [
        {
          "output_type": "stream",
          "name": "stdout",
          "text": [
            "       Unnamed: 0  Bat1       Runs  ...    Match_ID         Batsman  Player_ID\n",
            "0               1   DNB  24.368006  ...  ODI # 2933   Oshane Thomas      49619\n",
            "1               2   DNB  24.368006  ...  ODI # 2935   Oshane Thomas      49619\n",
            "2               3   DNB  24.368006  ...  ODI # 2936   Oshane Thomas      49619\n",
            "3               4   DNB  24.368006  ...  ODI # 2937   Oshane Thomas      49619\n",
            "4               5   DNB  24.368006  ...  ODI # 2938   Oshane Thomas      49619\n",
            "...           ...   ...        ...  ...         ...             ...        ...\n",
            "11144       11145    46  46.000000  ...  ODI # 4100  Gulbadin Naib      352048\n",
            "11145       11146     3   3.000000  ...  ODI # 4101  Gulbadin Naib      352048\n",
            "11146       11147     1   1.000000  ...  ODI # 4108  Gulbadin Naib      352048\n",
            "11147       11148   DNB  82.042791  ...  ODI # 4131  Gulbadin Naib      352048\n",
            "11148       11149  TDNB  82.042791  ...  ODI # 4139  Gulbadin Naib      352048\n",
            "\n",
            "[11149 rows x 13 columns]\n",
            "       Runs     SR\n",
            "0      25.0  169.0\n",
            "1      25.0  169.0\n",
            "2      25.0  169.0\n",
            "3      25.0  169.0\n",
            "4      25.0  169.0\n",
            "...     ...    ...\n",
            "11144  46.0   76.0\n",
            "11145   3.0   50.0\n",
            "11146   1.0   13.0\n",
            "11147  83.0  195.0\n",
            "11148  83.0  195.0\n",
            "\n",
            "[11140 rows x 2 columns]\n"
          ]
        }
      ]
    },
    {
      "cell_type": "code",
      "source": [
        "import pandas as pd\n",
        "import numpy as np\n",
        "import seaborn as sns\n",
        "\n",
        "X = dataset.iloc[:,0:2]\n",
        "y = dataset.iloc[:],\n",
        "\n",
        "corrmat = dataset.corr()\n",
        "top_corr_features = corrmat.index\n",
        "plt.figure(figsize=(20,20))\n",
        "#plot heat map\n",
        "g=sns.heatmap(dataset[top_corr_features].corr(),annot=True,cmap=\"RdYlGn\")"
      ],
      "metadata": {
        "colab": {
          "base_uri": "https://localhost:8080/",
          "height": 1000
        },
        "id": "mMu-FYXCfnE7",
        "outputId": "1160e2eb-9857-4ea4-c992-b64c7b1bd1e7"
      },
      "execution_count": null,
      "outputs": [
        {
          "output_type": "display_data",
          "data": {
            "image/png": "[encoded data removed]",
            "text/plain": [
              "<Figure size 1440x1440 with 2 Axes>"
            ]
          },
          "metadata": {
            "needs_background": "light"
          }
        }
      ]
    },
    {
      "cell_type": "code",
      "source": [
        "dataset[\"Runs\"].plot.hist(y=\"Frequency\",x=\"Runs\")"
      ],
      "metadata": {
        "colab": {
          "base_uri": "https://localhost:8080/",
          "height": 282
        },
        "id": "eVwXWrnjSFqn",
        "outputId": "019938f6-d28a-42cb-a332-2044b9109dee"
      },
      "execution_count": null,
      "outputs": [
        {
          "output_type": "execute_result",
          "data": {
            "text/plain": [
              "<matplotlib.axes._subplots.AxesSubplot at 0x7ff6eac45d50>"
            ]
          },
          "metadata": {},
          "execution_count": 96
        },
        {
          "output_type": "display_data",
          "data": {
            "image/png": "[encoded data removed]",
            "text/plain": [
              "<Figure size 432x288 with 1 Axes>"
            ]
          },
          "metadata": {
            "needs_background": "light"
          }
        }
      ]
    },
    {
      "cell_type": "code",
      "source": [
        "dataset[\"SR\"].plot.hist(y=\"Frequency\",x=\"Strike Rate\")"
      ],
      "metadata": {
        "colab": {
          "base_uri": "https://localhost:8080/",
          "height": 282
        },
        "id": "45fTj59aSFsP",
        "outputId": "94651919-3409-45ec-96fe-1bfaff167167"
      },
      "execution_count": null,
      "outputs": [
        {
          "output_type": "execute_result",
          "data": {
            "text/plain": [
              "<matplotlib.axes._subplots.AxesSubplot at 0x7ff6eab2ab50>"
            ]
          },
          "metadata": {},
          "execution_count": 97
        },
        {
          "output_type": "display_data",
          "data": {
            "image/png": "[encoded data removed]",
            "text/plain": [
              "<Figure size 432x288 with 1 Axes>"
            ]
          },
          "metadata": {
            "needs_background": "light"
          }
        }
      ]
    },
    {
      "cell_type": "code",
      "source": [],
      "metadata": {
        "id": "0nHFLzAzSFwI"
      },
      "execution_count": null,
      "outputs": []
    },
    {
      "cell_type": "markdown",
      "source": [
        "**ENCODING**\n",
        "\n",
        "\n",
        "---\n",
        "\n"
      ],
      "metadata": {
        "id": "ovsLoAK8Gf1C"
      }
    },
    {
      "cell_type": "code",
      "source": [
        "dataset = bat_data[[\"Opposition\",\"Batsman\"]]"
      ],
      "metadata": {
        "id": "t1mEUaAoGe4l"
      },
      "execution_count": null,
      "outputs": []
    },
    {
      "cell_type": "code",
      "source": [
        "dataset"
      ],
      "metadata": {
        "colab": {
          "base_uri": "https://localhost:8080/",
          "height": 424
        },
        "id": "ZMvgoCvSG6xz",
        "outputId": "e7be4f6e-d62e-4c25-9316-51ba9ba084ad"
      },
      "execution_count": null,
      "outputs": [
        {
          "output_type": "execute_result",
          "data": {
            "text/html": [
              "\n",
              "  <div id=\"df-8c331607-2a24-41f0-ba9e-2be1c8cddfb9\">\n",
              "    <div class=\"colab-df-container\">\n",
              "      <div>\n",
              "<style scoped>\n",
              "    .dataframe tbody tr th:only-of-type {\n",
              "        vertical-align: middle;\n",
              "    }\n",
              "\n",
              "    .dataframe tbody tr th {\n",
              "        vertical-align: top;\n",
              "    }\n",
              "\n",
              "    .dataframe thead th {\n",
              "        text-align: right;\n",
              "    }\n",
              "</style>\n",
              "<table border=\"1\" class=\"dataframe\">\n",
              "  <thead>\n",
              "    <tr style=\"text-align: right;\">\n",
              "      <th></th>\n",
              "      <th>Opposition</th>\n",
              "      <th>Batsman</th>\n",
              "    </tr>\n",
              "  </thead>\n",
              "  <tbody>\n",
              "    <tr>\n",
              "      <th>0</th>\n",
              "      <td>v India</td>\n",
              "      <td>Oshane Thomas</td>\n",
              "    </tr>\n",
              "    <tr>\n",
              "      <th>1</th>\n",
              "      <td>v India</td>\n",
              "      <td>Oshane Thomas</td>\n",
              "    </tr>\n",
              "    <tr>\n",
              "      <th>2</th>\n",
              "      <td>v India</td>\n",
              "      <td>Oshane Thomas</td>\n",
              "    </tr>\n",
              "    <tr>\n",
              "      <th>3</th>\n",
              "      <td>v Bangladesh</td>\n",
              "      <td>Oshane Thomas</td>\n",
              "    </tr>\n",
              "    <tr>\n",
              "      <th>4</th>\n",
              "      <td>v India</td>\n",
              "      <td>Oshane Thomas</td>\n",
              "    </tr>\n",
              "    <tr>\n",
              "      <th>...</th>\n",
              "      <td>...</td>\n",
              "      <td>...</td>\n",
              "    </tr>\n",
              "    <tr>\n",
              "      <th>11144</th>\n",
              "      <td>v Ireland</td>\n",
              "      <td>Gulbadin Naib</td>\n",
              "    </tr>\n",
              "    <tr>\n",
              "      <th>11145</th>\n",
              "      <td>v Ireland</td>\n",
              "      <td>Gulbadin Naib</td>\n",
              "    </tr>\n",
              "    <tr>\n",
              "      <th>11146</th>\n",
              "      <td>v Ireland</td>\n",
              "      <td>Gulbadin Naib</td>\n",
              "    </tr>\n",
              "    <tr>\n",
              "      <th>11147</th>\n",
              "      <td>v Scotland</td>\n",
              "      <td>Gulbadin Naib</td>\n",
              "    </tr>\n",
              "    <tr>\n",
              "      <th>11148</th>\n",
              "      <td>v Ireland</td>\n",
              "      <td>Gulbadin Naib</td>\n",
              "    </tr>\n",
              "  </tbody>\n",
              "</table>\n",
              "<p>11149 rows × 2 columns</p>\n",
              "</div>\n",
              "      <button class=\"colab-df-convert\" onclick=\"convertToInteractive('df-8c331607-2a24-41f0-ba9e-2be1c8cddfb9')\"\n",
              "              title=\"Convert this dataframe to an interactive table.\"\n",
              "              style=\"display:none;\">\n",
              "        \n",
              "  <svg xmlns=\"http://www.w3.org/2000/svg\" height=\"24px\"viewBox=\"0 0 24 24\"\n",
              "       width=\"24px\">\n",
              "    <path d=\"M0 0h24v24H0V0z\" fill=\"none\"/>\n",
              "    <path d=\"M18.56 5.44l.94 2.06.94-2.06 2.06-.94-2.06-.94-.94-2.06-.94 2.06-2.06.94zm-11 1L8.5 8.5l.94-2.06 2.06-.94-2.06-.94L8.5 2.5l-.94 2.06-2.06.94zm10 10l.94 2.06.94-2.06 2.06-.94-2.06-.94-.94-2.06-.94 2.06-2.06.94z\"/><path d=\"M17.41 7.96l-1.37-1.37c-.4-.4-.92-.59-1.43-.59-.52 0-1.04.2-1.43.59L10.3 9.45l-7.72 7.72c-.78.78-.78 2.05 0 2.83L4 21.41c.39.39.9.59 1.41.59.51 0 1.02-.2 1.41-.59l7.78-7.78 2.81-2.81c.8-.78.8-2.07 0-2.86zM5.41 20L4 18.59l7.72-7.72 1.47 1.35L5.41 20z\"/>\n",
              "  </svg>\n",
              "      </button>\n",
              "      \n",
              "  <style>\n",
              "    .colab-df-container {\n",
              "      display:flex;\n",
              "      flex-wrap:wrap;\n",
              "      gap: 12px;\n",
              "    }\n",
              "\n",
              "    .colab-df-convert {\n",
              "      background-color: #E8F0FE;\n",
              "      border: none;\n",
              "      border-radius: 50%;\n",
              "      cursor: pointer;\n",
              "      display: none;\n",
              "      fill: #1967D2;\n",
              "      height: 32px;\n",
              "      padding: 0 0 0 0;\n",
              "      width: 32px;\n",
              "    }\n",
              "\n",
              "    .colab-df-convert:hover {\n",
              "      background-color: #E2EBFA;\n",
              "      box-shadow: 0px 1px 2px rgba(60, 64, 67, 0.3), 0px 1px 3px 1px rgba(60, 64, 67, 0.15);\n",
              "      fill: #174EA6;\n",
              "    }\n",
              "\n",
              "    [theme=dark] .colab-df-convert {\n",
              "      background-color: #3B4455;\n",
              "      fill: #D2E3FC;\n",
              "    }\n",
              "\n",
              "    [theme=dark] .colab-df-convert:hover {\n",
              "      background-color: #434B5C;\n",
              "      box-shadow: 0px 1px 3px 1px rgba(0, 0, 0, 0.15);\n",
              "      filter: drop-shadow(0px 1px 2px rgba(0, 0, 0, 0.3));\n",
              "      fill: #FFFFFF;\n",
              "    }\n",
              "  </style>\n",
              "\n",
              "      <script>\n",
              "        const buttonEl =\n",
              "          document.querySelector('#df-8c331607-2a24-41f0-ba9e-2be1c8cddfb9 button.colab-df-convert');\n",
              "        buttonEl.style.display =\n",
              "          google.colab.kernel.accessAllowed ? 'block' : 'none';\n",
              "\n",
              "        async function convertToInteractive(key) {\n",
              "          const element = document.querySelector('#df-8c331607-2a24-41f0-ba9e-2be1c8cddfb9');\n",
              "          const dataTable =\n",
              "            await google.colab.kernel.invokeFunction('convertToInteractive',\n",
              "                                                     [key], {});\n",
              "          if (!dataTable) return;\n",
              "\n",
              "          const docLinkHtml = 'Like what you see? Visit the ' +\n",
              "            '<a target=\"_blank\" href=https://colab.research.google.com/notebooks/data_table.ipynb>data table notebook</a>'\n",
              "            + ' to learn more about interactive tables.';\n",
              "          element.innerHTML = '';\n",
              "          dataTable['output_type'] = 'display_data';\n",
              "          await google.colab.output.renderOutput(dataTable, element);\n",
              "          const docLink = document.createElement('div');\n",
              "          docLink.innerHTML = docLinkHtml;\n",
              "          element.appendChild(docLink);\n",
              "        }\n",
              "      </script>\n",
              "    </div>\n",
              "  </div>\n",
              "  "
            ],
            "text/plain": [
              "         Opposition         Batsman\n",
              "0           v India   Oshane Thomas\n",
              "1           v India   Oshane Thomas\n",
              "2           v India   Oshane Thomas\n",
              "3      v Bangladesh   Oshane Thomas\n",
              "4           v India   Oshane Thomas\n",
              "...             ...             ...\n",
              "11144     v Ireland  Gulbadin Naib \n",
              "11145     v Ireland  Gulbadin Naib \n",
              "11146     v Ireland  Gulbadin Naib \n",
              "11147    v Scotland  Gulbadin Naib \n",
              "11148     v Ireland  Gulbadin Naib \n",
              "\n",
              "[11149 rows x 2 columns]"
            ]
          },
          "metadata": {},
          "execution_count": 39
        }
      ]
    },
    {
      "cell_type": "markdown",
      "source": [
        "1. One Hot Encoding"
      ],
      "metadata": {
        "id": "FYQCuSc6YFNC"
      }
    },
    {
      "cell_type": "code",
      "source": [
        "dt = dataset\n",
        "tmp = pd.get_dummies(dt['Opposition'])\n",
        "tmp"
      ],
      "metadata": {
        "colab": {
          "base_uri": "https://localhost:8080/",
          "height": 522
        },
        "id": "pR-WY83MLizC",
        "outputId": "d69c83c0-a66c-4ace-aceb-0e1ffa62e0b5"
      },
      "execution_count": null,
      "outputs": [
        {
          "output_type": "execute_result",
          "data": {
            "text/html": [
              "\n",
              "  <div id=\"df-df3429d9-0aa0-40fe-8d99-64ecdfd7642e\">\n",
              "    <div class=\"colab-df-container\">\n",
              "      <div>\n",
              "<style scoped>\n",
              "    .dataframe tbody tr th:only-of-type {\n",
              "        vertical-align: middle;\n",
              "    }\n",
              "\n",
              "    .dataframe tbody tr th {\n",
              "        vertical-align: top;\n",
              "    }\n",
              "\n",
              "    .dataframe thead th {\n",
              "        text-align: right;\n",
              "    }\n",
              "</style>\n",
              "<table border=\"1\" class=\"dataframe\">\n",
              "  <thead>\n",
              "    <tr style=\"text-align: right;\">\n",
              "      <th></th>\n",
              "      <th>v Afghanistan</th>\n",
              "      <th>v Africa XI</th>\n",
              "      <th>v Asia XI</th>\n",
              "      <th>v Australia</th>\n",
              "      <th>v Bangladesh</th>\n",
              "      <th>v Bermuda</th>\n",
              "      <th>v Canada</th>\n",
              "      <th>v England</th>\n",
              "      <th>v Hong Kong</th>\n",
              "      <th>v India</th>\n",
              "      <th>v Ireland</th>\n",
              "      <th>v Kenya</th>\n",
              "      <th>v Netherlands</th>\n",
              "      <th>v New Zealand</th>\n",
              "      <th>v P.N.G.</th>\n",
              "      <th>v Pakistan</th>\n",
              "      <th>v Scotland</th>\n",
              "      <th>v South Africa</th>\n",
              "      <th>v Sri Lanka</th>\n",
              "      <th>v U.A.E.</th>\n",
              "      <th>v West Indies</th>\n",
              "      <th>v Zimbabwe</th>\n",
              "    </tr>\n",
              "  </thead>\n",
              "  <tbody>\n",
              "    <tr>\n",
              "      <th>0</th>\n",
              "      <td>0</td>\n",
              "      <td>0</td>\n",
              "      <td>0</td>\n",
              "      <td>0</td>\n",
              "      <td>0</td>\n",
              "      <td>0</td>\n",
              "      <td>0</td>\n",
              "      <td>0</td>\n",
              "      <td>0</td>\n",
              "      <td>1</td>\n",
              "      <td>0</td>\n",
              "      <td>0</td>\n",
              "      <td>0</td>\n",
              "      <td>0</td>\n",
              "      <td>0</td>\n",
              "      <td>0</td>\n",
              "      <td>0</td>\n",
              "      <td>0</td>\n",
              "      <td>0</td>\n",
              "      <td>0</td>\n",
              "      <td>0</td>\n",
              "      <td>0</td>\n",
              "    </tr>\n",
              "    <tr>\n",
              "      <th>1</th>\n",
              "      <td>0</td>\n",
              "      <td>0</td>\n",
              "      <td>0</td>\n",
              "      <td>0</td>\n",
              "      <td>0</td>\n",
              "      <td>0</td>\n",
              "      <td>0</td>\n",
              "      <td>0</td>\n",
              "      <td>0</td>\n",
              "      <td>1</td>\n",
              "      <td>0</td>\n",
              "      <td>0</td>\n",
              "      <td>0</td>\n",
              "      <td>0</td>\n",
              "      <td>0</td>\n",
              "      <td>0</td>\n",
              "      <td>0</td>\n",
              "      <td>0</td>\n",
              "      <td>0</td>\n",
              "      <td>0</td>\n",
              "      <td>0</td>\n",
              "      <td>0</td>\n",
              "    </tr>\n",
              "    <tr>\n",
              "      <th>2</th>\n",
              "      <td>0</td>\n",
              "      <td>0</td>\n",
              "      <td>0</td>\n",
              "      <td>0</td>\n",
              "      <td>0</td>\n",
              "      <td>0</td>\n",
              "      <td>0</td>\n",
              "      <td>0</td>\n",
              "      <td>0</td>\n",
              "      <td>1</td>\n",
              "      <td>0</td>\n",
              "      <td>0</td>\n",
              "      <td>0</td>\n",
              "      <td>0</td>\n",
              "      <td>0</td>\n",
              "      <td>0</td>\n",
              "      <td>0</td>\n",
              "      <td>0</td>\n",
              "      <td>0</td>\n",
              "      <td>0</td>\n",
              "      <td>0</td>\n",
              "      <td>0</td>\n",
              "    </tr>\n",
              "    <tr>\n",
              "      <th>3</th>\n",
              "      <td>0</td>\n",
              "      <td>0</td>\n",
              "      <td>0</td>\n",
              "      <td>0</td>\n",
              "      <td>1</td>\n",
              "      <td>0</td>\n",
              "      <td>0</td>\n",
              "      <td>0</td>\n",
              "      <td>0</td>\n",
              "      <td>0</td>\n",
              "      <td>0</td>\n",
              "      <td>0</td>\n",
              "      <td>0</td>\n",
              "      <td>0</td>\n",
              "      <td>0</td>\n",
              "      <td>0</td>\n",
              "      <td>0</td>\n",
              "      <td>0</td>\n",
              "      <td>0</td>\n",
              "      <td>0</td>\n",
              "      <td>0</td>\n",
              "      <td>0</td>\n",
              "    </tr>\n",
              "    <tr>\n",
              "      <th>4</th>\n",
              "      <td>0</td>\n",
              "      <td>0</td>\n",
              "      <td>0</td>\n",
              "      <td>0</td>\n",
              "      <td>0</td>\n",
              "      <td>0</td>\n",
              "      <td>0</td>\n",
              "      <td>0</td>\n",
              "      <td>0</td>\n",
              "      <td>1</td>\n",
              "      <td>0</td>\n",
              "      <td>0</td>\n",
              "      <td>0</td>\n",
              "      <td>0</td>\n",
              "      <td>0</td>\n",
              "      <td>0</td>\n",
              "      <td>0</td>\n",
              "      <td>0</td>\n",
              "      <td>0</td>\n",
              "      <td>0</td>\n",
              "      <td>0</td>\n",
              "      <td>0</td>\n",
              "    </tr>\n",
              "    <tr>\n",
              "      <th>...</th>\n",
              "      <td>...</td>\n",
              "      <td>...</td>\n",
              "      <td>...</td>\n",
              "      <td>...</td>\n",
              "      <td>...</td>\n",
              "      <td>...</td>\n",
              "      <td>...</td>\n",
              "      <td>...</td>\n",
              "      <td>...</td>\n",
              "      <td>...</td>\n",
              "      <td>...</td>\n",
              "      <td>...</td>\n",
              "      <td>...</td>\n",
              "      <td>...</td>\n",
              "      <td>...</td>\n",
              "      <td>...</td>\n",
              "      <td>...</td>\n",
              "      <td>...</td>\n",
              "      <td>...</td>\n",
              "      <td>...</td>\n",
              "      <td>...</td>\n",
              "      <td>...</td>\n",
              "    </tr>\n",
              "    <tr>\n",
              "      <th>11144</th>\n",
              "      <td>0</td>\n",
              "      <td>0</td>\n",
              "      <td>0</td>\n",
              "      <td>0</td>\n",
              "      <td>0</td>\n",
              "      <td>0</td>\n",
              "      <td>0</td>\n",
              "      <td>0</td>\n",
              "      <td>0</td>\n",
              "      <td>0</td>\n",
              "      <td>1</td>\n",
              "      <td>0</td>\n",
              "      <td>0</td>\n",
              "      <td>0</td>\n",
              "      <td>0</td>\n",
              "      <td>0</td>\n",
              "      <td>0</td>\n",
              "      <td>0</td>\n",
              "      <td>0</td>\n",
              "      <td>0</td>\n",
              "      <td>0</td>\n",
              "      <td>0</td>\n",
              "    </tr>\n",
              "    <tr>\n",
              "      <th>11145</th>\n",
              "      <td>0</td>\n",
              "      <td>0</td>\n",
              "      <td>0</td>\n",
              "      <td>0</td>\n",
              "      <td>0</td>\n",
              "      <td>0</td>\n",
              "      <td>0</td>\n",
              "      <td>0</td>\n",
              "      <td>0</td>\n",
              "      <td>0</td>\n",
              "      <td>1</td>\n",
              "      <td>0</td>\n",
              "      <td>0</td>\n",
              "      <td>0</td>\n",
              "      <td>0</td>\n",
              "      <td>0</td>\n",
              "      <td>0</td>\n",
              "      <td>0</td>\n",
              "      <td>0</td>\n",
              "      <td>0</td>\n",
              "      <td>0</td>\n",
              "      <td>0</td>\n",
              "    </tr>\n",
              "    <tr>\n",
              "      <th>11146</th>\n",
              "      <td>0</td>\n",
              "      <td>0</td>\n",
              "      <td>0</td>\n",
              "      <td>0</td>\n",
              "      <td>0</td>\n",
              "      <td>0</td>\n",
              "      <td>0</td>\n",
              "      <td>0</td>\n",
              "      <td>0</td>\n",
              "      <td>0</td>\n",
              "      <td>1</td>\n",
              "      <td>0</td>\n",
              "      <td>0</td>\n",
              "      <td>0</td>\n",
              "      <td>0</td>\n",
              "      <td>0</td>\n",
              "      <td>0</td>\n",
              "      <td>0</td>\n",
              "      <td>0</td>\n",
              "      <td>0</td>\n",
              "      <td>0</td>\n",
              "      <td>0</td>\n",
              "    </tr>\n",
              "    <tr>\n",
              "      <th>11147</th>\n",
              "      <td>0</td>\n",
              "      <td>0</td>\n",
              "      <td>0</td>\n",
              "      <td>0</td>\n",
              "      <td>0</td>\n",
              "      <td>0</td>\n",
              "      <td>0</td>\n",
              "      <td>0</td>\n",
              "      <td>0</td>\n",
              "      <td>0</td>\n",
              "      <td>0</td>\n",
              "      <td>0</td>\n",
              "      <td>0</td>\n",
              "      <td>0</td>\n",
              "      <td>0</td>\n",
              "      <td>0</td>\n",
              "      <td>1</td>\n",
              "      <td>0</td>\n",
              "      <td>0</td>\n",
              "      <td>0</td>\n",
              "      <td>0</td>\n",
              "      <td>0</td>\n",
              "    </tr>\n",
              "    <tr>\n",
              "      <th>11148</th>\n",
              "      <td>0</td>\n",
              "      <td>0</td>\n",
              "      <td>0</td>\n",
              "      <td>0</td>\n",
              "      <td>0</td>\n",
              "      <td>0</td>\n",
              "      <td>0</td>\n",
              "      <td>0</td>\n",
              "      <td>0</td>\n",
              "      <td>0</td>\n",
              "      <td>1</td>\n",
              "      <td>0</td>\n",
              "      <td>0</td>\n",
              "      <td>0</td>\n",
              "      <td>0</td>\n",
              "      <td>0</td>\n",
              "      <td>0</td>\n",
              "      <td>0</td>\n",
              "      <td>0</td>\n",
              "      <td>0</td>\n",
              "      <td>0</td>\n",
              "      <td>0</td>\n",
              "    </tr>\n",
              "  </tbody>\n",
              "</table>\n",
              "<p>11149 rows × 22 columns</p>\n",
              "</div>\n",
              "      <button class=\"colab-df-convert\" onclick=\"convertToInteractive('df-df3429d9-0aa0-40fe-8d99-64ecdfd7642e')\"\n",
              "              title=\"Convert this dataframe to an interactive table.\"\n",
              "              style=\"display:none;\">\n",
              "        \n",
              "  <svg xmlns=\"http://www.w3.org/2000/svg\" height=\"24px\"viewBox=\"0 0 24 24\"\n",
              "       width=\"24px\">\n",
              "    <path d=\"M0 0h24v24H0V0z\" fill=\"none\"/>\n",
              "    <path d=\"M18.56 5.44l.94 2.06.94-2.06 2.06-.94-2.06-.94-.94-2.06-.94 2.06-2.06.94zm-11 1L8.5 8.5l.94-2.06 2.06-.94-2.06-.94L8.5 2.5l-.94 2.06-2.06.94zm10 10l.94 2.06.94-2.06 2.06-.94-2.06-.94-.94-2.06-.94 2.06-2.06.94z\"/><path d=\"M17.41 7.96l-1.37-1.37c-.4-.4-.92-.59-1.43-.59-.52 0-1.04.2-1.43.59L10.3 9.45l-7.72 7.72c-.78.78-.78 2.05 0 2.83L4 21.41c.39.39.9.59 1.41.59.51 0 1.02-.2 1.41-.59l7.78-7.78 2.81-2.81c.8-.78.8-2.07 0-2.86zM5.41 20L4 18.59l7.72-7.72 1.47 1.35L5.41 20z\"/>\n",
              "  </svg>\n",
              "      </button>\n",
              "      \n",
              "  <style>\n",
              "    .colab-df-container {\n",
              "      display:flex;\n",
              "      flex-wrap:wrap;\n",
              "      gap: 12px;\n",
              "    }\n",
              "\n",
              "    .colab-df-convert {\n",
              "      background-color: #E8F0FE;\n",
              "      border: none;\n",
              "      border-radius: 50%;\n",
              "      cursor: pointer;\n",
              "      display: none;\n",
              "      fill: #1967D2;\n",
              "      height: 32px;\n",
              "      padding: 0 0 0 0;\n",
              "      width: 32px;\n",
              "    }\n",
              "\n",
              "    .colab-df-convert:hover {\n",
              "      background-color: #E2EBFA;\n",
              "      box-shadow: 0px 1px 2px rgba(60, 64, 67, 0.3), 0px 1px 3px 1px rgba(60, 64, 67, 0.15);\n",
              "      fill: #174EA6;\n",
              "    }\n",
              "\n",
              "    [theme=dark] .colab-df-convert {\n",
              "      background-color: #3B4455;\n",
              "      fill: #D2E3FC;\n",
              "    }\n",
              "\n",
              "    [theme=dark] .colab-df-convert:hover {\n",
              "      background-color: #434B5C;\n",
              "      box-shadow: 0px 1px 3px 1px rgba(0, 0, 0, 0.15);\n",
              "      filter: drop-shadow(0px 1px 2px rgba(0, 0, 0, 0.3));\n",
              "      fill: #FFFFFF;\n",
              "    }\n",
              "  </style>\n",
              "\n",
              "      <script>\n",
              "        const buttonEl =\n",
              "          document.querySelector('#df-df3429d9-0aa0-40fe-8d99-64ecdfd7642e button.colab-df-convert');\n",
              "        buttonEl.style.display =\n",
              "          google.colab.kernel.accessAllowed ? 'block' : 'none';\n",
              "\n",
              "        async function convertToInteractive(key) {\n",
              "          const element = document.querySelector('#df-df3429d9-0aa0-40fe-8d99-64ecdfd7642e');\n",
              "          const dataTable =\n",
              "            await google.colab.kernel.invokeFunction('convertToInteractive',\n",
              "                                                     [key], {});\n",
              "          if (!dataTable) return;\n",
              "\n",
              "          const docLinkHtml = 'Like what you see? Visit the ' +\n",
              "            '<a target=\"_blank\" href=https://colab.research.google.com/notebooks/data_table.ipynb>data table notebook</a>'\n",
              "            + ' to learn more about interactive tables.';\n",
              "          element.innerHTML = '';\n",
              "          dataTable['output_type'] = 'display_data';\n",
              "          await google.colab.output.renderOutput(dataTable, element);\n",
              "          const docLink = document.createElement('div');\n",
              "          docLink.innerHTML = docLinkHtml;\n",
              "          element.appendChild(docLink);\n",
              "        }\n",
              "      </script>\n",
              "    </div>\n",
              "  </div>\n",
              "  "
            ],
            "text/plain": [
              "       v Afghanistan  v Africa XI  ...  v West Indies  v Zimbabwe\n",
              "0                  0            0  ...              0           0\n",
              "1                  0            0  ...              0           0\n",
              "2                  0            0  ...              0           0\n",
              "3                  0            0  ...              0           0\n",
              "4                  0            0  ...              0           0\n",
              "...              ...          ...  ...            ...         ...\n",
              "11144              0            0  ...              0           0\n",
              "11145              0            0  ...              0           0\n",
              "11146              0            0  ...              0           0\n",
              "11147              0            0  ...              0           0\n",
              "11148              0            0  ...              0           0\n",
              "\n",
              "[11149 rows x 22 columns]"
            ]
          },
          "metadata": {},
          "execution_count": 40
        }
      ]
    },
    {
      "cell_type": "code",
      "source": [
        "dt = bat_data[bat_data.Opposition == \"v India\"]\n",
        "tmp = pd.get_dummies(dt['Batsman'])\n",
        "# print(tmp.to_string())\n",
        "# tmp\n",
        "dt = dt.head(150)\n",
        "tmp = pd.get_dummies(dt['Batsman'])\n",
        "tmp"
      ],
      "metadata": {
        "colab": {
          "base_uri": "https://localhost:8080/",
          "height": 424
        },
        "id": "vDkiQlJ7ZNJl",
        "outputId": "6b250763-de49-43b8-a021-68e312c756e2"
      },
      "execution_count": null,
      "outputs": [
        {
          "output_type": "execute_result",
          "data": {
            "text/html": [
              "\n",
              "  <div id=\"df-60926743-4b0e-40ad-9691-6d6a65a4042d\">\n",
              "    <div class=\"colab-df-container\">\n",
              "      <div>\n",
              "<style scoped>\n",
              "    .dataframe tbody tr th:only-of-type {\n",
              "        vertical-align: middle;\n",
              "    }\n",
              "\n",
              "    .dataframe tbody tr th {\n",
              "        vertical-align: top;\n",
              "    }\n",
              "\n",
              "    .dataframe thead th {\n",
              "        text-align: right;\n",
              "    }\n",
              "</style>\n",
              "<table border=\"1\" class=\"dataframe\">\n",
              "  <thead>\n",
              "    <tr style=\"text-align: right;\">\n",
              "      <th></th>\n",
              "      <th>Andre Russell</th>\n",
              "      <th>Ashley Nurse</th>\n",
              "      <th>Chris Gayle</th>\n",
              "      <th>Darren Bravo</th>\n",
              "      <th>Evin Lewis</th>\n",
              "      <th>Fabian Allen</th>\n",
              "      <th>Jason Holder</th>\n",
              "      <th>Kemar Roach</th>\n",
              "      <th>Nuwan Pradeep</th>\n",
              "      <th>Oshane Thomas</th>\n",
              "      <th>Shai Hope</th>\n",
              "      <th>Shimron Hetmyer</th>\n",
              "    </tr>\n",
              "  </thead>\n",
              "  <tbody>\n",
              "    <tr>\n",
              "      <th>0</th>\n",
              "      <td>0</td>\n",
              "      <td>0</td>\n",
              "      <td>0</td>\n",
              "      <td>0</td>\n",
              "      <td>0</td>\n",
              "      <td>0</td>\n",
              "      <td>0</td>\n",
              "      <td>0</td>\n",
              "      <td>0</td>\n",
              "      <td>1</td>\n",
              "      <td>0</td>\n",
              "      <td>0</td>\n",
              "    </tr>\n",
              "    <tr>\n",
              "      <th>1</th>\n",
              "      <td>0</td>\n",
              "      <td>0</td>\n",
              "      <td>0</td>\n",
              "      <td>0</td>\n",
              "      <td>0</td>\n",
              "      <td>0</td>\n",
              "      <td>0</td>\n",
              "      <td>0</td>\n",
              "      <td>0</td>\n",
              "      <td>1</td>\n",
              "      <td>0</td>\n",
              "      <td>0</td>\n",
              "    </tr>\n",
              "    <tr>\n",
              "      <th>2</th>\n",
              "      <td>0</td>\n",
              "      <td>0</td>\n",
              "      <td>0</td>\n",
              "      <td>0</td>\n",
              "      <td>0</td>\n",
              "      <td>0</td>\n",
              "      <td>0</td>\n",
              "      <td>0</td>\n",
              "      <td>0</td>\n",
              "      <td>1</td>\n",
              "      <td>0</td>\n",
              "      <td>0</td>\n",
              "    </tr>\n",
              "    <tr>\n",
              "      <th>4</th>\n",
              "      <td>0</td>\n",
              "      <td>0</td>\n",
              "      <td>0</td>\n",
              "      <td>0</td>\n",
              "      <td>0</td>\n",
              "      <td>0</td>\n",
              "      <td>0</td>\n",
              "      <td>0</td>\n",
              "      <td>0</td>\n",
              "      <td>1</td>\n",
              "      <td>0</td>\n",
              "      <td>0</td>\n",
              "    </tr>\n",
              "    <tr>\n",
              "      <th>5</th>\n",
              "      <td>0</td>\n",
              "      <td>0</td>\n",
              "      <td>0</td>\n",
              "      <td>0</td>\n",
              "      <td>0</td>\n",
              "      <td>0</td>\n",
              "      <td>0</td>\n",
              "      <td>0</td>\n",
              "      <td>0</td>\n",
              "      <td>1</td>\n",
              "      <td>0</td>\n",
              "      <td>0</td>\n",
              "    </tr>\n",
              "    <tr>\n",
              "      <th>...</th>\n",
              "      <td>...</td>\n",
              "      <td>...</td>\n",
              "      <td>...</td>\n",
              "      <td>...</td>\n",
              "      <td>...</td>\n",
              "      <td>...</td>\n",
              "      <td>...</td>\n",
              "      <td>...</td>\n",
              "      <td>...</td>\n",
              "      <td>...</td>\n",
              "      <td>...</td>\n",
              "      <td>...</td>\n",
              "    </tr>\n",
              "    <tr>\n",
              "      <th>946</th>\n",
              "      <td>0</td>\n",
              "      <td>0</td>\n",
              "      <td>0</td>\n",
              "      <td>0</td>\n",
              "      <td>0</td>\n",
              "      <td>0</td>\n",
              "      <td>1</td>\n",
              "      <td>0</td>\n",
              "      <td>0</td>\n",
              "      <td>0</td>\n",
              "      <td>0</td>\n",
              "      <td>0</td>\n",
              "    </tr>\n",
              "    <tr>\n",
              "      <th>947</th>\n",
              "      <td>0</td>\n",
              "      <td>0</td>\n",
              "      <td>0</td>\n",
              "      <td>0</td>\n",
              "      <td>0</td>\n",
              "      <td>0</td>\n",
              "      <td>1</td>\n",
              "      <td>0</td>\n",
              "      <td>0</td>\n",
              "      <td>0</td>\n",
              "      <td>0</td>\n",
              "      <td>0</td>\n",
              "    </tr>\n",
              "    <tr>\n",
              "      <th>948</th>\n",
              "      <td>0</td>\n",
              "      <td>0</td>\n",
              "      <td>0</td>\n",
              "      <td>0</td>\n",
              "      <td>0</td>\n",
              "      <td>0</td>\n",
              "      <td>1</td>\n",
              "      <td>0</td>\n",
              "      <td>0</td>\n",
              "      <td>0</td>\n",
              "      <td>0</td>\n",
              "      <td>0</td>\n",
              "    </tr>\n",
              "    <tr>\n",
              "      <th>959</th>\n",
              "      <td>0</td>\n",
              "      <td>0</td>\n",
              "      <td>0</td>\n",
              "      <td>0</td>\n",
              "      <td>0</td>\n",
              "      <td>0</td>\n",
              "      <td>0</td>\n",
              "      <td>0</td>\n",
              "      <td>1</td>\n",
              "      <td>0</td>\n",
              "      <td>0</td>\n",
              "      <td>0</td>\n",
              "    </tr>\n",
              "    <tr>\n",
              "      <th>960</th>\n",
              "      <td>0</td>\n",
              "      <td>0</td>\n",
              "      <td>0</td>\n",
              "      <td>0</td>\n",
              "      <td>0</td>\n",
              "      <td>0</td>\n",
              "      <td>0</td>\n",
              "      <td>0</td>\n",
              "      <td>1</td>\n",
              "      <td>0</td>\n",
              "      <td>0</td>\n",
              "      <td>0</td>\n",
              "    </tr>\n",
              "  </tbody>\n",
              "</table>\n",
              "<p>150 rows × 12 columns</p>\n",
              "</div>\n",
              "      <button class=\"colab-df-convert\" onclick=\"convertToInteractive('df-60926743-4b0e-40ad-9691-6d6a65a4042d')\"\n",
              "              title=\"Convert this dataframe to an interactive table.\"\n",
              "              style=\"display:none;\">\n",
              "        \n",
              "  <svg xmlns=\"http://www.w3.org/2000/svg\" height=\"24px\"viewBox=\"0 0 24 24\"\n",
              "       width=\"24px\">\n",
              "    <path d=\"M0 0h24v24H0V0z\" fill=\"none\"/>\n",
              "    <path d=\"M18.56 5.44l.94 2.06.94-2.06 2.06-.94-2.06-.94-.94-2.06-.94 2.06-2.06.94zm-11 1L8.5 8.5l.94-2.06 2.06-.94-2.06-.94L8.5 2.5l-.94 2.06-2.06.94zm10 10l.94 2.06.94-2.06 2.06-.94-2.06-.94-.94-2.06-.94 2.06-2.06.94z\"/><path d=\"M17.41 7.96l-1.37-1.37c-.4-.4-.92-.59-1.43-.59-.52 0-1.04.2-1.43.59L10.3 9.45l-7.72 7.72c-.78.78-.78 2.05 0 2.83L4 21.41c.39.39.9.59 1.41.59.51 0 1.02-.2 1.41-.59l7.78-7.78 2.81-2.81c.8-.78.8-2.07 0-2.86zM5.41 20L4 18.59l7.72-7.72 1.47 1.35L5.41 20z\"/>\n",
              "  </svg>\n",
              "      </button>\n",
              "      \n",
              "  <style>\n",
              "    .colab-df-container {\n",
              "      display:flex;\n",
              "      flex-wrap:wrap;\n",
              "      gap: 12px;\n",
              "    }\n",
              "\n",
              "    .colab-df-convert {\n",
              "      background-color: #E8F0FE;\n",
              "      border: none;\n",
              "      border-radius: 50%;\n",
              "      cursor: pointer;\n",
              "      display: none;\n",
              "      fill: #1967D2;\n",
              "      height: 32px;\n",
              "      padding: 0 0 0 0;\n",
              "      width: 32px;\n",
              "    }\n",
              "\n",
              "    .colab-df-convert:hover {\n",
              "      background-color: #E2EBFA;\n",
              "      box-shadow: 0px 1px 2px rgba(60, 64, 67, 0.3), 0px 1px 3px 1px rgba(60, 64, 67, 0.15);\n",
              "      fill: #174EA6;\n",
              "    }\n",
              "\n",
              "    [theme=dark] .colab-df-convert {\n",
              "      background-color: #3B4455;\n",
              "      fill: #D2E3FC;\n",
              "    }\n",
              "\n",
              "    [theme=dark] .colab-df-convert:hover {\n",
              "      background-color: #434B5C;\n",
              "      box-shadow: 0px 1px 3px 1px rgba(0, 0, 0, 0.15);\n",
              "      filter: drop-shadow(0px 1px 2px rgba(0, 0, 0, 0.3));\n",
              "      fill: #FFFFFF;\n",
              "    }\n",
              "  </style>\n",
              "\n",
              "      <script>\n",
              "        const buttonEl =\n",
              "          document.querySelector('#df-60926743-4b0e-40ad-9691-6d6a65a4042d button.colab-df-convert');\n",
              "        buttonEl.style.display =\n",
              "          google.colab.kernel.accessAllowed ? 'block' : 'none';\n",
              "\n",
              "        async function convertToInteractive(key) {\n",
              "          const element = document.querySelector('#df-60926743-4b0e-40ad-9691-6d6a65a4042d');\n",
              "          const dataTable =\n",
              "            await google.colab.kernel.invokeFunction('convertToInteractive',\n",
              "                                                     [key], {});\n",
              "          if (!dataTable) return;\n",
              "\n",
              "          const docLinkHtml = 'Like what you see? Visit the ' +\n",
              "            '<a target=\"_blank\" href=https://colab.research.google.com/notebooks/data_table.ipynb>data table notebook</a>'\n",
              "            + ' to learn more about interactive tables.';\n",
              "          element.innerHTML = '';\n",
              "          dataTable['output_type'] = 'display_data';\n",
              "          await google.colab.output.renderOutput(dataTable, element);\n",
              "          const docLink = document.createElement('div');\n",
              "          docLink.innerHTML = docLinkHtml;\n",
              "          element.appendChild(docLink);\n",
              "        }\n",
              "      </script>\n",
              "    </div>\n",
              "  </div>\n",
              "  "
            ],
            "text/plain": [
              "     Andre Russell  Ashley Nurse  ...  Shai Hope  Shimron Hetmyer\n",
              "0                0             0  ...          0                0\n",
              "1                0             0  ...          0                0\n",
              "2                0             0  ...          0                0\n",
              "4                0             0  ...          0                0\n",
              "5                0             0  ...          0                0\n",
              "..             ...           ...  ...        ...              ...\n",
              "946              0             0  ...          0                0\n",
              "947              0             0  ...          0                0\n",
              "948              0             0  ...          0                0\n",
              "959              0             0  ...          0                0\n",
              "960              0             0  ...          0                0\n",
              "\n",
              "[150 rows x 12 columns]"
            ]
          },
          "metadata": {},
          "execution_count": 35
        }
      ]
    },
    {
      "cell_type": "markdown",
      "source": [
        "2. Label Encoding"
      ],
      "metadata": {
        "id": "EWWEj-u8ZlsX"
      }
    },
    {
      "cell_type": "code",
      "source": [
        "\n",
        "from sklearn.preprocessing import LabelEncoder\n",
        "le = LabelEncoder()\n",
        "dt = dataset\n",
        "le.fit(dt[\"Opposition\"])\n",
        "dt"
      ],
      "metadata": {
        "colab": {
          "base_uri": "https://localhost:8080/",
          "height": 424
        },
        "id": "Gs7AXeQgZbDU",
        "outputId": "c8c43bf3-be84-4eed-95f5-3b9293acb74a"
      },
      "execution_count": null,
      "outputs": [
        {
          "output_type": "execute_result",
          "data": {
            "text/html": [
              "\n",
              "  <div id=\"df-37516a57-a611-4385-925a-1f95eb830c71\">\n",
              "    <div class=\"colab-df-container\">\n",
              "      <div>\n",
              "<style scoped>\n",
              "    .dataframe tbody tr th:only-of-type {\n",
              "        vertical-align: middle;\n",
              "    }\n",
              "\n",
              "    .dataframe tbody tr th {\n",
              "        vertical-align: top;\n",
              "    }\n",
              "\n",
              "    .dataframe thead th {\n",
              "        text-align: right;\n",
              "    }\n",
              "</style>\n",
              "<table border=\"1\" class=\"dataframe\">\n",
              "  <thead>\n",
              "    <tr style=\"text-align: right;\">\n",
              "      <th></th>\n",
              "      <th>Opposition</th>\n",
              "      <th>Batsman</th>\n",
              "    </tr>\n",
              "  </thead>\n",
              "  <tbody>\n",
              "    <tr>\n",
              "      <th>0</th>\n",
              "      <td>v India</td>\n",
              "      <td>Oshane Thomas</td>\n",
              "    </tr>\n",
              "    <tr>\n",
              "      <th>1</th>\n",
              "      <td>v India</td>\n",
              "      <td>Oshane Thomas</td>\n",
              "    </tr>\n",
              "    <tr>\n",
              "      <th>2</th>\n",
              "      <td>v India</td>\n",
              "      <td>Oshane Thomas</td>\n",
              "    </tr>\n",
              "    <tr>\n",
              "      <th>3</th>\n",
              "      <td>v Bangladesh</td>\n",
              "      <td>Oshane Thomas</td>\n",
              "    </tr>\n",
              "    <tr>\n",
              "      <th>4</th>\n",
              "      <td>v India</td>\n",
              "      <td>Oshane Thomas</td>\n",
              "    </tr>\n",
              "    <tr>\n",
              "      <th>...</th>\n",
              "      <td>...</td>\n",
              "      <td>...</td>\n",
              "    </tr>\n",
              "    <tr>\n",
              "      <th>11144</th>\n",
              "      <td>v Ireland</td>\n",
              "      <td>Gulbadin Naib</td>\n",
              "    </tr>\n",
              "    <tr>\n",
              "      <th>11145</th>\n",
              "      <td>v Ireland</td>\n",
              "      <td>Gulbadin Naib</td>\n",
              "    </tr>\n",
              "    <tr>\n",
              "      <th>11146</th>\n",
              "      <td>v Ireland</td>\n",
              "      <td>Gulbadin Naib</td>\n",
              "    </tr>\n",
              "    <tr>\n",
              "      <th>11147</th>\n",
              "      <td>v Scotland</td>\n",
              "      <td>Gulbadin Naib</td>\n",
              "    </tr>\n",
              "    <tr>\n",
              "      <th>11148</th>\n",
              "      <td>v Ireland</td>\n",
              "      <td>Gulbadin Naib</td>\n",
              "    </tr>\n",
              "  </tbody>\n",
              "</table>\n",
              "<p>11149 rows × 2 columns</p>\n",
              "</div>\n",
              "      <button class=\"colab-df-convert\" onclick=\"convertToInteractive('df-37516a57-a611-4385-925a-1f95eb830c71')\"\n",
              "              title=\"Convert this dataframe to an interactive table.\"\n",
              "              style=\"display:none;\">\n",
              "        \n",
              "  <svg xmlns=\"http://www.w3.org/2000/svg\" height=\"24px\"viewBox=\"0 0 24 24\"\n",
              "       width=\"24px\">\n",
              "    <path d=\"M0 0h24v24H0V0z\" fill=\"none\"/>\n",
              "    <path d=\"M18.56 5.44l.94 2.06.94-2.06 2.06-.94-2.06-.94-.94-2.06-.94 2.06-2.06.94zm-11 1L8.5 8.5l.94-2.06 2.06-.94-2.06-.94L8.5 2.5l-.94 2.06-2.06.94zm10 10l.94 2.06.94-2.06 2.06-.94-2.06-.94-.94-2.06-.94 2.06-2.06.94z\"/><path d=\"M17.41 7.96l-1.37-1.37c-.4-.4-.92-.59-1.43-.59-.52 0-1.04.2-1.43.59L10.3 9.45l-7.72 7.72c-.78.78-.78 2.05 0 2.83L4 21.41c.39.39.9.59 1.41.59.51 0 1.02-.2 1.41-.59l7.78-7.78 2.81-2.81c.8-.78.8-2.07 0-2.86zM5.41 20L4 18.59l7.72-7.72 1.47 1.35L5.41 20z\"/>\n",
              "  </svg>\n",
              "      </button>\n",
              "      \n",
              "  <style>\n",
              "    .colab-df-container {\n",
              "      display:flex;\n",
              "      flex-wrap:wrap;\n",
              "      gap: 12px;\n",
              "    }\n",
              "\n",
              "    .colab-df-convert {\n",
              "      background-color: #E8F0FE;\n",
              "      border: none;\n",
              "      border-radius: 50%;\n",
              "      cursor: pointer;\n",
              "      display: none;\n",
              "      fill: #1967D2;\n",
              "      height: 32px;\n",
              "      padding: 0 0 0 0;\n",
              "      width: 32px;\n",
              "    }\n",
              "\n",
              "    .colab-df-convert:hover {\n",
              "      background-color: #E2EBFA;\n",
              "      box-shadow: 0px 1px 2px rgba(60, 64, 67, 0.3), 0px 1px 3px 1px rgba(60, 64, 67, 0.15);\n",
              "      fill: #174EA6;\n",
              "    }\n",
              "\n",
              "    [theme=dark] .colab-df-convert {\n",
              "      background-color: #3B4455;\n",
              "      fill: #D2E3FC;\n",
              "    }\n",
              "\n",
              "    [theme=dark] .colab-df-convert:hover {\n",
              "      background-color: #434B5C;\n",
              "      box-shadow: 0px 1px 3px 1px rgba(0, 0, 0, 0.15);\n",
              "      filter: drop-shadow(0px 1px 2px rgba(0, 0, 0, 0.3));\n",
              "      fill: #FFFFFF;\n",
              "    }\n",
              "  </style>\n",
              "\n",
              "      <script>\n",
              "        const buttonEl =\n",
              "          document.querySelector('#df-37516a57-a611-4385-925a-1f95eb830c71 button.colab-df-convert');\n",
              "        buttonEl.style.display =\n",
              "          google.colab.kernel.accessAllowed ? 'block' : 'none';\n",
              "\n",
              "        async function convertToInteractive(key) {\n",
              "          const element = document.querySelector('#df-37516a57-a611-4385-925a-1f95eb830c71');\n",
              "          const dataTable =\n",
              "            await google.colab.kernel.invokeFunction('convertToInteractive',\n",
              "                                                     [key], {});\n",
              "          if (!dataTable) return;\n",
              "\n",
              "          const docLinkHtml = 'Like what you see? Visit the ' +\n",
              "            '<a target=\"_blank\" href=https://colab.research.google.com/notebooks/data_table.ipynb>data table notebook</a>'\n",
              "            + ' to learn more about interactive tables.';\n",
              "          element.innerHTML = '';\n",
              "          dataTable['output_type'] = 'display_data';\n",
              "          await google.colab.output.renderOutput(dataTable, element);\n",
              "          const docLink = document.createElement('div');\n",
              "          docLink.innerHTML = docLinkHtml;\n",
              "          element.appendChild(docLink);\n",
              "        }\n",
              "      </script>\n",
              "    </div>\n",
              "  </div>\n",
              "  "
            ],
            "text/plain": [
              "         Opposition         Batsman\n",
              "0           v India   Oshane Thomas\n",
              "1           v India   Oshane Thomas\n",
              "2           v India   Oshane Thomas\n",
              "3      v Bangladesh   Oshane Thomas\n",
              "4           v India   Oshane Thomas\n",
              "...             ...             ...\n",
              "11144     v Ireland  Gulbadin Naib \n",
              "11145     v Ireland  Gulbadin Naib \n",
              "11146     v Ireland  Gulbadin Naib \n",
              "11147    v Scotland  Gulbadin Naib \n",
              "11148     v Ireland  Gulbadin Naib \n",
              "\n",
              "[11149 rows x 2 columns]"
            ]
          },
          "metadata": {},
          "execution_count": 42
        }
      ]
    },
    {
      "cell_type": "code",
      "source": [
        "dt[\"le_Opp\"] = le.transform(dt[\"Opposition\"])\n",
        "dt"
      ],
      "metadata": {
        "colab": {
          "base_uri": "https://localhost:8080/",
          "height": 528
        },
        "id": "DG-NF1oAbW2s",
        "outputId": "b7b47a10-b18c-404b-f267-2e05e6a1843d"
      },
      "execution_count": null,
      "outputs": [
        {
          "output_type": "stream",
          "name": "stderr",
          "text": [
            "/usr/local/lib/python3.7/dist-packages/ipykernel_launcher.py:1: SettingWithCopyWarning: \n",
            "A value is trying to be set on a copy of a slice from a DataFrame.\n",
            "Try using .loc[row_indexer,col_indexer] = value instead\n",
            "\n",
            "See the caveats in the documentation: https://pandas.pydata.org/pandas-docs/stable/user_guide/indexing.html#returning-a-view-versus-a-copy\n",
            "  \"\"\"Entry point for launching an IPython kernel.\n"
          ]
        },
        {
          "output_type": "execute_result",
          "data": {
            "text/html": [
              "<div>\n",
              "<style scoped>\n",
              "    .dataframe tbody tr th:only-of-type {\n",
              "        vertical-align: middle;\n",
              "    }\n",
              "\n",
              "    .dataframe tbody tr th {\n",
              "        vertical-align: top;\n",
              "    }\n",
              "\n",
              "    .dataframe thead th {\n",
              "        text-align: right;\n",
              "    }\n",
              "</style>\n",
              "<table border=\"1\" class=\"dataframe\">\n",
              "  <thead>\n",
              "    <tr style=\"text-align: right;\">\n",
              "      <th></th>\n",
              "      <th>Opposition</th>\n",
              "      <th>Batsman</th>\n",
              "      <th>le_Opp</th>\n",
              "    </tr>\n",
              "  </thead>\n",
              "  <tbody>\n",
              "    <tr>\n",
              "      <th>0</th>\n",
              "      <td>v India</td>\n",
              "      <td>Oshane Thomas</td>\n",
              "      <td>9</td>\n",
              "    </tr>\n",
              "    <tr>\n",
              "      <th>1</th>\n",
              "      <td>v India</td>\n",
              "      <td>Oshane Thomas</td>\n",
              "      <td>9</td>\n",
              "    </tr>\n",
              "    <tr>\n",
              "      <th>2</th>\n",
              "      <td>v India</td>\n",
              "      <td>Oshane Thomas</td>\n",
              "      <td>9</td>\n",
              "    </tr>\n",
              "    <tr>\n",
              "      <th>3</th>\n",
              "      <td>v Bangladesh</td>\n",
              "      <td>Oshane Thomas</td>\n",
              "      <td>4</td>\n",
              "    </tr>\n",
              "    <tr>\n",
              "      <th>4</th>\n",
              "      <td>v India</td>\n",
              "      <td>Oshane Thomas</td>\n",
              "      <td>9</td>\n",
              "    </tr>\n",
              "    <tr>\n",
              "      <th>...</th>\n",
              "      <td>...</td>\n",
              "      <td>...</td>\n",
              "      <td>...</td>\n",
              "    </tr>\n",
              "    <tr>\n",
              "      <th>11144</th>\n",
              "      <td>v Ireland</td>\n",
              "      <td>Gulbadin Naib</td>\n",
              "      <td>10</td>\n",
              "    </tr>\n",
              "    <tr>\n",
              "      <th>11145</th>\n",
              "      <td>v Ireland</td>\n",
              "      <td>Gulbadin Naib</td>\n",
              "      <td>10</td>\n",
              "    </tr>\n",
              "    <tr>\n",
              "      <th>11146</th>\n",
              "      <td>v Ireland</td>\n",
              "      <td>Gulbadin Naib</td>\n",
              "      <td>10</td>\n",
              "    </tr>\n",
              "    <tr>\n",
              "      <th>11147</th>\n",
              "      <td>v Scotland</td>\n",
              "      <td>Gulbadin Naib</td>\n",
              "      <td>16</td>\n",
              "    </tr>\n",
              "    <tr>\n",
              "      <th>11148</th>\n",
              "      <td>v Ireland</td>\n",
              "      <td>Gulbadin Naib</td>\n",
              "      <td>10</td>\n",
              "    </tr>\n",
              "  </tbody>\n",
              "</table>\n",
              "<p>11149 rows × 3 columns</p>\n",
              "</div>"
            ],
            "text/plain": [
              "         Opposition         Batsman  le_Opp\n",
              "0           v India   Oshane Thomas       9\n",
              "1           v India   Oshane Thomas       9\n",
              "2           v India   Oshane Thomas       9\n",
              "3      v Bangladesh   Oshane Thomas       4\n",
              "4           v India   Oshane Thomas       9\n",
              "...             ...             ...     ...\n",
              "11144     v Ireland  Gulbadin Naib       10\n",
              "11145     v Ireland  Gulbadin Naib       10\n",
              "11146     v Ireland  Gulbadin Naib       10\n",
              "11147    v Scotland  Gulbadin Naib       16\n",
              "11148     v Ireland  Gulbadin Naib       10\n",
              "\n",
              "[11149 rows x 3 columns]"
            ]
          },
          "metadata": {},
          "execution_count": 31
        }
      ]
    },
    {
      "cell_type": "code",
      "source": [
        "from sklearn.preprocessing import LabelEncoder\n",
        "le = LabelEncoder()\n",
        "dt = dataset\n",
        "le.fit(dt[\"Batsman\"])\n",
        "dt[\"le_Batsman\"] = le.transform(dt[\"Batsman\"])\n",
        "dt"
      ],
      "metadata": {
        "colab": {
          "base_uri": "https://localhost:8080/",
          "height": 528
        },
        "id": "1nm1Ax6VbfVV",
        "outputId": "fec06e8e-9979-4783-f5cb-b445db914b1e"
      },
      "execution_count": null,
      "outputs": [
        {
          "output_type": "stream",
          "name": "stderr",
          "text": [
            "/usr/local/lib/python3.7/dist-packages/ipykernel_launcher.py:5: SettingWithCopyWarning: \n",
            "A value is trying to be set on a copy of a slice from a DataFrame.\n",
            "Try using .loc[row_indexer,col_indexer] = value instead\n",
            "\n",
            "See the caveats in the documentation: https://pandas.pydata.org/pandas-docs/stable/user_guide/indexing.html#returning-a-view-versus-a-copy\n",
            "  \"\"\"\n"
          ]
        },
        {
          "output_type": "execute_result",
          "data": {
            "text/html": [
              "<div>\n",
              "<style scoped>\n",
              "    .dataframe tbody tr th:only-of-type {\n",
              "        vertical-align: middle;\n",
              "    }\n",
              "\n",
              "    .dataframe tbody tr th {\n",
              "        vertical-align: top;\n",
              "    }\n",
              "\n",
              "    .dataframe thead th {\n",
              "        text-align: right;\n",
              "    }\n",
              "</style>\n",
              "<table border=\"1\" class=\"dataframe\">\n",
              "  <thead>\n",
              "    <tr style=\"text-align: right;\">\n",
              "      <th></th>\n",
              "      <th>Opposition</th>\n",
              "      <th>Batsman</th>\n",
              "      <th>le_Opp</th>\n",
              "      <th>le_Batsman</th>\n",
              "    </tr>\n",
              "  </thead>\n",
              "  <tbody>\n",
              "    <tr>\n",
              "      <th>0</th>\n",
              "      <td>v India</td>\n",
              "      <td>Oshane Thomas</td>\n",
              "      <td>9</td>\n",
              "      <td>113</td>\n",
              "    </tr>\n",
              "    <tr>\n",
              "      <th>1</th>\n",
              "      <td>v India</td>\n",
              "      <td>Oshane Thomas</td>\n",
              "      <td>9</td>\n",
              "      <td>113</td>\n",
              "    </tr>\n",
              "    <tr>\n",
              "      <th>2</th>\n",
              "      <td>v India</td>\n",
              "      <td>Oshane Thomas</td>\n",
              "      <td>9</td>\n",
              "      <td>113</td>\n",
              "    </tr>\n",
              "    <tr>\n",
              "      <th>3</th>\n",
              "      <td>v Bangladesh</td>\n",
              "      <td>Oshane Thomas</td>\n",
              "      <td>4</td>\n",
              "      <td>113</td>\n",
              "    </tr>\n",
              "    <tr>\n",
              "      <th>4</th>\n",
              "      <td>v India</td>\n",
              "      <td>Oshane Thomas</td>\n",
              "      <td>9</td>\n",
              "      <td>113</td>\n",
              "    </tr>\n",
              "    <tr>\n",
              "      <th>...</th>\n",
              "      <td>...</td>\n",
              "      <td>...</td>\n",
              "      <td>...</td>\n",
              "      <td>...</td>\n",
              "    </tr>\n",
              "    <tr>\n",
              "      <th>11144</th>\n",
              "      <td>v Ireland</td>\n",
              "      <td>Gulbadin Naib</td>\n",
              "      <td>10</td>\n",
              "      <td>42</td>\n",
              "    </tr>\n",
              "    <tr>\n",
              "      <th>11145</th>\n",
              "      <td>v Ireland</td>\n",
              "      <td>Gulbadin Naib</td>\n",
              "      <td>10</td>\n",
              "      <td>42</td>\n",
              "    </tr>\n",
              "    <tr>\n",
              "      <th>11146</th>\n",
              "      <td>v Ireland</td>\n",
              "      <td>Gulbadin Naib</td>\n",
              "      <td>10</td>\n",
              "      <td>42</td>\n",
              "    </tr>\n",
              "    <tr>\n",
              "      <th>11147</th>\n",
              "      <td>v Scotland</td>\n",
              "      <td>Gulbadin Naib</td>\n",
              "      <td>16</td>\n",
              "      <td>42</td>\n",
              "    </tr>\n",
              "    <tr>\n",
              "      <th>11148</th>\n",
              "      <td>v Ireland</td>\n",
              "      <td>Gulbadin Naib</td>\n",
              "      <td>10</td>\n",
              "      <td>42</td>\n",
              "    </tr>\n",
              "  </tbody>\n",
              "</table>\n",
              "<p>11149 rows × 4 columns</p>\n",
              "</div>"
            ],
            "text/plain": [
              "         Opposition         Batsman  le_Opp  le_Batsman\n",
              "0           v India   Oshane Thomas       9         113\n",
              "1           v India   Oshane Thomas       9         113\n",
              "2           v India   Oshane Thomas       9         113\n",
              "3      v Bangladesh   Oshane Thomas       4         113\n",
              "4           v India   Oshane Thomas       9         113\n",
              "...             ...             ...     ...         ...\n",
              "11144     v Ireland  Gulbadin Naib       10          42\n",
              "11145     v Ireland  Gulbadin Naib       10          42\n",
              "11146     v Ireland  Gulbadin Naib       10          42\n",
              "11147    v Scotland  Gulbadin Naib       16          42\n",
              "11148     v Ireland  Gulbadin Naib       10          42\n",
              "\n",
              "[11149 rows x 4 columns]"
            ]
          },
          "metadata": {},
          "execution_count": 32
        }
      ]
    },
    {
      "cell_type": "code",
      "source": [
        "dataset"
      ],
      "metadata": {
        "colab": {
          "base_uri": "https://localhost:8080/",
          "height": 423
        },
        "id": "vaZM8yApbouZ",
        "outputId": "acbfb360-d48e-46c7-f0da-9b771e611b2d"
      },
      "execution_count": null,
      "outputs": [
        {
          "output_type": "execute_result",
          "data": {
            "text/html": [
              "<div>\n",
              "<style scoped>\n",
              "    .dataframe tbody tr th:only-of-type {\n",
              "        vertical-align: middle;\n",
              "    }\n",
              "\n",
              "    .dataframe tbody tr th {\n",
              "        vertical-align: top;\n",
              "    }\n",
              "\n",
              "    .dataframe thead th {\n",
              "        text-align: right;\n",
              "    }\n",
              "</style>\n",
              "<table border=\"1\" class=\"dataframe\">\n",
              "  <thead>\n",
              "    <tr style=\"text-align: right;\">\n",
              "      <th></th>\n",
              "      <th>Opposition</th>\n",
              "      <th>Batsman</th>\n",
              "      <th>le_Opp</th>\n",
              "      <th>le_Batsman</th>\n",
              "    </tr>\n",
              "  </thead>\n",
              "  <tbody>\n",
              "    <tr>\n",
              "      <th>0</th>\n",
              "      <td>v India</td>\n",
              "      <td>Oshane Thomas</td>\n",
              "      <td>9</td>\n",
              "      <td>113</td>\n",
              "    </tr>\n",
              "    <tr>\n",
              "      <th>1</th>\n",
              "      <td>v India</td>\n",
              "      <td>Oshane Thomas</td>\n",
              "      <td>9</td>\n",
              "      <td>113</td>\n",
              "    </tr>\n",
              "    <tr>\n",
              "      <th>2</th>\n",
              "      <td>v India</td>\n",
              "      <td>Oshane Thomas</td>\n",
              "      <td>9</td>\n",
              "      <td>113</td>\n",
              "    </tr>\n",
              "    <tr>\n",
              "      <th>3</th>\n",
              "      <td>v Bangladesh</td>\n",
              "      <td>Oshane Thomas</td>\n",
              "      <td>4</td>\n",
              "      <td>113</td>\n",
              "    </tr>\n",
              "    <tr>\n",
              "      <th>4</th>\n",
              "      <td>v India</td>\n",
              "      <td>Oshane Thomas</td>\n",
              "      <td>9</td>\n",
              "      <td>113</td>\n",
              "    </tr>\n",
              "    <tr>\n",
              "      <th>...</th>\n",
              "      <td>...</td>\n",
              "      <td>...</td>\n",
              "      <td>...</td>\n",
              "      <td>...</td>\n",
              "    </tr>\n",
              "    <tr>\n",
              "      <th>11144</th>\n",
              "      <td>v Ireland</td>\n",
              "      <td>Gulbadin Naib</td>\n",
              "      <td>10</td>\n",
              "      <td>42</td>\n",
              "    </tr>\n",
              "    <tr>\n",
              "      <th>11145</th>\n",
              "      <td>v Ireland</td>\n",
              "      <td>Gulbadin Naib</td>\n",
              "      <td>10</td>\n",
              "      <td>42</td>\n",
              "    </tr>\n",
              "    <tr>\n",
              "      <th>11146</th>\n",
              "      <td>v Ireland</td>\n",
              "      <td>Gulbadin Naib</td>\n",
              "      <td>10</td>\n",
              "      <td>42</td>\n",
              "    </tr>\n",
              "    <tr>\n",
              "      <th>11147</th>\n",
              "      <td>v Scotland</td>\n",
              "      <td>Gulbadin Naib</td>\n",
              "      <td>16</td>\n",
              "      <td>42</td>\n",
              "    </tr>\n",
              "    <tr>\n",
              "      <th>11148</th>\n",
              "      <td>v Ireland</td>\n",
              "      <td>Gulbadin Naib</td>\n",
              "      <td>10</td>\n",
              "      <td>42</td>\n",
              "    </tr>\n",
              "  </tbody>\n",
              "</table>\n",
              "<p>11149 rows × 4 columns</p>\n",
              "</div>"
            ],
            "text/plain": [
              "         Opposition         Batsman  le_Opp  le_Batsman\n",
              "0           v India   Oshane Thomas       9         113\n",
              "1           v India   Oshane Thomas       9         113\n",
              "2           v India   Oshane Thomas       9         113\n",
              "3      v Bangladesh   Oshane Thomas       4         113\n",
              "4           v India   Oshane Thomas       9         113\n",
              "...             ...             ...     ...         ...\n",
              "11144     v Ireland  Gulbadin Naib       10          42\n",
              "11145     v Ireland  Gulbadin Naib       10          42\n",
              "11146     v Ireland  Gulbadin Naib       10          42\n",
              "11147    v Scotland  Gulbadin Naib       16          42\n",
              "11148     v Ireland  Gulbadin Naib       10          42\n",
              "\n",
              "[11149 rows x 4 columns]"
            ]
          },
          "metadata": {},
          "execution_count": 33
        }
      ]
    },
    {
      "cell_type": "markdown",
      "source": [
        "3. Frequency Encoding"
      ],
      "metadata": {
        "id": "re0bqKgHcIPw"
      }
    },
    {
      "cell_type": "code",
      "source": [
        "dataset = bat_data[[\"Opposition\",\"Batsman\"]]"
      ],
      "metadata": {
        "id": "m1sy7vk0b6yI"
      },
      "execution_count": null,
      "outputs": []
    },
    {
      "cell_type": "code",
      "source": [
        "dataset"
      ],
      "metadata": {
        "colab": {
          "base_uri": "https://localhost:8080/",
          "height": 423
        },
        "id": "JFCquc9tclRE",
        "outputId": "739d7189-0a9b-4bb7-d2ba-8129bfc7f752"
      },
      "execution_count": null,
      "outputs": [
        {
          "output_type": "execute_result",
          "data": {
            "text/html": [
              "<div>\n",
              "<style scoped>\n",
              "    .dataframe tbody tr th:only-of-type {\n",
              "        vertical-align: middle;\n",
              "    }\n",
              "\n",
              "    .dataframe tbody tr th {\n",
              "        vertical-align: top;\n",
              "    }\n",
              "\n",
              "    .dataframe thead th {\n",
              "        text-align: right;\n",
              "    }\n",
              "</style>\n",
              "<table border=\"1\" class=\"dataframe\">\n",
              "  <thead>\n",
              "    <tr style=\"text-align: right;\">\n",
              "      <th></th>\n",
              "      <th>Opposition</th>\n",
              "      <th>Batsman</th>\n",
              "    </tr>\n",
              "  </thead>\n",
              "  <tbody>\n",
              "    <tr>\n",
              "      <th>0</th>\n",
              "      <td>v India</td>\n",
              "      <td>Oshane Thomas</td>\n",
              "    </tr>\n",
              "    <tr>\n",
              "      <th>1</th>\n",
              "      <td>v India</td>\n",
              "      <td>Oshane Thomas</td>\n",
              "    </tr>\n",
              "    <tr>\n",
              "      <th>2</th>\n",
              "      <td>v India</td>\n",
              "      <td>Oshane Thomas</td>\n",
              "    </tr>\n",
              "    <tr>\n",
              "      <th>3</th>\n",
              "      <td>v Bangladesh</td>\n",
              "      <td>Oshane Thomas</td>\n",
              "    </tr>\n",
              "    <tr>\n",
              "      <th>4</th>\n",
              "      <td>v India</td>\n",
              "      <td>Oshane Thomas</td>\n",
              "    </tr>\n",
              "    <tr>\n",
              "      <th>...</th>\n",
              "      <td>...</td>\n",
              "      <td>...</td>\n",
              "    </tr>\n",
              "    <tr>\n",
              "      <th>11144</th>\n",
              "      <td>v Ireland</td>\n",
              "      <td>Gulbadin Naib</td>\n",
              "    </tr>\n",
              "    <tr>\n",
              "      <th>11145</th>\n",
              "      <td>v Ireland</td>\n",
              "      <td>Gulbadin Naib</td>\n",
              "    </tr>\n",
              "    <tr>\n",
              "      <th>11146</th>\n",
              "      <td>v Ireland</td>\n",
              "      <td>Gulbadin Naib</td>\n",
              "    </tr>\n",
              "    <tr>\n",
              "      <th>11147</th>\n",
              "      <td>v Scotland</td>\n",
              "      <td>Gulbadin Naib</td>\n",
              "    </tr>\n",
              "    <tr>\n",
              "      <th>11148</th>\n",
              "      <td>v Ireland</td>\n",
              "      <td>Gulbadin Naib</td>\n",
              "    </tr>\n",
              "  </tbody>\n",
              "</table>\n",
              "<p>11149 rows × 2 columns</p>\n",
              "</div>"
            ],
            "text/plain": [
              "         Opposition         Batsman\n",
              "0           v India   Oshane Thomas\n",
              "1           v India   Oshane Thomas\n",
              "2           v India   Oshane Thomas\n",
              "3      v Bangladesh   Oshane Thomas\n",
              "4           v India   Oshane Thomas\n",
              "...             ...             ...\n",
              "11144     v Ireland  Gulbadin Naib \n",
              "11145     v Ireland  Gulbadin Naib \n",
              "11146     v Ireland  Gulbadin Naib \n",
              "11147    v Scotland  Gulbadin Naib \n",
              "11148     v Ireland  Gulbadin Naib \n",
              "\n",
              "[11149 rows x 2 columns]"
            ]
          },
          "metadata": {},
          "execution_count": 35
        }
      ]
    },
    {
      "cell_type": "code",
      "source": [
        "dt = dataset\n",
        "values_count = dt[\"Opposition\"].value_counts().to_dict()\n",
        "values_count\n",
        "dt[\"opp_freq\"] = dt[\"Opposition\"].map(values_count)\n",
        "dt"
      ],
      "metadata": {
        "colab": {
          "base_uri": "https://localhost:8080/",
          "height": 528
        },
        "id": "cF9ki6PncmEA",
        "outputId": "9c8d4637-b382-40c0-d412-bcc4bce70986"
      },
      "execution_count": null,
      "outputs": [
        {
          "output_type": "stream",
          "name": "stderr",
          "text": [
            "/usr/local/lib/python3.7/dist-packages/ipykernel_launcher.py:4: SettingWithCopyWarning: \n",
            "A value is trying to be set on a copy of a slice from a DataFrame.\n",
            "Try using .loc[row_indexer,col_indexer] = value instead\n",
            "\n",
            "See the caveats in the documentation: https://pandas.pydata.org/pandas-docs/stable/user_guide/indexing.html#returning-a-view-versus-a-copy\n",
            "  after removing the cwd from sys.path.\n"
          ]
        },
        {
          "output_type": "execute_result",
          "data": {
            "text/html": [
              "<div>\n",
              "<style scoped>\n",
              "    .dataframe tbody tr th:only-of-type {\n",
              "        vertical-align: middle;\n",
              "    }\n",
              "\n",
              "    .dataframe tbody tr th {\n",
              "        vertical-align: top;\n",
              "    }\n",
              "\n",
              "    .dataframe thead th {\n",
              "        text-align: right;\n",
              "    }\n",
              "</style>\n",
              "<table border=\"1\" class=\"dataframe\">\n",
              "  <thead>\n",
              "    <tr style=\"text-align: right;\">\n",
              "      <th></th>\n",
              "      <th>Opposition</th>\n",
              "      <th>Batsman</th>\n",
              "      <th>opp_freq</th>\n",
              "    </tr>\n",
              "  </thead>\n",
              "  <tbody>\n",
              "    <tr>\n",
              "      <th>0</th>\n",
              "      <td>v India</td>\n",
              "      <td>Oshane Thomas</td>\n",
              "      <td>1187</td>\n",
              "    </tr>\n",
              "    <tr>\n",
              "      <th>1</th>\n",
              "      <td>v India</td>\n",
              "      <td>Oshane Thomas</td>\n",
              "      <td>1187</td>\n",
              "    </tr>\n",
              "    <tr>\n",
              "      <th>2</th>\n",
              "      <td>v India</td>\n",
              "      <td>Oshane Thomas</td>\n",
              "      <td>1187</td>\n",
              "    </tr>\n",
              "    <tr>\n",
              "      <th>3</th>\n",
              "      <td>v Bangladesh</td>\n",
              "      <td>Oshane Thomas</td>\n",
              "      <td>639</td>\n",
              "    </tr>\n",
              "    <tr>\n",
              "      <th>4</th>\n",
              "      <td>v India</td>\n",
              "      <td>Oshane Thomas</td>\n",
              "      <td>1187</td>\n",
              "    </tr>\n",
              "    <tr>\n",
              "      <th>...</th>\n",
              "      <td>...</td>\n",
              "      <td>...</td>\n",
              "      <td>...</td>\n",
              "    </tr>\n",
              "    <tr>\n",
              "      <th>11144</th>\n",
              "      <td>v Ireland</td>\n",
              "      <td>Gulbadin Naib</td>\n",
              "      <td>450</td>\n",
              "    </tr>\n",
              "    <tr>\n",
              "      <th>11145</th>\n",
              "      <td>v Ireland</td>\n",
              "      <td>Gulbadin Naib</td>\n",
              "      <td>450</td>\n",
              "    </tr>\n",
              "    <tr>\n",
              "      <th>11146</th>\n",
              "      <td>v Ireland</td>\n",
              "      <td>Gulbadin Naib</td>\n",
              "      <td>450</td>\n",
              "    </tr>\n",
              "    <tr>\n",
              "      <th>11147</th>\n",
              "      <td>v Scotland</td>\n",
              "      <td>Gulbadin Naib</td>\n",
              "      <td>169</td>\n",
              "    </tr>\n",
              "    <tr>\n",
              "      <th>11148</th>\n",
              "      <td>v Ireland</td>\n",
              "      <td>Gulbadin Naib</td>\n",
              "      <td>450</td>\n",
              "    </tr>\n",
              "  </tbody>\n",
              "</table>\n",
              "<p>11149 rows × 3 columns</p>\n",
              "</div>"
            ],
            "text/plain": [
              "         Opposition         Batsman  opp_freq\n",
              "0           v India   Oshane Thomas      1187\n",
              "1           v India   Oshane Thomas      1187\n",
              "2           v India   Oshane Thomas      1187\n",
              "3      v Bangladesh   Oshane Thomas       639\n",
              "4           v India   Oshane Thomas      1187\n",
              "...             ...             ...       ...\n",
              "11144     v Ireland  Gulbadin Naib        450\n",
              "11145     v Ireland  Gulbadin Naib        450\n",
              "11146     v Ireland  Gulbadin Naib        450\n",
              "11147    v Scotland  Gulbadin Naib        169\n",
              "11148     v Ireland  Gulbadin Naib        450\n",
              "\n",
              "[11149 rows x 3 columns]"
            ]
          },
          "metadata": {},
          "execution_count": 36
        }
      ]
    },
    {
      "cell_type": "code",
      "source": [
        "\n",
        "dt = dataset\n",
        "values_count = dt[\"Batsman\"].value_counts().to_dict()\n",
        "values_count\n",
        "dt[\"Batsman_freq\"] = dt[\"Batsman\"].map(values_count)\n",
        "dt\n",
        "\n",
        "# values_count"
      ],
      "metadata": {
        "colab": {
          "base_uri": "https://localhost:8080/",
          "height": 528
        },
        "id": "qWBQ3Phwc2pM",
        "outputId": "b226eb07-c2f1-4e0e-cb83-f160f06de56e"
      },
      "execution_count": null,
      "outputs": [
        {
          "output_type": "stream",
          "name": "stderr",
          "text": [
            "/usr/local/lib/python3.7/dist-packages/ipykernel_launcher.py:5: SettingWithCopyWarning: \n",
            "A value is trying to be set on a copy of a slice from a DataFrame.\n",
            "Try using .loc[row_indexer,col_indexer] = value instead\n",
            "\n",
            "See the caveats in the documentation: https://pandas.pydata.org/pandas-docs/stable/user_guide/indexing.html#returning-a-view-versus-a-copy\n",
            "  \"\"\"\n"
          ]
        },
        {
          "output_type": "execute_result",
          "data": {
            "text/html": [
              "<div>\n",
              "<style scoped>\n",
              "    .dataframe tbody tr th:only-of-type {\n",
              "        vertical-align: middle;\n",
              "    }\n",
              "\n",
              "    .dataframe tbody tr th {\n",
              "        vertical-align: top;\n",
              "    }\n",
              "\n",
              "    .dataframe thead th {\n",
              "        text-align: right;\n",
              "    }\n",
              "</style>\n",
              "<table border=\"1\" class=\"dataframe\">\n",
              "  <thead>\n",
              "    <tr style=\"text-align: right;\">\n",
              "      <th></th>\n",
              "      <th>Opposition</th>\n",
              "      <th>Batsman</th>\n",
              "      <th>opp_freq</th>\n",
              "      <th>Batsman_freq</th>\n",
              "    </tr>\n",
              "  </thead>\n",
              "  <tbody>\n",
              "    <tr>\n",
              "      <th>0</th>\n",
              "      <td>v India</td>\n",
              "      <td>Oshane Thomas</td>\n",
              "      <td>1187</td>\n",
              "      <td>90</td>\n",
              "    </tr>\n",
              "    <tr>\n",
              "      <th>1</th>\n",
              "      <td>v India</td>\n",
              "      <td>Oshane Thomas</td>\n",
              "      <td>1187</td>\n",
              "      <td>90</td>\n",
              "    </tr>\n",
              "    <tr>\n",
              "      <th>2</th>\n",
              "      <td>v India</td>\n",
              "      <td>Oshane Thomas</td>\n",
              "      <td>1187</td>\n",
              "      <td>90</td>\n",
              "    </tr>\n",
              "    <tr>\n",
              "      <th>3</th>\n",
              "      <td>v Bangladesh</td>\n",
              "      <td>Oshane Thomas</td>\n",
              "      <td>639</td>\n",
              "      <td>90</td>\n",
              "    </tr>\n",
              "    <tr>\n",
              "      <th>4</th>\n",
              "      <td>v India</td>\n",
              "      <td>Oshane Thomas</td>\n",
              "      <td>1187</td>\n",
              "      <td>90</td>\n",
              "    </tr>\n",
              "    <tr>\n",
              "      <th>...</th>\n",
              "      <td>...</td>\n",
              "      <td>...</td>\n",
              "      <td>...</td>\n",
              "      <td>...</td>\n",
              "    </tr>\n",
              "    <tr>\n",
              "      <th>11144</th>\n",
              "      <td>v Ireland</td>\n",
              "      <td>Gulbadin Naib</td>\n",
              "      <td>450</td>\n",
              "      <td>54</td>\n",
              "    </tr>\n",
              "    <tr>\n",
              "      <th>11145</th>\n",
              "      <td>v Ireland</td>\n",
              "      <td>Gulbadin Naib</td>\n",
              "      <td>450</td>\n",
              "      <td>54</td>\n",
              "    </tr>\n",
              "    <tr>\n",
              "      <th>11146</th>\n",
              "      <td>v Ireland</td>\n",
              "      <td>Gulbadin Naib</td>\n",
              "      <td>450</td>\n",
              "      <td>54</td>\n",
              "    </tr>\n",
              "    <tr>\n",
              "      <th>11147</th>\n",
              "      <td>v Scotland</td>\n",
              "      <td>Gulbadin Naib</td>\n",
              "      <td>169</td>\n",
              "      <td>54</td>\n",
              "    </tr>\n",
              "    <tr>\n",
              "      <th>11148</th>\n",
              "      <td>v Ireland</td>\n",
              "      <td>Gulbadin Naib</td>\n",
              "      <td>450</td>\n",
              "      <td>54</td>\n",
              "    </tr>\n",
              "  </tbody>\n",
              "</table>\n",
              "<p>11149 rows × 4 columns</p>\n",
              "</div>"
            ],
            "text/plain": [
              "         Opposition         Batsman  opp_freq  Batsman_freq\n",
              "0           v India   Oshane Thomas      1187            90\n",
              "1           v India   Oshane Thomas      1187            90\n",
              "2           v India   Oshane Thomas      1187            90\n",
              "3      v Bangladesh   Oshane Thomas       639            90\n",
              "4           v India   Oshane Thomas      1187            90\n",
              "...             ...             ...       ...           ...\n",
              "11144     v Ireland  Gulbadin Naib        450            54\n",
              "11145     v Ireland  Gulbadin Naib        450            54\n",
              "11146     v Ireland  Gulbadin Naib        450            54\n",
              "11147    v Scotland  Gulbadin Naib        169            54\n",
              "11148     v Ireland  Gulbadin Naib        450            54\n",
              "\n",
              "[11149 rows x 4 columns]"
            ]
          },
          "metadata": {},
          "execution_count": 37
        }
      ]
    },
    {
      "cell_type": "markdown",
      "source": [
        "4. Mean Encoding"
      ],
      "metadata": {
        "id": "6k8braYreG1c"
      }
    },
    {
      "cell_type": "code",
      "source": [
        "dt = pd.concat([dt,tmp_data],axis=1)\n",
        "df = dt[[\"Runs\",\"Batsman\",\"Opposition\",\"SR\"]]\n",
        "df"
      ],
      "metadata": {
        "colab": {
          "base_uri": "https://localhost:8080/",
          "height": 423
        },
        "id": "73uev2o8_R7t",
        "outputId": "7e43f5d9-4493-449f-8d26-a981a8dd46fc"
      },
      "execution_count": null,
      "outputs": [
        {
          "output_type": "execute_result",
          "data": {
            "text/html": [
              "<div>\n",
              "<style scoped>\n",
              "    .dataframe tbody tr th:only-of-type {\n",
              "        vertical-align: middle;\n",
              "    }\n",
              "\n",
              "    .dataframe tbody tr th {\n",
              "        vertical-align: top;\n",
              "    }\n",
              "\n",
              "    .dataframe thead th {\n",
              "        text-align: right;\n",
              "    }\n",
              "</style>\n",
              "<table border=\"1\" class=\"dataframe\">\n",
              "  <thead>\n",
              "    <tr style=\"text-align: right;\">\n",
              "      <th></th>\n",
              "      <th>Runs</th>\n",
              "      <th>Batsman</th>\n",
              "      <th>Opposition</th>\n",
              "      <th>SR</th>\n",
              "    </tr>\n",
              "  </thead>\n",
              "  <tbody>\n",
              "    <tr>\n",
              "      <th>0</th>\n",
              "      <td>5.0</td>\n",
              "      <td>Oshane Thomas</td>\n",
              "      <td>v India</td>\n",
              "      <td>46.0</td>\n",
              "    </tr>\n",
              "    <tr>\n",
              "      <th>1</th>\n",
              "      <td>5.0</td>\n",
              "      <td>Oshane Thomas</td>\n",
              "      <td>v India</td>\n",
              "      <td>46.0</td>\n",
              "    </tr>\n",
              "    <tr>\n",
              "      <th>2</th>\n",
              "      <td>5.0</td>\n",
              "      <td>Oshane Thomas</td>\n",
              "      <td>v India</td>\n",
              "      <td>46.0</td>\n",
              "    </tr>\n",
              "    <tr>\n",
              "      <th>3</th>\n",
              "      <td>5.0</td>\n",
              "      <td>Oshane Thomas</td>\n",
              "      <td>v Bangladesh</td>\n",
              "      <td>46.0</td>\n",
              "    </tr>\n",
              "    <tr>\n",
              "      <th>4</th>\n",
              "      <td>5.0</td>\n",
              "      <td>Oshane Thomas</td>\n",
              "      <td>v India</td>\n",
              "      <td>46.0</td>\n",
              "    </tr>\n",
              "    <tr>\n",
              "      <th>...</th>\n",
              "      <td>...</td>\n",
              "      <td>...</td>\n",
              "      <td>...</td>\n",
              "      <td>...</td>\n",
              "    </tr>\n",
              "    <tr>\n",
              "      <th>11144</th>\n",
              "      <td>46.0</td>\n",
              "      <td>Gulbadin Naib</td>\n",
              "      <td>v Ireland</td>\n",
              "      <td>76.0</td>\n",
              "    </tr>\n",
              "    <tr>\n",
              "      <th>11145</th>\n",
              "      <td>3.0</td>\n",
              "      <td>Gulbadin Naib</td>\n",
              "      <td>v Ireland</td>\n",
              "      <td>50.0</td>\n",
              "    </tr>\n",
              "    <tr>\n",
              "      <th>11146</th>\n",
              "      <td>1.0</td>\n",
              "      <td>Gulbadin Naib</td>\n",
              "      <td>v Ireland</td>\n",
              "      <td>13.0</td>\n",
              "    </tr>\n",
              "    <tr>\n",
              "      <th>11147</th>\n",
              "      <td>19.0</td>\n",
              "      <td>Gulbadin Naib</td>\n",
              "      <td>v Scotland</td>\n",
              "      <td>62.0</td>\n",
              "    </tr>\n",
              "    <tr>\n",
              "      <th>11148</th>\n",
              "      <td>19.0</td>\n",
              "      <td>Gulbadin Naib</td>\n",
              "      <td>v Ireland</td>\n",
              "      <td>62.0</td>\n",
              "    </tr>\n",
              "  </tbody>\n",
              "</table>\n",
              "<p>11149 rows × 4 columns</p>\n",
              "</div>"
            ],
            "text/plain": [
              "       Runs         Batsman    Opposition    SR\n",
              "0       5.0   Oshane Thomas       v India  46.0\n",
              "1       5.0   Oshane Thomas       v India  46.0\n",
              "2       5.0   Oshane Thomas       v India  46.0\n",
              "3       5.0   Oshane Thomas  v Bangladesh  46.0\n",
              "4       5.0   Oshane Thomas       v India  46.0\n",
              "...     ...             ...           ...   ...\n",
              "11144  46.0  Gulbadin Naib      v Ireland  76.0\n",
              "11145   3.0  Gulbadin Naib      v Ireland  50.0\n",
              "11146   1.0  Gulbadin Naib      v Ireland  13.0\n",
              "11147  19.0  Gulbadin Naib     v Scotland  62.0\n",
              "11148  19.0  Gulbadin Naib      v Ireland  62.0\n",
              "\n",
              "[11149 rows x 4 columns]"
            ]
          },
          "metadata": {},
          "execution_count": 38
        }
      ]
    },
    {
      "cell_type": "code",
      "source": [
        "#For Batsman Runs\n",
        "# df.groupby([\"Batsman\"])[\"Runs\"].mean().apply(np.ceil())\n",
        "mean_labels = df.groupby([\"Batsman\"])[\"Runs\"]. mean().to_dict()\n",
        "df['Runs_mean'] = df['Batsman'].map(mean_labels)\n",
        "df['Runs_mean'] = df['Runs_mean'].apply(np.ceil)\n",
        "df"
      ],
      "metadata": {
        "colab": {
          "base_uri": "https://localhost:8080/",
          "height": 632
        },
        "id": "YshVOaHxCiOt",
        "outputId": "7b5149e8-9d2e-41ed-a4dc-a1b7cc5692c8"
      },
      "execution_count": null,
      "outputs": [
        {
          "output_type": "stream",
          "name": "stderr",
          "text": [
            "/usr/local/lib/python3.7/dist-packages/ipykernel_launcher.py:4: SettingWithCopyWarning: \n",
            "A value is trying to be set on a copy of a slice from a DataFrame.\n",
            "Try using .loc[row_indexer,col_indexer] = value instead\n",
            "\n",
            "See the caveats in the documentation: https://pandas.pydata.org/pandas-docs/stable/user_guide/indexing.html#returning-a-view-versus-a-copy\n",
            "  after removing the cwd from sys.path.\n",
            "/usr/local/lib/python3.7/dist-packages/ipykernel_launcher.py:5: SettingWithCopyWarning: \n",
            "A value is trying to be set on a copy of a slice from a DataFrame.\n",
            "Try using .loc[row_indexer,col_indexer] = value instead\n",
            "\n",
            "See the caveats in the documentation: https://pandas.pydata.org/pandas-docs/stable/user_guide/indexing.html#returning-a-view-versus-a-copy\n",
            "  \"\"\"\n"
          ]
        },
        {
          "output_type": "execute_result",
          "data": {
            "text/html": [
              "<div>\n",
              "<style scoped>\n",
              "    .dataframe tbody tr th:only-of-type {\n",
              "        vertical-align: middle;\n",
              "    }\n",
              "\n",
              "    .dataframe tbody tr th {\n",
              "        vertical-align: top;\n",
              "    }\n",
              "\n",
              "    .dataframe thead th {\n",
              "        text-align: right;\n",
              "    }\n",
              "</style>\n",
              "<table border=\"1\" class=\"dataframe\">\n",
              "  <thead>\n",
              "    <tr style=\"text-align: right;\">\n",
              "      <th></th>\n",
              "      <th>Runs</th>\n",
              "      <th>Batsman</th>\n",
              "      <th>Opposition</th>\n",
              "      <th>SR</th>\n",
              "      <th>Runs_mean</th>\n",
              "    </tr>\n",
              "  </thead>\n",
              "  <tbody>\n",
              "    <tr>\n",
              "      <th>0</th>\n",
              "      <td>5.0</td>\n",
              "      <td>Oshane Thomas</td>\n",
              "      <td>v India</td>\n",
              "      <td>46.0</td>\n",
              "      <td>5.0</td>\n",
              "    </tr>\n",
              "    <tr>\n",
              "      <th>1</th>\n",
              "      <td>5.0</td>\n",
              "      <td>Oshane Thomas</td>\n",
              "      <td>v India</td>\n",
              "      <td>46.0</td>\n",
              "      <td>5.0</td>\n",
              "    </tr>\n",
              "    <tr>\n",
              "      <th>2</th>\n",
              "      <td>5.0</td>\n",
              "      <td>Oshane Thomas</td>\n",
              "      <td>v India</td>\n",
              "      <td>46.0</td>\n",
              "      <td>5.0</td>\n",
              "    </tr>\n",
              "    <tr>\n",
              "      <th>3</th>\n",
              "      <td>5.0</td>\n",
              "      <td>Oshane Thomas</td>\n",
              "      <td>v Bangladesh</td>\n",
              "      <td>46.0</td>\n",
              "      <td>5.0</td>\n",
              "    </tr>\n",
              "    <tr>\n",
              "      <th>4</th>\n",
              "      <td>5.0</td>\n",
              "      <td>Oshane Thomas</td>\n",
              "      <td>v India</td>\n",
              "      <td>46.0</td>\n",
              "      <td>5.0</td>\n",
              "    </tr>\n",
              "    <tr>\n",
              "      <th>...</th>\n",
              "      <td>...</td>\n",
              "      <td>...</td>\n",
              "      <td>...</td>\n",
              "      <td>...</td>\n",
              "      <td>...</td>\n",
              "    </tr>\n",
              "    <tr>\n",
              "      <th>11144</th>\n",
              "      <td>46.0</td>\n",
              "      <td>Gulbadin Naib</td>\n",
              "      <td>v Ireland</td>\n",
              "      <td>76.0</td>\n",
              "      <td>19.0</td>\n",
              "    </tr>\n",
              "    <tr>\n",
              "      <th>11145</th>\n",
              "      <td>3.0</td>\n",
              "      <td>Gulbadin Naib</td>\n",
              "      <td>v Ireland</td>\n",
              "      <td>50.0</td>\n",
              "      <td>19.0</td>\n",
              "    </tr>\n",
              "    <tr>\n",
              "      <th>11146</th>\n",
              "      <td>1.0</td>\n",
              "      <td>Gulbadin Naib</td>\n",
              "      <td>v Ireland</td>\n",
              "      <td>13.0</td>\n",
              "      <td>19.0</td>\n",
              "    </tr>\n",
              "    <tr>\n",
              "      <th>11147</th>\n",
              "      <td>19.0</td>\n",
              "      <td>Gulbadin Naib</td>\n",
              "      <td>v Scotland</td>\n",
              "      <td>62.0</td>\n",
              "      <td>19.0</td>\n",
              "    </tr>\n",
              "    <tr>\n",
              "      <th>11148</th>\n",
              "      <td>19.0</td>\n",
              "      <td>Gulbadin Naib</td>\n",
              "      <td>v Ireland</td>\n",
              "      <td>62.0</td>\n",
              "      <td>19.0</td>\n",
              "    </tr>\n",
              "  </tbody>\n",
              "</table>\n",
              "<p>11149 rows × 5 columns</p>\n",
              "</div>"
            ],
            "text/plain": [
              "       Runs         Batsman    Opposition    SR  Runs_mean\n",
              "0       5.0   Oshane Thomas       v India  46.0        5.0\n",
              "1       5.0   Oshane Thomas       v India  46.0        5.0\n",
              "2       5.0   Oshane Thomas       v India  46.0        5.0\n",
              "3       5.0   Oshane Thomas  v Bangladesh  46.0        5.0\n",
              "4       5.0   Oshane Thomas       v India  46.0        5.0\n",
              "...     ...             ...           ...   ...        ...\n",
              "11144  46.0  Gulbadin Naib      v Ireland  76.0       19.0\n",
              "11145   3.0  Gulbadin Naib      v Ireland  50.0       19.0\n",
              "11146   1.0  Gulbadin Naib      v Ireland  13.0       19.0\n",
              "11147  19.0  Gulbadin Naib     v Scotland  62.0       19.0\n",
              "11148  19.0  Gulbadin Naib      v Ireland  62.0       19.0\n",
              "\n",
              "[11149 rows x 5 columns]"
            ]
          },
          "metadata": {},
          "execution_count": 39
        }
      ]
    },
    {
      "cell_type": "code",
      "source": [
        "\n",
        "#For Batsman SR\n",
        "mean_labels = df.groupby([\"Batsman\"])[\"SR\"]. mean().to_dict()\n",
        "df['SR_mean'] = df['Batsman'].map(mean_labels)\n",
        "df['SR_mean'] = df['SR_mean'].apply(np.ceil)\n",
        "df"
      ],
      "metadata": {
        "colab": {
          "base_uri": "https://localhost:8080/",
          "height": 423
        },
        "id": "HHW4VVq3GS2O",
        "outputId": "561f25ec-c9e0-437f-8085-3d8414889b80"
      },
      "execution_count": null,
      "outputs": [
        {
          "output_type": "execute_result",
          "data": {
            "text/html": [
              "<div>\n",
              "<style scoped>\n",
              "    .dataframe tbody tr th:only-of-type {\n",
              "        vertical-align: middle;\n",
              "    }\n",
              "\n",
              "    .dataframe tbody tr th {\n",
              "        vertical-align: top;\n",
              "    }\n",
              "\n",
              "    .dataframe thead th {\n",
              "        text-align: right;\n",
              "    }\n",
              "</style>\n",
              "<table border=\"1\" class=\"dataframe\">\n",
              "  <thead>\n",
              "    <tr style=\"text-align: right;\">\n",
              "      <th></th>\n",
              "      <th>Runs</th>\n",
              "      <th>Batsman</th>\n",
              "      <th>Opposition</th>\n",
              "      <th>SR</th>\n",
              "      <th>Runs_mean</th>\n",
              "      <th>SR_mean</th>\n",
              "    </tr>\n",
              "  </thead>\n",
              "  <tbody>\n",
              "    <tr>\n",
              "      <th>0</th>\n",
              "      <td>5.0</td>\n",
              "      <td>Oshane Thomas</td>\n",
              "      <td>v India</td>\n",
              "      <td>46.0</td>\n",
              "      <td>5.0</td>\n",
              "      <td>42.0</td>\n",
              "    </tr>\n",
              "    <tr>\n",
              "      <th>1</th>\n",
              "      <td>5.0</td>\n",
              "      <td>Oshane Thomas</td>\n",
              "      <td>v India</td>\n",
              "      <td>46.0</td>\n",
              "      <td>5.0</td>\n",
              "      <td>42.0</td>\n",
              "    </tr>\n",
              "    <tr>\n",
              "      <th>2</th>\n",
              "      <td>5.0</td>\n",
              "      <td>Oshane Thomas</td>\n",
              "      <td>v India</td>\n",
              "      <td>46.0</td>\n",
              "      <td>5.0</td>\n",
              "      <td>42.0</td>\n",
              "    </tr>\n",
              "    <tr>\n",
              "      <th>3</th>\n",
              "      <td>5.0</td>\n",
              "      <td>Oshane Thomas</td>\n",
              "      <td>v Bangladesh</td>\n",
              "      <td>46.0</td>\n",
              "      <td>5.0</td>\n",
              "      <td>42.0</td>\n",
              "    </tr>\n",
              "    <tr>\n",
              "      <th>4</th>\n",
              "      <td>5.0</td>\n",
              "      <td>Oshane Thomas</td>\n",
              "      <td>v India</td>\n",
              "      <td>46.0</td>\n",
              "      <td>5.0</td>\n",
              "      <td>42.0</td>\n",
              "    </tr>\n",
              "    <tr>\n",
              "      <th>...</th>\n",
              "      <td>...</td>\n",
              "      <td>...</td>\n",
              "      <td>...</td>\n",
              "      <td>...</td>\n",
              "      <td>...</td>\n",
              "      <td>...</td>\n",
              "    </tr>\n",
              "    <tr>\n",
              "      <th>11144</th>\n",
              "      <td>46.0</td>\n",
              "      <td>Gulbadin Naib</td>\n",
              "      <td>v Ireland</td>\n",
              "      <td>76.0</td>\n",
              "      <td>19.0</td>\n",
              "      <td>62.0</td>\n",
              "    </tr>\n",
              "    <tr>\n",
              "      <th>11145</th>\n",
              "      <td>3.0</td>\n",
              "      <td>Gulbadin Naib</td>\n",
              "      <td>v Ireland</td>\n",
              "      <td>50.0</td>\n",
              "      <td>19.0</td>\n",
              "      <td>62.0</td>\n",
              "    </tr>\n",
              "    <tr>\n",
              "      <th>11146</th>\n",
              "      <td>1.0</td>\n",
              "      <td>Gulbadin Naib</td>\n",
              "      <td>v Ireland</td>\n",
              "      <td>13.0</td>\n",
              "      <td>19.0</td>\n",
              "      <td>62.0</td>\n",
              "    </tr>\n",
              "    <tr>\n",
              "      <th>11147</th>\n",
              "      <td>19.0</td>\n",
              "      <td>Gulbadin Naib</td>\n",
              "      <td>v Scotland</td>\n",
              "      <td>62.0</td>\n",
              "      <td>19.0</td>\n",
              "      <td>62.0</td>\n",
              "    </tr>\n",
              "    <tr>\n",
              "      <th>11148</th>\n",
              "      <td>19.0</td>\n",
              "      <td>Gulbadin Naib</td>\n",
              "      <td>v Ireland</td>\n",
              "      <td>62.0</td>\n",
              "      <td>19.0</td>\n",
              "      <td>62.0</td>\n",
              "    </tr>\n",
              "  </tbody>\n",
              "</table>\n",
              "<p>11149 rows × 6 columns</p>\n",
              "</div>"
            ],
            "text/plain": [
              "       Runs         Batsman    Opposition    SR  Runs_mean  SR_mean\n",
              "0       5.0   Oshane Thomas       v India  46.0        5.0     42.0\n",
              "1       5.0   Oshane Thomas       v India  46.0        5.0     42.0\n",
              "2       5.0   Oshane Thomas       v India  46.0        5.0     42.0\n",
              "3       5.0   Oshane Thomas  v Bangladesh  46.0        5.0     42.0\n",
              "4       5.0   Oshane Thomas       v India  46.0        5.0     42.0\n",
              "...     ...             ...           ...   ...        ...      ...\n",
              "11144  46.0  Gulbadin Naib      v Ireland  76.0       19.0     62.0\n",
              "11145   3.0  Gulbadin Naib      v Ireland  50.0       19.0     62.0\n",
              "11146   1.0  Gulbadin Naib      v Ireland  13.0       19.0     62.0\n",
              "11147  19.0  Gulbadin Naib     v Scotland  62.0       19.0     62.0\n",
              "11148  19.0  Gulbadin Naib      v Ireland  62.0       19.0     62.0\n",
              "\n",
              "[11149 rows x 6 columns]"
            ]
          },
          "metadata": {},
          "execution_count": 40
        }
      ]
    },
    {
      "cell_type": "markdown",
      "source": [
        "5. Ordinal Encoding"
      ],
      "metadata": {
        "id": "sNq4O_W8eKkE"
      }
    },
    {
      "cell_type": "code",
      "source": [
        "df = dt[[\"Runs\",\"Batsman\",\"Opposition\",\"SR\"]]\n",
        "df"
      ],
      "metadata": {
        "id": "EJc3L4iteONc",
        "colab": {
          "base_uri": "https://localhost:8080/",
          "height": 423
        },
        "outputId": "85f7b45b-9b51-43f5-91fb-a00e90d6a3b0"
      },
      "execution_count": null,
      "outputs": [
        {
          "output_type": "execute_result",
          "data": {
            "text/html": [
              "<div>\n",
              "<style scoped>\n",
              "    .dataframe tbody tr th:only-of-type {\n",
              "        vertical-align: middle;\n",
              "    }\n",
              "\n",
              "    .dataframe tbody tr th {\n",
              "        vertical-align: top;\n",
              "    }\n",
              "\n",
              "    .dataframe thead th {\n",
              "        text-align: right;\n",
              "    }\n",
              "</style>\n",
              "<table border=\"1\" class=\"dataframe\">\n",
              "  <thead>\n",
              "    <tr style=\"text-align: right;\">\n",
              "      <th></th>\n",
              "      <th>Runs</th>\n",
              "      <th>Batsman</th>\n",
              "      <th>Opposition</th>\n",
              "      <th>SR</th>\n",
              "    </tr>\n",
              "  </thead>\n",
              "  <tbody>\n",
              "    <tr>\n",
              "      <th>0</th>\n",
              "      <td>5.0</td>\n",
              "      <td>Oshane Thomas</td>\n",
              "      <td>v India</td>\n",
              "      <td>46.0</td>\n",
              "    </tr>\n",
              "    <tr>\n",
              "      <th>1</th>\n",
              "      <td>5.0</td>\n",
              "      <td>Oshane Thomas</td>\n",
              "      <td>v India</td>\n",
              "      <td>46.0</td>\n",
              "    </tr>\n",
              "    <tr>\n",
              "      <th>2</th>\n",
              "      <td>5.0</td>\n",
              "      <td>Oshane Thomas</td>\n",
              "      <td>v India</td>\n",
              "      <td>46.0</td>\n",
              "    </tr>\n",
              "    <tr>\n",
              "      <th>3</th>\n",
              "      <td>5.0</td>\n",
              "      <td>Oshane Thomas</td>\n",
              "      <td>v Bangladesh</td>\n",
              "      <td>46.0</td>\n",
              "    </tr>\n",
              "    <tr>\n",
              "      <th>4</th>\n",
              "      <td>5.0</td>\n",
              "      <td>Oshane Thomas</td>\n",
              "      <td>v India</td>\n",
              "      <td>46.0</td>\n",
              "    </tr>\n",
              "    <tr>\n",
              "      <th>...</th>\n",
              "      <td>...</td>\n",
              "      <td>...</td>\n",
              "      <td>...</td>\n",
              "      <td>...</td>\n",
              "    </tr>\n",
              "    <tr>\n",
              "      <th>11144</th>\n",
              "      <td>46.0</td>\n",
              "      <td>Gulbadin Naib</td>\n",
              "      <td>v Ireland</td>\n",
              "      <td>76.0</td>\n",
              "    </tr>\n",
              "    <tr>\n",
              "      <th>11145</th>\n",
              "      <td>3.0</td>\n",
              "      <td>Gulbadin Naib</td>\n",
              "      <td>v Ireland</td>\n",
              "      <td>50.0</td>\n",
              "    </tr>\n",
              "    <tr>\n",
              "      <th>11146</th>\n",
              "      <td>1.0</td>\n",
              "      <td>Gulbadin Naib</td>\n",
              "      <td>v Ireland</td>\n",
              "      <td>13.0</td>\n",
              "    </tr>\n",
              "    <tr>\n",
              "      <th>11147</th>\n",
              "      <td>19.0</td>\n",
              "      <td>Gulbadin Naib</td>\n",
              "      <td>v Scotland</td>\n",
              "      <td>62.0</td>\n",
              "    </tr>\n",
              "    <tr>\n",
              "      <th>11148</th>\n",
              "      <td>19.0</td>\n",
              "      <td>Gulbadin Naib</td>\n",
              "      <td>v Ireland</td>\n",
              "      <td>62.0</td>\n",
              "    </tr>\n",
              "  </tbody>\n",
              "</table>\n",
              "<p>11149 rows × 4 columns</p>\n",
              "</div>"
            ],
            "text/plain": [
              "       Runs         Batsman    Opposition    SR\n",
              "0       5.0   Oshane Thomas       v India  46.0\n",
              "1       5.0   Oshane Thomas       v India  46.0\n",
              "2       5.0   Oshane Thomas       v India  46.0\n",
              "3       5.0   Oshane Thomas  v Bangladesh  46.0\n",
              "4       5.0   Oshane Thomas       v India  46.0\n",
              "...     ...             ...           ...   ...\n",
              "11144  46.0  Gulbadin Naib      v Ireland  76.0\n",
              "11145   3.0  Gulbadin Naib      v Ireland  50.0\n",
              "11146   1.0  Gulbadin Naib      v Ireland  13.0\n",
              "11147  19.0  Gulbadin Naib     v Scotland  62.0\n",
              "11148  19.0  Gulbadin Naib      v Ireland  62.0\n",
              "\n",
              "[11149 rows x 4 columns]"
            ]
          },
          "metadata": {},
          "execution_count": 41
        }
      ]
    },
    {
      "cell_type": "code",
      "source": [
        "ordered_cats = df.groupby(['Batsman'])[\"Runs\"].mean().sort_values().index"
      ],
      "metadata": {
        "id": "ymmVj8EET0e4"
      },
      "execution_count": null,
      "outputs": []
    },
    {
      "cell_type": "code",
      "source": [
        "ordered_cats"
      ],
      "metadata": {
        "colab": {
          "base_uri": "https://localhost:8080/"
        },
        "id": "3mWO9N8jUcrq",
        "outputId": "56045128-ff4c-4076-ec74-5c723aa4a47e"
      },
      "execution_count": null,
      "outputs": [
        {
          "output_type": "execute_result",
          "data": {
            "text/plain": [
              "Index(['Nicholas Pooran ', 'Tabraiz Shamsi', 'Mohammad Hasnain',\n",
              "       'Shannon Gabriel', 'Nuwan Pradeep', 'Jasprit Bumrah', 'Junaid Khan',\n",
              "       'Rubel Hossain', 'Mustafizur Rahman', 'Mujeeb Ur Rahman',\n",
              "       ...\n",
              "       'Quinton de Kock ', 'Babar Azam ', 'Rassie van der Dussen', 'Shai Hope',\n",
              "       'Hashim Amla', 'Fakhar Zaman', 'Virat Kohli ', 'Imam-ul-Haq',\n",
              "       'Abid Ali', 'Abu Jayed'],\n",
              "      dtype='object', name='Batsman', length=149)"
            ]
          },
          "metadata": {},
          "execution_count": 43
        }
      ]
    },
    {
      "cell_type": "code",
      "source": [
        "cat_map= {k: i for i, k in enumerate(ordered_cats, 0)} # Dictionary creation:"
      ],
      "metadata": {
        "id": "wyz39DM9Us_3"
      },
      "execution_count": null,
      "outputs": []
    },
    {
      "cell_type": "code",
      "source": [
        "df['Batsman_ordered'] = df['Batsman'].map(cat_map)"
      ],
      "metadata": {
        "colab": {
          "base_uri": "https://localhost:8080/"
        },
        "id": "38LGbqSxVeHt",
        "outputId": "7bbfee22-a5ca-4b81-e8ea-5f284e9639b2"
      },
      "execution_count": null,
      "outputs": [
        {
          "output_type": "stream",
          "name": "stderr",
          "text": [
            "/usr/local/lib/python3.7/dist-packages/ipykernel_launcher.py:1: SettingWithCopyWarning: \n",
            "A value is trying to be set on a copy of a slice from a DataFrame.\n",
            "Try using .loc[row_indexer,col_indexer] = value instead\n",
            "\n",
            "See the caveats in the documentation: https://pandas.pydata.org/pandas-docs/stable/user_guide/indexing.html#returning-a-view-versus-a-copy\n",
            "  \"\"\"Entry point for launching an IPython kernel.\n"
          ]
        }
      ]
    },
    {
      "cell_type": "code",
      "source": [
        "df"
      ],
      "metadata": {
        "colab": {
          "base_uri": "https://localhost:8080/",
          "height": 423
        },
        "id": "_nTpjqFoVn_w",
        "outputId": "f110497f-5bc1-4d0e-bac1-016dd31f4323"
      },
      "execution_count": null,
      "outputs": [
        {
          "output_type": "execute_result",
          "data": {
            "text/html": [
              "<div>\n",
              "<style scoped>\n",
              "    .dataframe tbody tr th:only-of-type {\n",
              "        vertical-align: middle;\n",
              "    }\n",
              "\n",
              "    .dataframe tbody tr th {\n",
              "        vertical-align: top;\n",
              "    }\n",
              "\n",
              "    .dataframe thead th {\n",
              "        text-align: right;\n",
              "    }\n",
              "</style>\n",
              "<table border=\"1\" class=\"dataframe\">\n",
              "  <thead>\n",
              "    <tr style=\"text-align: right;\">\n",
              "      <th></th>\n",
              "      <th>Runs</th>\n",
              "      <th>Batsman</th>\n",
              "      <th>Opposition</th>\n",
              "      <th>SR</th>\n",
              "      <th>Batsman_ordered</th>\n",
              "    </tr>\n",
              "  </thead>\n",
              "  <tbody>\n",
              "    <tr>\n",
              "      <th>0</th>\n",
              "      <td>5.0</td>\n",
              "      <td>Oshane Thomas</td>\n",
              "      <td>v India</td>\n",
              "      <td>46.0</td>\n",
              "      <td>13</td>\n",
              "    </tr>\n",
              "    <tr>\n",
              "      <th>1</th>\n",
              "      <td>5.0</td>\n",
              "      <td>Oshane Thomas</td>\n",
              "      <td>v India</td>\n",
              "      <td>46.0</td>\n",
              "      <td>13</td>\n",
              "    </tr>\n",
              "    <tr>\n",
              "      <th>2</th>\n",
              "      <td>5.0</td>\n",
              "      <td>Oshane Thomas</td>\n",
              "      <td>v India</td>\n",
              "      <td>46.0</td>\n",
              "      <td>13</td>\n",
              "    </tr>\n",
              "    <tr>\n",
              "      <th>3</th>\n",
              "      <td>5.0</td>\n",
              "      <td>Oshane Thomas</td>\n",
              "      <td>v Bangladesh</td>\n",
              "      <td>46.0</td>\n",
              "      <td>13</td>\n",
              "    </tr>\n",
              "    <tr>\n",
              "      <th>4</th>\n",
              "      <td>5.0</td>\n",
              "      <td>Oshane Thomas</td>\n",
              "      <td>v India</td>\n",
              "      <td>46.0</td>\n",
              "      <td>13</td>\n",
              "    </tr>\n",
              "    <tr>\n",
              "      <th>...</th>\n",
              "      <td>...</td>\n",
              "      <td>...</td>\n",
              "      <td>...</td>\n",
              "      <td>...</td>\n",
              "      <td>...</td>\n",
              "    </tr>\n",
              "    <tr>\n",
              "      <th>11144</th>\n",
              "      <td>46.0</td>\n",
              "      <td>Gulbadin Naib</td>\n",
              "      <td>v Ireland</td>\n",
              "      <td>76.0</td>\n",
              "      <td>60</td>\n",
              "    </tr>\n",
              "    <tr>\n",
              "      <th>11145</th>\n",
              "      <td>3.0</td>\n",
              "      <td>Gulbadin Naib</td>\n",
              "      <td>v Ireland</td>\n",
              "      <td>50.0</td>\n",
              "      <td>60</td>\n",
              "    </tr>\n",
              "    <tr>\n",
              "      <th>11146</th>\n",
              "      <td>1.0</td>\n",
              "      <td>Gulbadin Naib</td>\n",
              "      <td>v Ireland</td>\n",
              "      <td>13.0</td>\n",
              "      <td>60</td>\n",
              "    </tr>\n",
              "    <tr>\n",
              "      <th>11147</th>\n",
              "      <td>19.0</td>\n",
              "      <td>Gulbadin Naib</td>\n",
              "      <td>v Scotland</td>\n",
              "      <td>62.0</td>\n",
              "      <td>60</td>\n",
              "    </tr>\n",
              "    <tr>\n",
              "      <th>11148</th>\n",
              "      <td>19.0</td>\n",
              "      <td>Gulbadin Naib</td>\n",
              "      <td>v Ireland</td>\n",
              "      <td>62.0</td>\n",
              "      <td>60</td>\n",
              "    </tr>\n",
              "  </tbody>\n",
              "</table>\n",
              "<p>11149 rows × 5 columns</p>\n",
              "</div>"
            ],
            "text/plain": [
              "       Runs         Batsman    Opposition    SR  Batsman_ordered\n",
              "0       5.0   Oshane Thomas       v India  46.0               13\n",
              "1       5.0   Oshane Thomas       v India  46.0               13\n",
              "2       5.0   Oshane Thomas       v India  46.0               13\n",
              "3       5.0   Oshane Thomas  v Bangladesh  46.0               13\n",
              "4       5.0   Oshane Thomas       v India  46.0               13\n",
              "...     ...             ...           ...   ...              ...\n",
              "11144  46.0  Gulbadin Naib      v Ireland  76.0               60\n",
              "11145   3.0  Gulbadin Naib      v Ireland  50.0               60\n",
              "11146   1.0  Gulbadin Naib      v Ireland  13.0               60\n",
              "11147  19.0  Gulbadin Naib     v Scotland  62.0               60\n",
              "11148  19.0  Gulbadin Naib      v Ireland  62.0               60\n",
              "\n",
              "[11149 rows x 5 columns]"
            ]
          },
          "metadata": {},
          "execution_count": 46
        }
      ]
    },
    {
      "cell_type": "code",
      "source": [
        "df.tail(10)"
      ],
      "metadata": {
        "colab": {
          "base_uri": "https://localhost:8080/",
          "height": 363
        },
        "id": "fc4HxxCVVtX0",
        "outputId": "4353ec56-60bb-4472-d92a-f7fe3224d282"
      },
      "execution_count": null,
      "outputs": [
        {
          "output_type": "execute_result",
          "data": {
            "text/html": [
              "<div>\n",
              "<style scoped>\n",
              "    .dataframe tbody tr th:only-of-type {\n",
              "        vertical-align: middle;\n",
              "    }\n",
              "\n",
              "    .dataframe tbody tr th {\n",
              "        vertical-align: top;\n",
              "    }\n",
              "\n",
              "    .dataframe thead th {\n",
              "        text-align: right;\n",
              "    }\n",
              "</style>\n",
              "<table border=\"1\" class=\"dataframe\">\n",
              "  <thead>\n",
              "    <tr style=\"text-align: right;\">\n",
              "      <th></th>\n",
              "      <th>Runs</th>\n",
              "      <th>Batsman</th>\n",
              "      <th>Opposition</th>\n",
              "      <th>SR</th>\n",
              "      <th>Batsman_ordered</th>\n",
              "    </tr>\n",
              "  </thead>\n",
              "  <tbody>\n",
              "    <tr>\n",
              "      <th>11139</th>\n",
              "      <td>4.0</td>\n",
              "      <td>Gulbadin Naib</td>\n",
              "      <td>v Sri Lanka</td>\n",
              "      <td>80.0</td>\n",
              "      <td>60</td>\n",
              "    </tr>\n",
              "    <tr>\n",
              "      <th>11140</th>\n",
              "      <td>42.0</td>\n",
              "      <td>Gulbadin Naib</td>\n",
              "      <td>v Bangladesh</td>\n",
              "      <td>111.0</td>\n",
              "      <td>60</td>\n",
              "    </tr>\n",
              "    <tr>\n",
              "      <th>11141</th>\n",
              "      <td>10.0</td>\n",
              "      <td>Gulbadin Naib</td>\n",
              "      <td>v Pakistan</td>\n",
              "      <td>143.0</td>\n",
              "      <td>60</td>\n",
              "    </tr>\n",
              "    <tr>\n",
              "      <th>11142</th>\n",
              "      <td>0.0</td>\n",
              "      <td>Gulbadin Naib</td>\n",
              "      <td>v Bangladesh</td>\n",
              "      <td>0.0</td>\n",
              "      <td>60</td>\n",
              "    </tr>\n",
              "    <tr>\n",
              "      <th>11143</th>\n",
              "      <td>15.0</td>\n",
              "      <td>Gulbadin Naib</td>\n",
              "      <td>v India</td>\n",
              "      <td>33.0</td>\n",
              "      <td>60</td>\n",
              "    </tr>\n",
              "    <tr>\n",
              "      <th>11144</th>\n",
              "      <td>46.0</td>\n",
              "      <td>Gulbadin Naib</td>\n",
              "      <td>v Ireland</td>\n",
              "      <td>76.0</td>\n",
              "      <td>60</td>\n",
              "    </tr>\n",
              "    <tr>\n",
              "      <th>11145</th>\n",
              "      <td>3.0</td>\n",
              "      <td>Gulbadin Naib</td>\n",
              "      <td>v Ireland</td>\n",
              "      <td>50.0</td>\n",
              "      <td>60</td>\n",
              "    </tr>\n",
              "    <tr>\n",
              "      <th>11146</th>\n",
              "      <td>1.0</td>\n",
              "      <td>Gulbadin Naib</td>\n",
              "      <td>v Ireland</td>\n",
              "      <td>13.0</td>\n",
              "      <td>60</td>\n",
              "    </tr>\n",
              "    <tr>\n",
              "      <th>11147</th>\n",
              "      <td>19.0</td>\n",
              "      <td>Gulbadin Naib</td>\n",
              "      <td>v Scotland</td>\n",
              "      <td>62.0</td>\n",
              "      <td>60</td>\n",
              "    </tr>\n",
              "    <tr>\n",
              "      <th>11148</th>\n",
              "      <td>19.0</td>\n",
              "      <td>Gulbadin Naib</td>\n",
              "      <td>v Ireland</td>\n",
              "      <td>62.0</td>\n",
              "      <td>60</td>\n",
              "    </tr>\n",
              "  </tbody>\n",
              "</table>\n",
              "</div>"
            ],
            "text/plain": [
              "       Runs         Batsman    Opposition     SR  Batsman_ordered\n",
              "11139   4.0  Gulbadin Naib    v Sri Lanka   80.0               60\n",
              "11140  42.0  Gulbadin Naib   v Bangladesh  111.0               60\n",
              "11141  10.0  Gulbadin Naib     v Pakistan  143.0               60\n",
              "11142   0.0  Gulbadin Naib   v Bangladesh    0.0               60\n",
              "11143  15.0  Gulbadin Naib        v India   33.0               60\n",
              "11144  46.0  Gulbadin Naib      v Ireland   76.0               60\n",
              "11145   3.0  Gulbadin Naib      v Ireland   50.0               60\n",
              "11146   1.0  Gulbadin Naib      v Ireland   13.0               60\n",
              "11147  19.0  Gulbadin Naib     v Scotland   62.0               60\n",
              "11148  19.0  Gulbadin Naib      v Ireland   62.0               60"
            ]
          },
          "metadata": {},
          "execution_count": 47
        }
      ]
    },
    {
      "cell_type": "code",
      "source": [
        "df = df.sort_values(by=[\"Batsman_ordered\"])"
      ],
      "metadata": {
        "id": "3IClux_TV3Gs"
      },
      "execution_count": null,
      "outputs": []
    },
    {
      "cell_type": "code",
      "source": [
        "print(df.tail(150).to_string())"
      ],
      "metadata": {
        "colab": {
          "base_uri": "https://localhost:8080/"
        },
        "id": "TzaJtv-vXbKi",
        "outputId": "abcf1017-0ca4-42df-b1b5-64e33ed2efed"
      },
      "execution_count": null,
      "outputs": [
        {
          "output_type": "stream",
          "name": "stdout",
          "text": [
            "       Runs       Batsman      Opposition     SR  Batsman_ordered\n",
            "6694  102.0  Virat Kohli     v Bangladesh  108.0              145\n",
            "6693   71.0  Virat Kohli      v Sri Lanka  105.0              145\n",
            "6692   91.0  Virat Kohli     v Bangladesh   90.0              145\n",
            "6691    9.0  Virat Kohli      v Sri Lanka   75.0              145\n",
            "6690   50.0  Virat Kohli      v Sri Lanka   80.0              145\n",
            "6689  107.0  Virat Kohli      v Sri Lanka   94.0              145\n",
            "6688   54.0  Virat Kohli      v Sri Lanka   84.0              145\n",
            "6687   27.0  Virat Kohli      v Sri Lanka  143.0              145\n",
            "6686   10.0  Virat Kohli      v Australia   63.0              145\n",
            "6685   30.0  Virat Kohli      v Australia   74.0              145\n",
            "6684   79.0  Virat Kohli    v West Indies   76.0              145\n",
            "6683   50.0  Virat Kohli      v Australia   80.0              145\n",
            "6682   16.0  Virat Kohli       v Pakistan   67.0              145\n",
            "6681    2.0  Virat Kohli      v Sri Lanka  100.0              145\n",
            "6680   31.0  Virat Kohli      v Sri Lanka   68.0              145\n",
            "6679   54.0  Virat Kohli      v Sri Lanka   82.0              145\n",
            "6678   25.0  Virat Kohli      v Sri Lanka   66.0              145\n",
            "6677   37.0  Virat Kohli      v Sri Lanka   56.0              145\n",
            "6676   12.0  Virat Kohli      v Sri Lanka   55.0              145\n",
            "6697   50.0  Virat Kohli   v South Africa   80.0              145\n",
            "6724   12.0  Virat Kohli    v Netherlands   60.0              145\n",
            "6698   57.0  Virat Kohli   v South Africa   81.0              145\n",
            "6700   82.0  Virat Kohli      v Sri Lanka   90.0              145\n",
            "6722    8.0  Virat Kohli        v England  160.0              145\n",
            "6721  100.0  Virat Kohli     v Bangladesh  121.0              145\n",
            "6720    2.0  Virat Kohli   v South Africa   34.0              145\n",
            "6719   87.0  Virat Kohli   v South Africa   95.0              145\n",
            "6718   28.0  Virat Kohli   v South Africa   69.0              145\n",
            "6716   54.0  Virat Kohli   v South Africa   78.0              145\n",
            "6715    2.0  Virat Kohli    v New Zealand   25.0              145\n",
            "6714    0.0  Virat Kohli    v New Zealand    0.0              145\n",
            "6713   63.0  Virat Kohli    v New Zealand   90.0              145\n",
            "6712   64.0  Virat Kohli    v New Zealand   88.0              145\n",
            "6711  105.0  Virat Kohli    v New Zealand  101.0              145\n",
            "6710  118.0  Virat Kohli      v Australia   98.0              145\n",
            "6709   37.0  Virat Kohli      v Sri Lanka   65.0              145\n",
            "6708    8.0  Virat Kohli    v New Zealand   50.0              145\n",
            "6707    0.0  Virat Kohli      v Sri Lanka    0.0              145\n",
            "6706   28.0  Virat Kohli      v Sri Lanka   83.0              145\n",
            "6705   10.0  Virat Kohli      v Sri Lanka   72.0              145\n",
            "6704   18.0  Virat Kohli       v Pakistan   67.0              145\n",
            "6703   11.0  Virat Kohli     v Bangladesh   50.0              145\n",
            "6702   68.0  Virat Kohli      v Sri Lanka   72.0              145\n",
            "6701   18.0  Virat Kohli       v Zimbabwe   63.0              145\n",
            "6699    0.0  Virat Kohli       v Zimbabwe   80.0              145\n",
            "6775   22.0  Virat Kohli    v West Indies  123.0              145\n",
            "6717   22.0  Virat Kohli   v South Africa   65.0              145\n",
            "6777   58.0  Virat Kohli      v Sri Lanka   91.0              145\n",
            "6810    0.0  Virat Kohli        v England    0.0              145\n",
            "6833    1.0  Virat Kohli      v Australia    8.0              145\n",
            "6834    1.0  Virat Kohli     v Bangladesh   25.0              145\n",
            "6776   22.0  Virat Kohli       v Pakistan   82.0              145\n",
            "6835   23.0  Virat Kohli     v Bangladesh   86.0              145\n",
            "6836   25.0  Virat Kohli     v Bangladesh   72.0              145\n",
            "6837   11.0  Virat Kohli   v South Africa   62.0              145\n",
            "6838   12.0  Virat Kohli   v South Africa   67.0              145\n",
            "6839   77.0  Virat Kohli   v South Africa   78.0              145\n",
            "6840  138.0  Virat Kohli   v South Africa   99.0              145\n",
            "6841    7.0  Virat Kohli   v South Africa  117.0              145\n",
            "6842   91.0  Virat Kohli      v Australia   94.0              145\n",
            "6843   59.0  Virat Kohli      v Australia   89.0              145\n",
            "6844  117.0  Virat Kohli      v Australia  100.0              145\n",
            "6845  106.0  Virat Kohli      v Australia  116.0              145\n",
            "6811   40.0  Virat Kohli        v England   80.0              145\n",
            "6812    1.0  Virat Kohli        v England   34.0              145\n",
            "6813   13.0  Virat Kohli        v England   62.0              145\n",
            "6814    2.0  Virat Kohli    v West Indies   40.0              145\n",
            "6830   44.0  Virat Kohli        v Ireland  105.0              145\n",
            "6829   33.0  Virat Kohli    v West Indies   92.0              145\n",
            "6828   33.0  Virat Kohli         v U.A.E.   81.0              145\n",
            "6827   46.0  Virat Kohli   v South Africa   77.0              145\n",
            "6826  107.0  Virat Kohli       v Pakistan   85.0              145\n",
            "6825    8.0  Virat Kohli        v England   43.0              145\n",
            "6824    3.0  Virat Kohli      v Australia   34.0              145\n",
            "6846    8.0  Virat Kohli      v Australia   73.0              145\n",
            "6823    4.0  Virat Kohli        v England   50.0              145\n",
            "6821  139.0  Virat Kohli      v Sri Lanka  111.0              145\n",
            "6820   66.0  Virat Kohli      v Sri Lanka  104.0              145\n",
            "6819   53.0  Virat Kohli      v Sri Lanka   87.0              145\n",
            "6818   49.0  Virat Kohli      v Sri Lanka  112.0              145\n",
            "6817   22.0  Virat Kohli      v Sri Lanka  105.0              145\n",
            "6816  127.0  Virat Kohli    v West Indies  112.0              145\n",
            "6815   62.0  Virat Kohli    v West Indies   80.0              145\n",
            "6822    9.0  Virat Kohli      v Australia   57.0              145\n",
            "6831   38.0  Virat Kohli       v Zimbabwe   80.0              145\n",
            "6832    3.0  Virat Kohli     v Bangladesh   38.0              145\n",
            "6794    0.0  Virat Kohli      v Australia    0.0              145\n",
            "6783    2.0  Virat Kohli      v Sri Lanka   40.0              145\n",
            "6784  115.0  Virat Kohli       v Zimbabwe  107.0              145\n",
            "6785   14.0  Virat Kohli       v Zimbabwe   78.0              145\n",
            "6786   68.0  Virat Kohli       v Zimbabwe   78.0              145\n",
            "6787   50.0  Virat Kohli       v Zimbabwe   80.0              145\n",
            "6788   50.0  Virat Kohli       v Zimbabwe   80.0              145\n",
            "6789   61.0  Virat Kohli      v Australia   72.0              145\n",
            "6790  100.0  Virat Kohli      v Australia  193.0              145\n",
            "6791   68.0  Virat Kohli      v Australia   94.0              145\n",
            "6792   50.0  Virat Kohli      v Australia   80.0              145\n",
            "6793  115.0  Virat Kohli      v Australia  175.0              145\n",
            "6780    2.0  Virat Kohli      v Sri Lanka   40.0              145\n",
            "6795   86.0  Virat Kohli    v West Indies  103.0              145\n",
            "6796   99.0  Virat Kohli    v West Indies   99.0              145\n",
            "6797   19.0  Virat Kohli    v West Indies  106.0              145\n",
            "6798   31.0  Virat Kohli   v South Africa   89.0              145\n",
            "6799    0.0  Virat Kohli   v South Africa    0.0              145\n",
            "6800   50.0  Virat Kohli   v South Africa   80.0              145\n",
            "6801  123.0  Virat Kohli    v New Zealand  111.0              145\n",
            "6802   78.0  Virat Kohli    v New Zealand  120.0              145\n",
            "6803    6.0  Virat Kohli    v New Zealand   30.0              145\n",
            "6804    2.0  Virat Kohli    v New Zealand   20.0              145\n",
            "6806  136.0  Virat Kohli     v Bangladesh  112.0              145\n",
            "6807   48.0  Virat Kohli      v Sri Lanka   95.0              145\n",
            "6808    5.0  Virat Kohli       v Pakistan   46.0              145\n",
            "6809   50.0  Virat Kohli    v Afghanistan   80.0              145\n",
            "6779   11.0  Virat Kohli    v West Indies   53.0              145\n",
            "6778   43.0  Virat Kohli        v England  127.0              145\n",
            "6782   31.0  Virat Kohli      v Sri Lanka   60.0              145\n",
            "6781  102.0  Virat Kohli    v West Indies  123.0              145\n",
            "3655  100.0   Imam-ul-Haq     v Sri Lanka   80.0              146\n",
            "3659  128.0   Imam-ul-Haq      v Zimbabwe   96.0              146\n",
            "3656    2.0   Imam-ul-Haq     v Sri Lanka   67.0              146\n",
            "3657   45.0   Imam-ul-Haq     v Sri Lanka   71.0              146\n",
            "3658    2.0   Imam-ul-Haq   v New Zealand   19.0              146\n",
            "3660   44.0   Imam-ul-Haq      v Zimbabwe   87.0              146\n",
            "3661    0.0   Imam-ul-Haq      v Zimbabwe    0.0              146\n",
            "3664   50.0   Imam-ul-Haq     v Hong Kong   73.0              146\n",
            "3663  110.0   Imam-ul-Haq      v Zimbabwe  105.0              146\n",
            "3682    6.0   Imam-ul-Haq       v England   30.0              146\n",
            "3681  151.0   Imam-ul-Haq       v England  116.0              146\n",
            "3680   35.0   Imam-ul-Haq       v England   80.0              146\n",
            "3679   42.0   Imam-ul-Haq       v England   62.0              146\n",
            "3678   46.0   Imam-ul-Haq     v Australia   64.0              146\n",
            "3677    0.0   Imam-ul-Haq     v Australia    0.0              146\n",
            "3662  113.0   Imam-ul-Haq      v Zimbabwe   93.0              146\n",
            "3675    8.0   Imam-ul-Haq  v South Africa   80.0              146\n",
            "3674   71.0   Imam-ul-Haq  v South Africa   79.0              146\n",
            "3676   17.0   Imam-ul-Haq     v Australia   63.0              146\n",
            "3672    5.0   Imam-ul-Haq  v South Africa   36.0              146\n",
            "3671   86.0   Imam-ul-Haq  v South Africa   86.0              146\n",
            "3670   16.0   Imam-ul-Haq   v New Zealand   48.0              146\n",
            "3669   34.0   Imam-ul-Haq   v New Zealand   74.0              146\n",
            "3668   83.0   Imam-ul-Haq    v Bangladesh   80.0              146\n",
            "3667   10.0   Imam-ul-Haq         v India   50.0              146\n",
            "3666   80.0   Imam-ul-Haq   v Afghanistan   77.0              146\n",
            "3665    2.0   Imam-ul-Haq         v India   29.0              146\n",
            "3673  101.0   Imam-ul-Haq  v South Africa   88.0              146\n",
            "3652  112.0      Abid Ali     v Australia   95.0              147\n",
            "3654   56.0      Abid Ali       v England   48.0              147\n",
            "3653    0.0      Abid Ali     v Australia    0.0              147\n",
            "8152    NaN     Abu Jayed   v West Indies    NaN              148\n",
            "8153    NaN     Abu Jayed       v Ireland    NaN              148\n"
          ]
        }
      ]
    },
    {
      "cell_type": "code",
      "source": [],
      "metadata": {
        "id": "Qk1xSOZXXFQ5"
      },
      "execution_count": null,
      "outputs": []
    }
  ]
}